{
  "nbformat": 4,
  "nbformat_minor": 0,
  "metadata": {
    "colab": {
      "provenance": [],
      "authorship_tag": "ABX9TyP34B7YdvwQGTSki3xfmENb",
      "include_colab_link": true
    },
    "kernelspec": {
      "name": "python3",
      "display_name": "Python 3"
    },
    "language_info": {
      "name": "python"
    }
  },
  "cells": [
    {
      "cell_type": "markdown",
      "metadata": {
        "id": "view-in-github",
        "colab_type": "text"
      },
      "source": [
        "<a href=\"https://colab.research.google.com/github/meeks627/BeyondAI-KANs-vs-MLPs-Colab-Code/blob/main/Cancer_Dataset_Review.ipynb\" target=\"_parent\"><img src=\"https://colab.research.google.com/assets/colab-badge.svg\" alt=\"Open In Colab\"/></a>"
      ]
    },
    {
      "cell_type": "markdown",
      "metadata": {
        "id": "FRVmujAS_5KM"
      },
      "source": [
        "##Import Necessary Libraries"
      ]
    },
    {
      "cell_type": "code",
      "execution_count": 12,
      "metadata": {
        "colab": {
          "base_uri": "https://localhost:8080/"
        },
        "collapsed": true,
        "id": "BcXEEdI7_JeR",
        "outputId": "ff11bd61-a6e2-4ef7-c7e7-6d24ddc8915a"
      },
      "outputs": [
        {
          "output_type": "stream",
          "name": "stdout",
          "text": [
            "Collecting git+https://github.com/KindXiaoming/pykan.git\n",
            "  Cloning https://github.com/KindXiaoming/pykan.git to /tmp/pip-req-build-7lltuq1r\n",
            "  Running command git clone --filter=blob:none --quiet https://github.com/KindXiaoming/pykan.git /tmp/pip-req-build-7lltuq1r\n",
            "  Resolved https://github.com/KindXiaoming/pykan.git to commit f871c26d4df788ec1ba309c2c9c1803d82606b06\n",
            "  Preparing metadata (setup.py) ... \u001b[?25l\u001b[?25hdone\n"
          ]
        }
      ],
      "source": [
        "!pip install git+https://github.com/KindXiaoming/pykan.git"
      ]
    },
    {
      "cell_type": "code",
      "source": [
        "import pandas as pd\n",
        "import matplotlib.pyplot as plt\n",
        "import torch\n",
        "import torch.nn as nn\n",
        "from kan import *\n",
        "from sklearn.neural_network import MLPClassifier\n",
        "from sklearn.model_selection import train_test_split\n",
        "from sklearn.model_selection import RandomizedSearchCV\n",
        "from sklearn.metrics import accuracy_score, confusion_matrix, recall_score, classification_report\n",
        "from sklearn.preprocessing import StandardScaler\n",
        "import time\n",
        "import warnings\n",
        "warnings.filterwarnings(\"ignore\")"
      ],
      "metadata": {
        "id": "OtDshUPVgoba"
      },
      "execution_count": 13,
      "outputs": []
    },
    {
      "cell_type": "markdown",
      "metadata": {
        "id": "viFNCJ0n_4Gw"
      },
      "source": [
        "##Models"
      ]
    },
    {
      "cell_type": "markdown",
      "source": [
        "The models are being called here along with the number of layers, activation function and other hyperparameters needed for the initial run"
      ],
      "metadata": {
        "id": "E8bN5Mjkgygj"
      }
    },
    {
      "cell_type": "code",
      "execution_count": 14,
      "metadata": {
        "colab": {
          "base_uri": "https://localhost:8080/"
        },
        "id": "-jPhfJ1l_1sT",
        "outputId": "cf1358e6-7c68-4254-dc50-94512fad64d5"
      },
      "outputs": [
        {
          "output_type": "stream",
          "name": "stdout",
          "text": [
            "checkpoint directory created: ./model\n",
            "saving model version 0.0\n"
          ]
        }
      ],
      "source": [
        "#MLP Model\n",
        "mlp = MLPClassifier(hidden_layer_sizes=(5,5,5),\n",
        "                    max_iter=1,\n",
        "                    activation='tanh',\n",
        "                    learning_rate='adaptive',\n",
        "                    alpha= 0.1,\n",
        "                    solver='adam',\n",
        "                    random_state=42,\n",
        "                    verbose = False)\n",
        "\n",
        "#KAN Model\n",
        "width = [9,5,5,5,2] # should be adjusted based on dataset\n",
        "kan = KAN(width=width, grid=5, k=3, seed=42)"
      ]
    },
    {
      "cell_type": "markdown",
      "metadata": {
        "id": "RXqFvEH1BNB1"
      },
      "source": [
        "#Functions"
      ]
    },
    {
      "cell_type": "markdown",
      "source": [
        "All the functions to be used for calculating the accuracies, losses, precision, recall, confusion matrix. The function to plot the graph is also written here."
      ],
      "metadata": {
        "id": "odZ0X2nOhGQh"
      }
    },
    {
      "cell_type": "markdown",
      "source": [
        "##Model Functions"
      ],
      "metadata": {
        "id": "gEgXBgcVMZhE"
      }
    },
    {
      "cell_type": "code",
      "execution_count": 24,
      "metadata": {
        "id": "L7ex_yBiBW3P"
      },
      "outputs": [],
      "source": [
        "def MLP_run(mlp,X_train,y_train,X_test,y_test):\n",
        "  y_train = torch.tensor(y_train, dtype=torch.float32)\n",
        "  y_test = torch.tensor(y_test, dtype=torch.float32)\n",
        "  criterion = nn.MSELoss()\n",
        "  start_time = time.time()\n",
        "  mlp.partial_fit(X_train, y_train, classes=np.unique(y_train))\n",
        "  y_pred_train = mlp.predict(X_train)\n",
        "  train_acc = accuracy_score(y_train, y_pred_train)\n",
        "  train_loss = criterion(torch.tensor(y_pred_train, dtype=torch.float32), torch.tensor(y_train, dtype=torch.float32))\n",
        "\n",
        "  y_pred_test = mlp.predict(X_test)\n",
        "  test_acc = accuracy_score(y_test, y_pred_test)\n",
        "  test_loss = criterion(torch.tensor(y_pred_test, dtype=torch.float32), torch.tensor(y_test, dtype=torch.float32))\n",
        "  end_time = time.time()\n",
        "  MLP_Execution_Time = end_time - start_time\n",
        "  return train_acc, test_acc, train_loss, test_loss, MLP_Execution_Time\n",
        "\n",
        "\n",
        "def KAN_run(model,X_train,y_train,X_test,y_test,epochs):\n",
        "  y_train = torch.tensor(y_train, dtype=torch.long)\n",
        "  y_test = torch.tensor(y_test, dtype=torch.long)\n",
        "  optimizer = torch.optim.Adam(model.parameters(), lr=0.1)\n",
        "  loss_fn = nn.CrossEntropyLoss()\n",
        "  kan_train_accuracy = []\n",
        "  kan_test_accuracy = []\n",
        "  kan_train_loss = []\n",
        "  kan_test_loss = []\n",
        "  starting_time = time.time()\n",
        "  for epoch in range(epochs): #training\n",
        "    optimizer.zero_grad()\n",
        "    outputs = model(X_train)\n",
        "    predicted = torch.argmax(outputs, dim=1)\n",
        "    train_accuracy = accuracy_score(y_train, predicted)\n",
        "    train_loss = loss_fn(outputs, y_train)\n",
        "    train_loss.backward()\n",
        "    optimizer.step()\n",
        "    kan_train_accuracy.append(train_accuracy)\n",
        "    kan_train_loss.append(train_loss.item())\n",
        "    if (epoch + 1) % 10 == 0:\n",
        "      print(f'Epoch [{epoch+1}/{epochs}],KAN Train Loss: {train_loss.item():.3f}, KAN Train Accuracy: {train_accuracy}')\n",
        "  for epoch in range(epochs): # testing\n",
        "    predicted = model(x_test_tensor)\n",
        "    test_accuracy = accuracy_score(y_test_tensor, predicted.argmax(1))\n",
        "    test_loss = loss_fn(predicted, y_test_tensor)\n",
        "    kan_test_accuracy.append(test_accuracy)\n",
        "    kan_test_loss.append(test_loss.item())\n",
        "    if (epoch + 1) % 10 == 0:\n",
        "      print(f'Epoch [{epoch+1}/{epochs}],KAN Test Loss: {test_loss.item():.3f},KAN Test Accuracy: {test_accuracy:.3f}')\n",
        "  final_time = time.time()\n",
        "  KAN_Execution_Time = final_time - starting_time\n",
        "  return kan_train_accuracy, kan_test_accuracy, kan_train_loss, kan_test_loss, KAN_Execution_Time"
      ]
    },
    {
      "cell_type": "markdown",
      "source": [
        "##Model Run Function"
      ],
      "metadata": {
        "id": "QuDnSAvzc2lt"
      }
    },
    {
      "cell_type": "code",
      "execution_count": 16,
      "metadata": {
        "id": "lxvrmcWvC1Ue"
      },
      "outputs": [],
      "source": [
        "def run_models(epochs):\n",
        "  train_accuracies,test_accuracies,train_losses,test_losses = [],[],[],[]\n",
        "  execution_time = 0\n",
        "  for i in range(epochs):\n",
        "    mlp_model_run = MLP_run(mlp,x_train_tensor,y_train_tensor,x_test_tensor,y_test_tensor)\n",
        "    execution_time += mlp_model_run[4]\n",
        "    train_accuracies.append(mlp_model_run[0])\n",
        "    test_accuracies.append(mlp_model_run[1])\n",
        "    train_losses.append(mlp_model_run[2])\n",
        "    test_losses.append(mlp_model_run[3])\n",
        "    if (i + 1) % 10 == 0:\n",
        "      print(f'Epoch [{i+1}/{epochs}],MLP Train Loss: {mlp_model_run[2]:.3f}, MLP Train Accuracy: {mlp_model_run[0]}')\n",
        "  print()\n",
        "  for i in range(epochs):\n",
        "    if (i +1)% 10 == 0:\n",
        "      print(f'Epoch [{i+1}/{epochs}],MLP Test Loss: {mlp_model_run[3]:.3f}, MLP Test Accuracy: {mlp_model_run[1]}')\n",
        "  mlp_metrics = [train_accuracies,test_accuracies,train_losses,test_losses]\n",
        "  print(f'MLP Execution time: {execution_time:.2f} seconds')\n",
        "  print()\n",
        "  kan_model_run = KAN_run(kan,x_train_tensor,y_train_tensor,x_test_tensor,y_test_tensor,epochs)\n",
        "  kan_metrics = [kan_model_run[0],kan_model_run[1],kan_model_run[2],kan_model_run[3]]\n",
        "  print(f'KAN Execution time: {kan_model_run[4]:.2f} seconds')\n",
        "\n",
        "  return mlp_metrics,kan_metrics"
      ]
    },
    {
      "cell_type": "markdown",
      "metadata": {
        "id": "hI3eyPDc1gbD"
      },
      "source": [
        "##Plot Function"
      ]
    },
    {
      "cell_type": "code",
      "execution_count": 17,
      "metadata": {
        "id": "LUsqvwwO1eq7"
      },
      "outputs": [],
      "source": [
        "def plot_comparison_over_epochs(mlp_metrics,kan_metrics, num_epochs):\n",
        "    epochs = range(1, num_epochs + 1)\n",
        "    mlp_train_acc, mlp_test_acc, mlp_train_loss, mlp_test_loss = mlp_metrics\n",
        "    kan_train_acc, kan_test_acc, kan_train_loss, kan_test_loss = kan_metrics\n",
        "\n",
        "    plt.figure(figsize=(10,6))\n",
        "\n",
        "    # Graph of Train Accuracy for both models over number of epochs\n",
        "    plt.subplot(221)\n",
        "    plt.plot(epochs, mlp_train_acc, label='MLP Train Accuracy',color='blue' )\n",
        "    plt.plot(epochs, mlp_test_acc, label='MLP Test Accuracy',color='red' )\n",
        "    plt.xlabel('Epochs')\n",
        "    plt.ylabel('Accuracy')\n",
        "    plt.title('MLP Train and Test Accuracy Over Epochs')\n",
        "    plt.legend()\n",
        "\n",
        "    # Graph of Test Accuracy for both models over number of epochs\n",
        "    plt.subplot(222)\n",
        "    plt.plot(epochs, kan_train_acc, label='KAN Train Accuracy',color='blue')\n",
        "    plt.plot(epochs, kan_test_acc, label='KAN Test Accuracy',color='red')\n",
        "    plt.xlabel('Epochs')\n",
        "    plt.ylabel('Accuracy')\n",
        "    plt.title('KAN Train and Test Accuracy Over Epochs')\n",
        "    plt.legend()\n",
        "\n",
        "    # Graph of loss of both models during training\n",
        "    plt.subplot(223)\n",
        "    plt.plot(epochs, mlp_train_loss, label='MLP Train Loss')\n",
        "    plt.plot(epochs, kan_train_loss, label='KAN Train Loss')\n",
        "    plt.xlabel('Epochs')\n",
        "    plt.ylabel('Loss')\n",
        "    plt.title('Training Loss Over Epochs')\n",
        "    plt.legend()\n",
        "\n",
        "    plt.tight_layout()\n",
        "    plt.show()"
      ]
    },
    {
      "cell_type": "markdown",
      "source": [
        "##Comparison Criteria Functions"
      ],
      "metadata": {
        "id": "TMS-nQNQaqwE"
      }
    },
    {
      "cell_type": "code",
      "source": [
        "def criteria_comparison(mlp,kan,x_test_tensor,y_test_tensor):\n",
        "  mlp_classification= classification_report(y_test_tensor, mlp.predict(x_test_tensor))\n",
        "  kan_classification = classification_report(y_test_tensor, kan(x_test_tensor).argmax(1))\n",
        "  mlp_confusion = confusion_matrix(y_test_tensor, mlp.predict(x_test_tensor))\n",
        "  kan_confusion = confusion_matrix(y_test_tensor, kan(x_test_tensor).argmax(1))\n",
        "  print(f'MLP Classification Report:\\n{mlp_classification}')\n",
        "  print(f'KAN Classification Report:\\n{kan_classification}')\n",
        "  print(f'MLP Confusion Matrix:\\n{mlp_confusion}')\n",
        "  print(f'KAN Confusion Matrix:\\n{kan_confusion}')"
      ],
      "metadata": {
        "id": "O5i0dI9bavhf"
      },
      "execution_count": 28,
      "outputs": []
    },
    {
      "cell_type": "markdown",
      "source": [
        "#Dataset"
      ],
      "metadata": {
        "id": "3wE_1Z3gMOp7"
      }
    },
    {
      "cell_type": "markdown",
      "source": [
        "The dataset to be used for the analysis is loaded here as well as preparation for the dataset using standard scaler(to make every feature have a mean of 0 and a standard deviation of 1) for faster convergence and imporved performance"
      ],
      "metadata": {
        "id": "VyF72oCtiP-2"
      }
    },
    {
      "cell_type": "markdown",
      "metadata": {
        "id": "cDe6EHenCQT0"
      },
      "source": [
        "##Load Dataset"
      ]
    },
    {
      "cell_type": "code",
      "execution_count": 19,
      "metadata": {
        "id": "VLD4BDBHCTRr"
      },
      "outputs": [],
      "source": [
        "url_wisconsin_breast_cancer = 'https://archive.ics.uci.edu/ml/machine-learning-databases/breast-cancer-wisconsin/breast-cancer-wisconsin.data'\n",
        "df = pd.read_csv(url_wisconsin_breast_cancer, header=None)\n",
        "df[10]=df[10].replace(2,0)\n",
        "df[10]=df[10].replace(4,1)\n",
        "x = df.drop([6, 10], axis=1).values\n",
        "y = df[10].values"
      ]
    },
    {
      "cell_type": "markdown",
      "metadata": {
        "id": "qSsKZk7TCafa"
      },
      "source": [
        "##Prepare Dataset"
      ]
    },
    {
      "cell_type": "code",
      "execution_count": 20,
      "metadata": {
        "id": "bHLgU-5yCZLj"
      },
      "outputs": [],
      "source": [
        "x_train, x_test, y_train, y_test = train_test_split(x, y, test_size=0.4, random_state=42)\n",
        "# Standardize features\n",
        "scaler = StandardScaler()\n",
        "X_train = scaler.fit_transform(x_train)\n",
        "X_test = scaler.transform(x_test)\n",
        "# Converting data to tensors\n",
        "x_train_tensor = torch.tensor(X_train, dtype=torch.float32)\n",
        "y_train_tensor = torch.tensor(y_train)\n",
        "x_test_tensor = torch.tensor(X_test, dtype=torch.float32)\n",
        "y_test_tensor = torch.tensor(y_test)"
      ]
    },
    {
      "cell_type": "markdown",
      "metadata": {
        "id": "WgRQmGitCypQ"
      },
      "source": [
        "# Runing the model\n"
      ]
    },
    {
      "cell_type": "markdown",
      "source": [
        "Running the models over epochs\n",
        "\n",
        "Plotting the accuracies and loss over epochs\n",
        "\n",
        "Calculating other comparison criteria\n",
        "\n"
      ],
      "metadata": {
        "id": "EZChtkRsjq7Z"
      }
    },
    {
      "cell_type": "markdown",
      "source": [
        "## Runing each model"
      ],
      "metadata": {
        "id": "wLfc0P1GNGzu"
      }
    },
    {
      "cell_type": "code",
      "source": [
        "epochs = 100\n",
        "mlp_metrics,kan_metrics = run_models(epochs)"
      ],
      "metadata": {
        "colab": {
          "base_uri": "https://localhost:8080/"
        },
        "id": "FjZENRdneG24",
        "outputId": "7e02f9d1-a2a6-4bec-9b55-1e4d1ac622b4"
      },
      "execution_count": 25,
      "outputs": [
        {
          "output_type": "stream",
          "name": "stdout",
          "text": [
            "Epoch [10/100],MLP Train Loss: 0.043, MLP Train Accuracy: 0.9570405727923628\n",
            "Epoch [20/100],MLP Train Loss: 0.043, MLP Train Accuracy: 0.9570405727923628\n",
            "Epoch [30/100],MLP Train Loss: 0.043, MLP Train Accuracy: 0.9570405727923628\n",
            "Epoch [40/100],MLP Train Loss: 0.043, MLP Train Accuracy: 0.9570405727923628\n",
            "Epoch [50/100],MLP Train Loss: 0.041, MLP Train Accuracy: 0.9594272076372315\n",
            "Epoch [60/100],MLP Train Loss: 0.041, MLP Train Accuracy: 0.9594272076372315\n",
            "Epoch [70/100],MLP Train Loss: 0.041, MLP Train Accuracy: 0.9594272076372315\n",
            "Epoch [80/100],MLP Train Loss: 0.041, MLP Train Accuracy: 0.9594272076372315\n",
            "Epoch [90/100],MLP Train Loss: 0.041, MLP Train Accuracy: 0.9594272076372315\n",
            "Epoch [100/100],MLP Train Loss: 0.041, MLP Train Accuracy: 0.9594272076372315\n",
            "\n",
            "Epoch [10/100],MLP Test Loss: 0.029, MLP Test Accuracy: 0.9714285714285714\n",
            "Epoch [20/100],MLP Test Loss: 0.029, MLP Test Accuracy: 0.9714285714285714\n",
            "Epoch [30/100],MLP Test Loss: 0.029, MLP Test Accuracy: 0.9714285714285714\n",
            "Epoch [40/100],MLP Test Loss: 0.029, MLP Test Accuracy: 0.9714285714285714\n",
            "Epoch [50/100],MLP Test Loss: 0.029, MLP Test Accuracy: 0.9714285714285714\n",
            "Epoch [60/100],MLP Test Loss: 0.029, MLP Test Accuracy: 0.9714285714285714\n",
            "Epoch [70/100],MLP Test Loss: 0.029, MLP Test Accuracy: 0.9714285714285714\n",
            "Epoch [80/100],MLP Test Loss: 0.029, MLP Test Accuracy: 0.9714285714285714\n",
            "Epoch [90/100],MLP Test Loss: 0.029, MLP Test Accuracy: 0.9714285714285714\n",
            "Epoch [100/100],MLP Test Loss: 0.029, MLP Test Accuracy: 0.9714285714285714\n",
            "MLP Execution time: 0.84 seconds\n",
            "\n",
            "Epoch [10/100],KAN Train Loss: 0.077, KAN Train Accuracy: 0.9761336515513126\n",
            "Epoch [20/100],KAN Train Loss: 0.027, KAN Train Accuracy: 0.9976133651551312\n",
            "Epoch [30/100],KAN Train Loss: 0.015, KAN Train Accuracy: 0.9976133651551312\n",
            "Epoch [40/100],KAN Train Loss: 0.009, KAN Train Accuracy: 0.9976133651551312\n",
            "Epoch [50/100],KAN Train Loss: 0.008, KAN Train Accuracy: 0.9976133651551312\n",
            "Epoch [60/100],KAN Train Loss: 0.007, KAN Train Accuracy: 0.9976133651551312\n",
            "Epoch [70/100],KAN Train Loss: 0.005, KAN Train Accuracy: 0.9976133651551312\n",
            "Epoch [80/100],KAN Train Loss: 0.002, KAN Train Accuracy: 1.0\n",
            "Epoch [90/100],KAN Train Loss: 0.003, KAN Train Accuracy: 0.9976133651551312\n",
            "Epoch [100/100],KAN Train Loss: 0.035, KAN Train Accuracy: 0.9976133651551312\n",
            "Epoch [10/100],KAN Test Loss: 0.368,KAN Test Accuracy: 0.950\n",
            "Epoch [20/100],KAN Test Loss: 0.368,KAN Test Accuracy: 0.950\n",
            "Epoch [30/100],KAN Test Loss: 0.368,KAN Test Accuracy: 0.950\n",
            "Epoch [40/100],KAN Test Loss: 0.368,KAN Test Accuracy: 0.950\n",
            "Epoch [50/100],KAN Test Loss: 0.368,KAN Test Accuracy: 0.950\n",
            "Epoch [60/100],KAN Test Loss: 0.368,KAN Test Accuracy: 0.950\n",
            "Epoch [70/100],KAN Test Loss: 0.368,KAN Test Accuracy: 0.950\n",
            "Epoch [80/100],KAN Test Loss: 0.368,KAN Test Accuracy: 0.950\n",
            "Epoch [90/100],KAN Test Loss: 0.368,KAN Test Accuracy: 0.950\n",
            "Epoch [100/100],KAN Test Loss: 0.368,KAN Test Accuracy: 0.950\n",
            "KAN Execution time: 12.00 seconds\n"
          ]
        }
      ]
    },
    {
      "cell_type": "markdown",
      "source": [
        "##Plotting Accuracy and Loss function"
      ],
      "metadata": {
        "id": "rYu5fWPLM9hp"
      }
    },
    {
      "cell_type": "code",
      "source": [
        "plot_comparison_over_epochs(mlp_metrics, kan_metrics,epochs)"
      ],
      "metadata": {
        "id": "VMblm0kIM6DX",
        "colab": {
          "base_uri": "https://localhost:8080/",
          "height": 607
        },
        "outputId": "139540eb-e5fc-48a1-82db-1a3e3794c9db"
      },
      "execution_count": 26,
      "outputs": [
        {
          "output_type": "display_data",
          "data": {
            "text/plain": [
              "<Figure size 1000x600 with 3 Axes>"
            ],
            "image/png": "[encoded data removed]"
          },
          "metadata": {}
        }
      ]
    },
    {
      "cell_type": "markdown",
      "source": [
        "## Calculating the f1 score, precision, recall, and the confusion matrix (how well each model classifies each classes)"
      ],
      "metadata": {
        "id": "mqs77K5yjNS0"
      }
    },
    {
      "cell_type": "code",
      "source": [
        "criteria_comparison(mlp,kan,x_test_tensor,y_test_tensor)"
      ],
      "metadata": {
        "colab": {
          "base_uri": "https://localhost:8080/"
        },
        "id": "YcYaLIgBZexa",
        "outputId": "f7e35ce0-9ea8-465f-9789-f058070363e7"
      },
      "execution_count": 29,
      "outputs": [
        {
          "output_type": "stream",
          "name": "stdout",
          "text": [
            "MLP Classification Report:\n",
            "              precision    recall  f1-score   support\n",
            "\n",
            "           0       0.98      0.97      0.98       185\n",
            "           1       0.95      0.97      0.96        95\n",
            "\n",
            "    accuracy                           0.97       280\n",
            "   macro avg       0.97      0.97      0.97       280\n",
            "weighted avg       0.97      0.97      0.97       280\n",
            "\n",
            "KAN Classification Report:\n",
            "              precision    recall  f1-score   support\n",
            "\n",
            "           0       0.95      0.97      0.96       185\n",
            "           1       0.95      0.91      0.92        95\n",
            "\n",
            "    accuracy                           0.95       280\n",
            "   macro avg       0.95      0.94      0.94       280\n",
            "weighted avg       0.95      0.95      0.95       280\n",
            "\n",
            "MLP Confusion Matrix:\n",
            "[[180   5]\n",
            " [  3  92]]\n",
            "KAN Confusion Matrix:\n",
            "[[180   5]\n",
            " [  9  86]]\n"
          ]
        }
      ]
    }
  ]
}
