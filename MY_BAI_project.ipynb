{
  "nbformat": 4,
  "nbformat_minor": 0,
  "metadata": {
    "colab": {
      "provenance": [],
      "authorship_tag": "ABX9TyO22epOeemBhMlMnJkQluy5",
      "include_colab_link": true
    },
    "kernelspec": {
      "name": "python3",
      "display_name": "Python 3"
    },
    "language_info": {
      "name": "python"
    }
  },
  "cells": [
    {
      "cell_type": "markdown",
      "metadata": {
        "id": "view-in-github",
        "colab_type": "text"
      },
      "source": [
        "<a href=\"https://colab.research.google.com/github/meeks627/BeyondAI-KANs-vs-MLPs-Colab-Code/blob/main/MY_BAI_project.ipynb\" target=\"_parent\"><img src=\"https://colab.research.google.com/assets/colab-badge.svg\" alt=\"Open In Colab\"/></a>"
      ]
    },
    {
      "cell_type": "code",
      "execution_count": null,
      "metadata": {
        "id": "tgRguLTVYXr3",
        "colab": {
          "base_uri": "https://localhost:8080/"
        },
        "outputId": "2399814c-8fc3-4dc6-e774-225d263874a3"
      },
      "outputs": [
        {
          "output_type": "stream",
          "name": "stdout",
          "text": [
            "Requirement already satisfied: imodelsx in /usr/local/lib/python3.10/dist-packages (1.0.8)\n",
            "Requirement already satisfied: datasets in /usr/local/lib/python3.10/dist-packages (from imodelsx) (3.1.0)\n",
            "Requirement already satisfied: dict-hash in /usr/local/lib/python3.10/dist-packages (from imodelsx) (1.3.5)\n",
            "Requirement already satisfied: imodels in /usr/local/lib/python3.10/dist-packages (from imodelsx) (2.0.0)\n",
            "Requirement already satisfied: langchain in /usr/local/lib/python3.10/dist-packages (from imodelsx) (0.3.7)\n",
            "Requirement already satisfied: numpy in /usr/local/lib/python3.10/dist-packages (from imodelsx) (1.26.4)\n",
            "Requirement already satisfied: pandas in /usr/local/lib/python3.10/dist-packages (from imodelsx) (2.2.2)\n",
            "Requirement already satisfied: scikit-learn>=1.2.0 in /usr/local/lib/python3.10/dist-packages (from imodelsx) (1.5.2)\n",
            "Requirement already satisfied: scipy in /usr/local/lib/python3.10/dist-packages (from imodelsx) (1.13.1)\n",
            "Requirement already satisfied: spacy in /usr/local/lib/python3.10/dist-packages (from imodelsx) (3.7.5)\n",
            "Requirement already satisfied: torch in /usr/local/lib/python3.10/dist-packages (from imodelsx) (2.5.1+cu121)\n",
            "Requirement already satisfied: tqdm in /usr/local/lib/python3.10/dist-packages (from imodelsx) (4.66.6)\n",
            "Requirement already satisfied: transformers>=4.23.1 in /usr/local/lib/python3.10/dist-packages (from transformers[torch]>=4.23.1->imodelsx) (4.46.2)\n",
            "Requirement already satisfied: joblib>=1.2.0 in /usr/local/lib/python3.10/dist-packages (from scikit-learn>=1.2.0->imodelsx) (1.4.2)\n",
            "Requirement already satisfied: threadpoolctl>=3.1.0 in /usr/local/lib/python3.10/dist-packages (from scikit-learn>=1.2.0->imodelsx) (3.5.0)\n",
            "Requirement already satisfied: filelock in /usr/local/lib/python3.10/dist-packages (from transformers>=4.23.1->transformers[torch]>=4.23.1->imodelsx) (3.16.1)\n",
            "Requirement already satisfied: huggingface-hub<1.0,>=0.23.2 in /usr/local/lib/python3.10/dist-packages (from transformers>=4.23.1->transformers[torch]>=4.23.1->imodelsx) (0.26.2)\n",
            "Requirement already satisfied: packaging>=20.0 in /usr/local/lib/python3.10/dist-packages (from transformers>=4.23.1->transformers[torch]>=4.23.1->imodelsx) (24.2)\n",
            "Requirement already satisfied: pyyaml>=5.1 in /usr/local/lib/python3.10/dist-packages (from transformers>=4.23.1->transformers[torch]>=4.23.1->imodelsx) (6.0.2)\n",
            "Requirement already satisfied: regex!=2019.12.17 in /usr/local/lib/python3.10/dist-packages (from transformers>=4.23.1->transformers[torch]>=4.23.1->imodelsx) (2024.9.11)\n",
            "Requirement already satisfied: requests in /usr/local/lib/python3.10/dist-packages (from transformers>=4.23.1->transformers[torch]>=4.23.1->imodelsx) (2.32.3)\n",
            "Requirement already satisfied: safetensors>=0.4.1 in /usr/local/lib/python3.10/dist-packages (from transformers>=4.23.1->transformers[torch]>=4.23.1->imodelsx) (0.4.5)\n",
            "Requirement already satisfied: tokenizers<0.21,>=0.20 in /usr/local/lib/python3.10/dist-packages (from transformers>=4.23.1->transformers[torch]>=4.23.1->imodelsx) (0.20.3)\n",
            "Requirement already satisfied: accelerate>=0.26.0 in /usr/local/lib/python3.10/dist-packages (from transformers[torch]>=4.23.1->imodelsx) (1.1.1)\n",
            "Requirement already satisfied: pyarrow>=15.0.0 in /usr/local/lib/python3.10/dist-packages (from datasets->imodelsx) (17.0.0)\n",
            "Requirement already satisfied: dill<0.3.9,>=0.3.0 in /usr/local/lib/python3.10/dist-packages (from datasets->imodelsx) (0.3.8)\n",
            "Requirement already satisfied: xxhash in /usr/local/lib/python3.10/dist-packages (from datasets->imodelsx) (3.5.0)\n",
            "Requirement already satisfied: multiprocess<0.70.17 in /usr/local/lib/python3.10/dist-packages (from datasets->imodelsx) (0.70.16)\n",
            "Requirement already satisfied: fsspec<=2024.9.0,>=2023.1.0 in /usr/local/lib/python3.10/dist-packages (from fsspec[http]<=2024.9.0,>=2023.1.0->datasets->imodelsx) (2024.9.0)\n",
            "Requirement already satisfied: aiohttp in /usr/local/lib/python3.10/dist-packages (from datasets->imodelsx) (3.11.2)\n",
            "Requirement already satisfied: deflate-dict>=1.2.2 in /usr/local/lib/python3.10/dist-packages (from dict-hash->imodelsx) (1.2.2)\n",
            "Requirement already satisfied: matplotlib in /usr/local/lib/python3.10/dist-packages (from imodels->imodelsx) (3.8.0)\n",
            "Requirement already satisfied: mlxtend>=0.18.0 in /usr/local/lib/python3.10/dist-packages (from imodels->imodelsx) (0.23.3)\n",
            "Requirement already satisfied: SQLAlchemy<3,>=1.4 in /usr/local/lib/python3.10/dist-packages (from langchain->imodelsx) (2.0.36)\n",
            "Requirement already satisfied: async-timeout<5.0.0,>=4.0.0 in /usr/local/lib/python3.10/dist-packages (from langchain->imodelsx) (4.0.3)\n",
            "Requirement already satisfied: langchain-core<0.4.0,>=0.3.15 in /usr/local/lib/python3.10/dist-packages (from langchain->imodelsx) (0.3.19)\n",
            "Requirement already satisfied: langchain-text-splitters<0.4.0,>=0.3.0 in /usr/local/lib/python3.10/dist-packages (from langchain->imodelsx) (0.3.2)\n",
            "Requirement already satisfied: langsmith<0.2.0,>=0.1.17 in /usr/local/lib/python3.10/dist-packages (from langchain->imodelsx) (0.1.143)\n",
            "Requirement already satisfied: pydantic<3.0.0,>=2.7.4 in /usr/local/lib/python3.10/dist-packages (from langchain->imodelsx) (2.9.2)\n",
            "Requirement already satisfied: tenacity!=8.4.0,<10,>=8.1.0 in /usr/local/lib/python3.10/dist-packages (from langchain->imodelsx) (9.0.0)\n",
            "Requirement already satisfied: python-dateutil>=2.8.2 in /usr/local/lib/python3.10/dist-packages (from pandas->imodelsx) (2.8.2)\n",
            "Requirement already satisfied: pytz>=2020.1 in /usr/local/lib/python3.10/dist-packages (from pandas->imodelsx) (2024.2)\n",
            "Requirement already satisfied: tzdata>=2022.7 in /usr/local/lib/python3.10/dist-packages (from pandas->imodelsx) (2024.2)\n",
            "Requirement already satisfied: spacy-legacy<3.1.0,>=3.0.11 in /usr/local/lib/python3.10/dist-packages (from spacy->imodelsx) (3.0.12)\n",
            "Requirement already satisfied: spacy-loggers<2.0.0,>=1.0.0 in /usr/local/lib/python3.10/dist-packages (from spacy->imodelsx) (1.0.5)\n",
            "Requirement already satisfied: murmurhash<1.1.0,>=0.28.0 in /usr/local/lib/python3.10/dist-packages (from spacy->imodelsx) (1.0.10)\n",
            "Requirement already satisfied: cymem<2.1.0,>=2.0.2 in /usr/local/lib/python3.10/dist-packages (from spacy->imodelsx) (2.0.8)\n",
            "Requirement already satisfied: preshed<3.1.0,>=3.0.2 in /usr/local/lib/python3.10/dist-packages (from spacy->imodelsx) (3.0.9)\n",
            "Requirement already satisfied: thinc<8.3.0,>=8.2.2 in /usr/local/lib/python3.10/dist-packages (from spacy->imodelsx) (8.2.5)\n",
            "Requirement already satisfied: wasabi<1.2.0,>=0.9.1 in /usr/local/lib/python3.10/dist-packages (from spacy->imodelsx) (1.1.3)\n",
            "Requirement already satisfied: srsly<3.0.0,>=2.4.3 in /usr/local/lib/python3.10/dist-packages (from spacy->imodelsx) (2.4.8)\n",
            "Requirement already satisfied: catalogue<2.1.0,>=2.0.6 in /usr/local/lib/python3.10/dist-packages (from spacy->imodelsx) (2.0.10)\n",
            "Requirement already satisfied: weasel<0.5.0,>=0.1.0 in /usr/local/lib/python3.10/dist-packages (from spacy->imodelsx) (0.4.1)\n",
            "Requirement already satisfied: typer<1.0.0,>=0.3.0 in /usr/local/lib/python3.10/dist-packages (from spacy->imodelsx) (0.13.0)\n",
            "Requirement already satisfied: jinja2 in /usr/local/lib/python3.10/dist-packages (from spacy->imodelsx) (3.1.4)\n",
            "Requirement already satisfied: setuptools in /usr/local/lib/python3.10/dist-packages (from spacy->imodelsx) (75.1.0)\n",
            "Requirement already satisfied: langcodes<4.0.0,>=3.2.0 in /usr/local/lib/python3.10/dist-packages (from spacy->imodelsx) (3.4.1)\n",
            "Requirement already satisfied: typing-extensions>=4.8.0 in /usr/local/lib/python3.10/dist-packages (from torch->imodelsx) (4.12.2)\n",
            "Requirement already satisfied: networkx in /usr/local/lib/python3.10/dist-packages (from torch->imodelsx) (3.4.2)\n",
            "Requirement already satisfied: sympy==1.13.1 in /usr/local/lib/python3.10/dist-packages (from torch->imodelsx) (1.13.1)\n",
            "Requirement already satisfied: mpmath<1.4,>=1.1.0 in /usr/local/lib/python3.10/dist-packages (from sympy==1.13.1->torch->imodelsx) (1.3.0)\n",
            "Requirement already satisfied: psutil in /usr/local/lib/python3.10/dist-packages (from accelerate>=0.26.0->transformers[torch]>=4.23.1->imodelsx) (5.9.5)\n",
            "Requirement already satisfied: aiohappyeyeballs>=2.3.0 in /usr/local/lib/python3.10/dist-packages (from aiohttp->datasets->imodelsx) (2.4.3)\n",
            "Requirement already satisfied: aiosignal>=1.1.2 in /usr/local/lib/python3.10/dist-packages (from aiohttp->datasets->imodelsx) (1.3.1)\n",
            "Requirement already satisfied: attrs>=17.3.0 in /usr/local/lib/python3.10/dist-packages (from aiohttp->datasets->imodelsx) (24.2.0)\n",
            "Requirement already satisfied: frozenlist>=1.1.1 in /usr/local/lib/python3.10/dist-packages (from aiohttp->datasets->imodelsx) (1.5.0)\n",
            "Requirement already satisfied: multidict<7.0,>=4.5 in /usr/local/lib/python3.10/dist-packages (from aiohttp->datasets->imodelsx) (6.1.0)\n",
            "Requirement already satisfied: propcache>=0.2.0 in /usr/local/lib/python3.10/dist-packages (from aiohttp->datasets->imodelsx) (0.2.0)\n",
            "Requirement already satisfied: yarl<2.0,>=1.17.0 in /usr/local/lib/python3.10/dist-packages (from aiohttp->datasets->imodelsx) (1.17.2)\n",
            "Requirement already satisfied: jsonpatch<2.0,>=1.33 in /usr/local/lib/python3.10/dist-packages (from langchain-core<0.4.0,>=0.3.15->langchain->imodelsx) (1.33)\n",
            "Requirement already satisfied: language-data>=1.2 in /usr/local/lib/python3.10/dist-packages (from langcodes<4.0.0,>=3.2.0->spacy->imodelsx) (1.2.0)\n",
            "Requirement already satisfied: httpx<1,>=0.23.0 in /usr/local/lib/python3.10/dist-packages (from langsmith<0.2.0,>=0.1.17->langchain->imodelsx) (0.27.2)\n",
            "Requirement already satisfied: orjson<4.0.0,>=3.9.14 in /usr/local/lib/python3.10/dist-packages (from langsmith<0.2.0,>=0.1.17->langchain->imodelsx) (3.10.11)\n",
            "Requirement already satisfied: requests-toolbelt<2.0.0,>=1.0.0 in /usr/local/lib/python3.10/dist-packages (from langsmith<0.2.0,>=0.1.17->langchain->imodelsx) (1.0.0)\n",
            "Requirement already satisfied: contourpy>=1.0.1 in /usr/local/lib/python3.10/dist-packages (from matplotlib->imodels->imodelsx) (1.3.1)\n",
            "Requirement already satisfied: cycler>=0.10 in /usr/local/lib/python3.10/dist-packages (from matplotlib->imodels->imodelsx) (0.12.1)\n",
            "Requirement already satisfied: fonttools>=4.22.0 in /usr/local/lib/python3.10/dist-packages (from matplotlib->imodels->imodelsx) (4.55.0)\n",
            "Requirement already satisfied: kiwisolver>=1.0.1 in /usr/local/lib/python3.10/dist-packages (from matplotlib->imodels->imodelsx) (1.4.7)\n",
            "Requirement already satisfied: pillow>=6.2.0 in /usr/local/lib/python3.10/dist-packages (from matplotlib->imodels->imodelsx) (11.0.0)\n",
            "Requirement already satisfied: pyparsing>=2.3.1 in /usr/local/lib/python3.10/dist-packages (from matplotlib->imodels->imodelsx) (3.2.0)\n",
            "Requirement already satisfied: annotated-types>=0.6.0 in /usr/local/lib/python3.10/dist-packages (from pydantic<3.0.0,>=2.7.4->langchain->imodelsx) (0.7.0)\n",
            "Requirement already satisfied: pydantic-core==2.23.4 in /usr/local/lib/python3.10/dist-packages (from pydantic<3.0.0,>=2.7.4->langchain->imodelsx) (2.23.4)\n",
            "Requirement already satisfied: six>=1.5 in /usr/local/lib/python3.10/dist-packages (from python-dateutil>=2.8.2->pandas->imodelsx) (1.16.0)\n",
            "Requirement already satisfied: charset-normalizer<4,>=2 in /usr/local/lib/python3.10/dist-packages (from requests->transformers>=4.23.1->transformers[torch]>=4.23.1->imodelsx) (3.4.0)\n",
            "Requirement already satisfied: idna<4,>=2.5 in /usr/local/lib/python3.10/dist-packages (from requests->transformers>=4.23.1->transformers[torch]>=4.23.1->imodelsx) (3.10)\n",
            "Requirement already satisfied: urllib3<3,>=1.21.1 in /usr/local/lib/python3.10/dist-packages (from requests->transformers>=4.23.1->transformers[torch]>=4.23.1->imodelsx) (2.2.3)\n",
            "Requirement already satisfied: certifi>=2017.4.17 in /usr/local/lib/python3.10/dist-packages (from requests->transformers>=4.23.1->transformers[torch]>=4.23.1->imodelsx) (2024.8.30)\n",
            "Requirement already satisfied: greenlet!=0.4.17 in /usr/local/lib/python3.10/dist-packages (from SQLAlchemy<3,>=1.4->langchain->imodelsx) (3.1.1)\n",
            "Requirement already satisfied: blis<0.8.0,>=0.7.8 in /usr/local/lib/python3.10/dist-packages (from thinc<8.3.0,>=8.2.2->spacy->imodelsx) (0.7.11)\n",
            "Requirement already satisfied: confection<1.0.0,>=0.0.1 in /usr/local/lib/python3.10/dist-packages (from thinc<8.3.0,>=8.2.2->spacy->imodelsx) (0.1.5)\n",
            "Requirement already satisfied: click>=8.0.0 in /usr/local/lib/python3.10/dist-packages (from typer<1.0.0,>=0.3.0->spacy->imodelsx) (8.1.7)\n",
            "Requirement already satisfied: shellingham>=1.3.0 in /usr/local/lib/python3.10/dist-packages (from typer<1.0.0,>=0.3.0->spacy->imodelsx) (1.5.4)\n",
            "Requirement already satisfied: rich>=10.11.0 in /usr/local/lib/python3.10/dist-packages (from typer<1.0.0,>=0.3.0->spacy->imodelsx) (13.9.4)\n",
            "Requirement already satisfied: cloudpathlib<1.0.0,>=0.7.0 in /usr/local/lib/python3.10/dist-packages (from weasel<0.5.0,>=0.1.0->spacy->imodelsx) (0.20.0)\n",
            "Requirement already satisfied: smart-open<8.0.0,>=5.2.1 in /usr/local/lib/python3.10/dist-packages (from weasel<0.5.0,>=0.1.0->spacy->imodelsx) (7.0.5)\n",
            "Requirement already satisfied: MarkupSafe>=2.0 in /usr/local/lib/python3.10/dist-packages (from jinja2->spacy->imodelsx) (3.0.2)\n",
            "Requirement already satisfied: anyio in /usr/local/lib/python3.10/dist-packages (from httpx<1,>=0.23.0->langsmith<0.2.0,>=0.1.17->langchain->imodelsx) (3.7.1)\n",
            "Requirement already satisfied: httpcore==1.* in /usr/local/lib/python3.10/dist-packages (from httpx<1,>=0.23.0->langsmith<0.2.0,>=0.1.17->langchain->imodelsx) (1.0.7)\n",
            "Requirement already satisfied: sniffio in /usr/local/lib/python3.10/dist-packages (from httpx<1,>=0.23.0->langsmith<0.2.0,>=0.1.17->langchain->imodelsx) (1.3.1)\n",
            "Requirement already satisfied: h11<0.15,>=0.13 in /usr/local/lib/python3.10/dist-packages (from httpcore==1.*->httpx<1,>=0.23.0->langsmith<0.2.0,>=0.1.17->langchain->imodelsx) (0.14.0)\n",
            "Requirement already satisfied: jsonpointer>=1.9 in /usr/local/lib/python3.10/dist-packages (from jsonpatch<2.0,>=1.33->langchain-core<0.4.0,>=0.3.15->langchain->imodelsx) (3.0.0)\n",
            "Requirement already satisfied: marisa-trie>=0.7.7 in /usr/local/lib/python3.10/dist-packages (from language-data>=1.2->langcodes<4.0.0,>=3.2.0->spacy->imodelsx) (1.2.1)\n",
            "Requirement already satisfied: markdown-it-py>=2.2.0 in /usr/local/lib/python3.10/dist-packages (from rich>=10.11.0->typer<1.0.0,>=0.3.0->spacy->imodelsx) (3.0.0)\n",
            "Requirement already satisfied: pygments<3.0.0,>=2.13.0 in /usr/local/lib/python3.10/dist-packages (from rich>=10.11.0->typer<1.0.0,>=0.3.0->spacy->imodelsx) (2.18.0)\n",
            "Requirement already satisfied: wrapt in /usr/local/lib/python3.10/dist-packages (from smart-open<8.0.0,>=5.2.1->weasel<0.5.0,>=0.1.0->spacy->imodelsx) (1.16.0)\n",
            "Requirement already satisfied: mdurl~=0.1 in /usr/local/lib/python3.10/dist-packages (from markdown-it-py>=2.2.0->rich>=10.11.0->typer<1.0.0,>=0.3.0->spacy->imodelsx) (0.1.2)\n",
            "Requirement already satisfied: exceptiongroup in /usr/local/lib/python3.10/dist-packages (from anyio->httpx<1,>=0.23.0->langsmith<0.2.0,>=0.1.17->langchain->imodelsx) (1.2.2)\n"
          ]
        }
      ],
      "source": [
        "!pip install imodelsx"
      ]
    },
    {
      "cell_type": "code",
      "source": [
        "import numpy as np\n",
        "import pandas as pd\n",
        "import matplotlib.pyplot as plt\n",
        "import torch\n",
        "import torch.nn as nn\n",
        "import torch.optim as optim\n",
        "from torch.utils.data import DataLoader, TensorDataset\n",
        "from imodelsx import KANClassifier\n",
        "from sklearn.neural_network import MLPClassifier\n",
        "from sklearn.model_selection import GridSearchCV\n",
        "from sklearn.model_selection import train_test_split\n",
        "from sklearn.preprocessing import StandardScaler\n",
        "from sklearn.metrics import accuracy_score,confusion_matrix,classification_report\n",
        "# from sklearn.metrics import roc_curve,auc\n",
        "from sklearn.metrics import f1_score\n",
        "from sklearn.model_selection import StratifiedKFold\n",
        "from sklearn.model_selection import KFold\n",
        "from sklearn.preprocessing import StandardScaler\n",
        "from sklearn.model_selection import cross_val_score\n",
        "import warnings\n",
        "warnings.filterwarnings(action='ignore')"
      ],
      "metadata": {
        "id": "SR0U6thyYjH1"
      },
      "execution_count": null,
      "outputs": []
    },
    {
      "cell_type": "markdown",
      "source": [
        "##Kolmogrov Arnold Network (KAN)"
      ],
      "metadata": {
        "id": "dHqDDq6WZEYH"
      }
    },
    {
      "cell_type": "code",
      "source": [
        "# initializinng a KANHClassifier using CPU acceleration(cpu device)\n",
        "# Default parameter for  KANClassifier are as follows:\n",
        "# regularize_activation = 1.0\n",
        "# regularize_entropy = 1.0\n",
        "# regularize_ridge = 0.0\n",
        "# grid_size = 5\n",
        "# spline_order = 3\n",
        "# scale_noise = 0.1\n",
        "# scale_base = 1.0\n",
        "# scale_spline = 1.0\n",
        "# base_activation = torch.nn.SILU\n",
        "# grid_eps = 0.02\n",
        "# grid_range = [-1,1]\n",
        "kan = KANClassifier(device='cpu',)"
      ],
      "metadata": {
        "id": "YWZ_7niOY-QO"
      },
      "execution_count": null,
      "outputs": []
    },
    {
      "cell_type": "markdown",
      "source": [
        "##Multi-Layer Perceptron"
      ],
      "metadata": {
        "id": "TR0pkiFxZRyl"
      }
    },
    {
      "cell_type": "code",
      "source": [
        "mlp =  MLPClassifier(hidden_layer_sizes=(64, 32),\n",
        "                     activation='tanh',\n",
        "                     solver='sgd',\n",
        "                     learning_rate_init=0.001,\n",
        "                     alpha=0.0001,\n",
        "                     max_iter=1000,\n",
        "                     random_state=42,\n",
        "                     verbose= False)"
      ],
      "metadata": {
        "id": "1TA0wfXHZVal"
      },
      "execution_count": null,
      "outputs": []
    },
    {
      "cell_type": "markdown",
      "source": [
        "## Load Data"
      ],
      "metadata": {
        "id": "jW0pXoxnZpnX"
      }
    },
    {
      "cell_type": "code",
      "source": [
        "url_wine = 'https://gist.githubusercontent.com/tijptjik/9408623/raw/b237fa5848349a14a14e5d4107dc7897c21951f5/wine.csv'\n",
        "df = pd.read_csv(url_wine)\n",
        "x = df.drop('Wine',axis=1).values\n",
        "y = df['Wine'].values"
      ],
      "metadata": {
        "id": "4kfev_fOZuaX"
      },
      "execution_count": null,
      "outputs": []
    },
    {
      "cell_type": "markdown",
      "source": [
        "##Prepare Data"
      ],
      "metadata": {
        "id": "t7pr0cDCbn4y"
      }
    },
    {
      "cell_type": "code",
      "source": [
        "x_train,y_train,x_test,y_test = train_test_split(x,y,test_size=0.4,random_state=42)\n",
        "x_train = torch.tensor(x, dtype=torch.float32)\n",
        "y_train = torch.tensor(y, dtype=torch.float32)\n",
        "x_test = torch.tensor(x, dtype=torch.float32)\n",
        "y_test = torch.tensor(y, dtype=torch.float32)\n",
        "scaler = StandardScaler()\n",
        "x_train = scaler.fit_transform(x_train)\n",
        "x_test = scaler.transform(x_test)"
      ],
      "metadata": {
        "id": "DmwBieDKaZv6"
      },
      "execution_count": null,
      "outputs": []
    },
    {
      "cell_type": "markdown",
      "source": [
        "## Computing the Code\n"
      ],
      "metadata": {
        "id": "AxYbpgAlb8MI"
      }
    },
    {
      "cell_type": "code",
      "source": [
        "def mlp_run(model):\n",
        "  print(\"MLP RESULTS\")\n",
        "  mlp.fit(x_train,y_train)\n",
        "  y_pred_mlp = mlp.predict(x_test)\n",
        "  print(f'Accuracy Score: {accuracy_score(y_test,y_pred_mlp)}')\n",
        "  print(f'Confusion Matrix: \\n{confusion_matrix(y_test,y_pred_mlp)}')\n",
        "  print(f'Classification Report: \\n{classification_report(y_test,y_pred_mlp)}')\n",
        "  criterion1 = nn.MSELoss()\n",
        "  loss_mlp  = criterion1(torch.tensor(y_pred_mlp),torch.tensor(y_test))\n",
        "  return y_pred_mlp,loss_mlp\n",
        "\n",
        "def kan_run(model):\n",
        "    print(\"KAN RESULTS\")\n",
        "    for i in range(20):\n",
        "      model.fit(x_train,y_train)\n",
        "      y_pred_kan = model.predict(x_test)\n",
        "      print(f'Accuracy Score: {accuracy_score(y_test,y_pred_kan)}')\n",
        "      Kan_accuracy.append(accuracy_score(y_test,y_pred_kan))\n",
        "      print(f'Confusion Matrix: \\n{confusion_matrix(y_test,y_pred_kan)}')\n",
        "      print(f'Classification Report: \\n{classification_report(y_test,y_pred_kan)}')\n",
        "      criterion2 = nn.MSELoss()\n",
        "      loss_kan = criterion2(torch.tensor(y_pred_kan),torch.tensor(y_test))\n",
        "      return y_pred_kan,loss_kan\n",
        "\n",
        "\n",
        "# def kan_run(model):\n",
        "#     accuracies = []\n",
        "#     losses = []\n",
        "#     confusion_matrices = []\n",
        "#     classification_reports = []\n",
        "#     for i in range(10):\n",
        "#       model.fit(x_train,y_train)\n",
        "#       y_pred_kan = model.predict(x_test)\n",
        "#       accuracies.append(accuracy_score(y_test,y_pred_kan))\n",
        "#       confusion_matrices.append(confusion_matrix(y_test,y_pred_kan))\n",
        "#       classification_reports.append(classification_report(y_test,y_pred_kan, output_dict=True))\n",
        "#       criterion2 = nn.MSELoss()\n",
        "#       loss_kan = criterion2(torch.tensor(y_pred_kan),torch.tensor(y_test))\n",
        "#       losses.append(loss_kan.item())\n",
        "\n",
        "#     avg_accuracy = np.mean(accuracies)\n",
        "#     avg_loss = np.mean(losses)\n",
        "#     avg_confusion_matrix = np.mean(confusion_matrices, axis=0)\n",
        "#     avg_classification_report = {}\n",
        "#     for metric in classification_reports[0].keys():\n",
        "#         if metric != 'accuracy':\n",
        "#             values = [report[metric] for report in classification_reports]\n",
        "#             avg_classification_report[metric] = {k: np.mean([d.get(k, 0) for d in values]) for k in values[0].keys()}\n",
        "#         else:\n",
        "#             avg_classification_report[metric] = np.mean([report[metric] for report in classification_reports])\n",
        "#     print(\"KAN RESULTS\")\n",
        "#     print(f\"Average Accuracy: {avg_accuracy}\")\n",
        "#     print(f\"Average Confusion Matrix: \\n{avg_confusion_matrix}\")\n",
        "#     print(f\"Average Classification Report: \\n{avg_classification_report}\")\n",
        "\n",
        "#     return y_pred_kan, avg_loss"
      ],
      "metadata": {
        "id": "m-oDbccwcGIk"
      },
      "execution_count": null,
      "outputs": []
    },
    {
      "cell_type": "markdown",
      "source": [
        "##Running the Code"
      ],
      "metadata": {
        "id": "L_SMOvYIK9ym"
      }
    },
    {
      "cell_type": "code",
      "source": [
        "y_pred_mlp,loss_mlp = mlp_run(mlp)\n",
        "y_pred_kan, loss_kan = kan_run(kan)\n",
        "\n",
        "print(f' MLP has a loss of {loss_mlp}')\n",
        "print(f' KAN has a loss of {loss_kan}')"
      ],
      "metadata": {
        "colab": {
          "base_uri": "https://localhost:8080/"
        },
        "id": "BwPBzLWDK9UA",
        "outputId": "dfe31fc0-0ac7-4e82-b492-76aed96c7453"
      },
      "execution_count": null,
      "outputs": [
        {
          "output_type": "stream",
          "name": "stdout",
          "text": [
            "MLP RESULTS\n",
            "Accuracy Score: 0.9887640449438202\n",
            "Confusion Matrix: \n",
            "[[59  0  0]\n",
            " [ 0 70  1]\n",
            " [ 0  1 47]]\n",
            "Classification Report: \n",
            "              precision    recall  f1-score   support\n",
            "\n",
            "         1.0       1.00      1.00      1.00        59\n",
            "         2.0       0.99      0.99      0.99        71\n",
            "         3.0       0.98      0.98      0.98        48\n",
            "\n",
            "    accuracy                           0.99       178\n",
            "   macro avg       0.99      0.99      0.99       178\n",
            "weighted avg       0.99      0.99      0.99       178\n",
            "\n",
            "KAN RESULTS\n"
          ]
        },
        {
          "output_type": "stream",
          "name": "stderr",
          "text": [
            "100%|██████████| 100/100 [00:01<00:00, 58.08it/s]\n"
          ]
        },
        {
          "output_type": "stream",
          "name": "stdout",
          "text": [
            "Accuracy Score: 0.6235955056179775\n",
            "Confusion Matrix: \n",
            "[[44  8  7]\n",
            " [ 3 44 24]\n",
            " [23  2 23]]\n",
            "Classification Report: \n",
            "              precision    recall  f1-score   support\n",
            "\n",
            "         1.0       0.63      0.75      0.68        59\n",
            "         2.0       0.81      0.62      0.70        71\n",
            "         3.0       0.43      0.48      0.45        48\n",
            "\n",
            "    accuracy                           0.62       178\n",
            "   macro avg       0.62      0.61      0.61       178\n",
            "weighted avg       0.65      0.62      0.63       178\n",
            "\n",
            " MLP has a loss of 0.01123595517128706\n",
            " KAN has a loss of 0.882022500038147\n"
          ]
        }
      ]
    },
    {
      "cell_type": "markdown",
      "source": [
        "##Plotting loss, accuracy, f1 score of each model"
      ],
      "metadata": {
        "id": "AsLYV3kmi1ms"
      }
    },
    {
      "cell_type": "markdown",
      "source": [
        "##First Visulaization"
      ],
      "metadata": {
        "id": "lrfvj89EkqnH"
      }
    },
    {
      "cell_type": "code",
      "source": [
        "def plot_train_test(model_name, train_scores, test_scores):\n",
        "    loss_curve = model_name.loss_curve_\n",
        "    train_accuracy = model_name.score(x_train, y_train)\n",
        "    test_accuracy = model_name.score(x_test, y_test)\n",
        "    plt.figure(figsize=(10, 5))\n",
        "    plt.subplot(121)\n",
        "    plt.plot(loss_curve, label='Loss')\n",
        "    plt.xlabel('Epochs')\n",
        "    plt.ylabel('Loss')\n",
        "    plt.title('MLP Loss Curve')\n",
        "    plt.legend()\n",
        "\n",
        "\n",
        "plot_train_test(mlp, mlp.score(x_train, y_train), mlp.score(x_test, y_test))\n",
        "plt.show()"
      ],
      "metadata": {
        "colab": {
          "base_uri": "https://localhost:8080/",
          "height": 487
        },
        "id": "tylscJPcCefg",
        "outputId": "79f75a64-3a53-41fd-d827-8c5632da5491"
      },
      "execution_count": null,
      "outputs": [
        {
          "output_type": "display_data",
          "data": {
            "text/plain": [
              "<Figure size 1000x500 with 1 Axes>"
            ],
            "image/png": "[encoded data removed]"
          },
          "metadata": {}
        }
      ]
    },
    {
      "cell_type": "code",
      "source": [
        "f1_mlp = f1_score(y_test, y_pred_mlp, average='weighted')\n",
        "f1_kan = f1_score(y_test, y_pred_kan, average='weighted')\n",
        "accuracy_mlp = accuracy_score(y_test, y_pred_mlp)\n",
        "accuracy_kan = accuracy_score(y_test, y_pred_kan)\n",
        "loss_mlp = loss_mlp\n",
        "loss_kan = loss_kan\n",
        "\n",
        "models = ['MLP', 'KAN']\n",
        "losses = [loss_mlp, loss_kan]\n",
        "accuracies = [accuracy_mlp, accuracy_kan]\n",
        "f1_scores = [f1_mlp, f1_kan]\n",
        "\n",
        "\n",
        "def plot_results(models, losses, accuracies, f1_scores):\n",
        "   x = range(len(models))\n",
        "   plt.figure(figsize=(20, 8))\n",
        "   plt.subplot(131)\n",
        "   plt.bar(x, losses, color=['red', 'blue'])\n",
        "   plt.xticks(x, models)\n",
        "   plt.ylabel('Loss')\n",
        "   plt.title('Model Loss Comparison')\n",
        "\n",
        "   plt.subplot(132)\n",
        "   plt.bar(x, accuracies, color=['red', 'blue'])\n",
        "   plt.xticks(x, models)\n",
        "   plt.ylabel('Accuracy')\n",
        "   plt.title('Model Accuracy Comparison')\n",
        "\n",
        "   plt.subplot(133)\n",
        "   plt.bar(x, f1_scores, color=['red', 'blue'])\n",
        "   plt.xticks(x, models)\n",
        "   plt.ylabel('F1 Score')\n",
        "   plt.title('Model F1 Score Comparison')\n",
        "\n",
        "plot_results(models, losses, accuracies, f1_scores)\n",
        "plt.tight_layout()\n",
        "plt.show()"
      ],
      "metadata": {
        "colab": {
          "base_uri": "https://localhost:8080/",
          "height": 454
        },
        "id": "tF17YLtQi1Bi",
        "outputId": "3123cab9-fc46-4e40-9ea2-001fb5476420"
      },
      "execution_count": null,
      "outputs": [
        {
          "output_type": "display_data",
          "data": {
            "text/plain": [
              "<Figure size 2000x800 with 3 Axes>"
            ],
            "image/png": "[encoded data removed]"
          },
          "metadata": {}
        }
      ]
    },
    {
      "cell_type": "markdown",
      "source": [
        "##First Hyperparameter Tunning"
      ],
      "metadata": {
        "id": "xrZm7BEQlATU"
      }
    },
    {
      "cell_type": "code",
      "source": [
        "clf = GridSearchCV(mlp, {'hidden_layer_sizes': [(64, 32), (128, 64,32),(26,90),(64,32,6),(128,64,16)],\n",
        "                        'activation': ['relu', 'tanh','sigmoid'],\n",
        "                        'solver': ['adam', 'sgd'],\n",
        "                        'alpha': [0.1, 0.001,0.01]},\n",
        "                        cv=5, scoring='accuracy')\n",
        "clf.fit(x_train, y_train)\n",
        "clf.cv_results_"
      ],
      "metadata": {
        "colab": {
          "base_uri": "https://localhost:8080/"
        },
        "id": "AFFzZ6KL6e83",
        "outputId": "f18506dc-9e9a-4405-8bc5-0e90ee655614"
      },
      "execution_count": null,
      "outputs": [
        {
          "output_type": "execute_result",
          "data": {
            "text/plain": [
              "{'mean_fit_time': array([1.01015320e+00, 3.04636393e+00, 1.26506224e+00, 5.37410293e+00,\n",
              "        6.24743986e-01, 1.72796459e+00, 3.71978283e-01, 1.85223479e+00,\n",
              "        1.20901284e+00, 5.48296041e+00, 6.56691647e-01, 8.21497297e-01,\n",
              "        4.47611046e-01, 1.90884967e+00, 3.68403864e-01, 1.71987224e+00,\n",
              "        3.65811348e-01, 1.43021297e+00, 6.73097658e-01, 1.69990559e+00,\n",
              "        2.65745735e-01, 1.51286163e+00, 2.81933165e-01, 1.47757411e+00,\n",
              "        1.21036978e+00, 1.05615063e+00, 3.66980648e-01, 1.99808521e+00,\n",
              "        2.98245764e-01, 1.77613873e+00, 7.91251612e-01, 1.20674729e+00,\n",
              "        1.17696328e+00, 2.37827196e+00, 1.14765048e+00, 1.36933341e+00,\n",
              "        2.00916042e+00, 2.40879221e+00, 8.82953548e-01, 2.62644382e+00,\n",
              "        4.94863510e-01, 1.15008059e+00, 1.12477412e+00, 2.61278453e+00,\n",
              "        6.56666613e-01, 1.49429932e+00, 1.85949836e+00, 2.86143913e+00,\n",
              "        9.51336622e-01, 2.80887671e+00, 5.78802347e-01, 1.83375640e+00,\n",
              "        6.21334839e-01, 2.69233999e+00, 6.17625618e-01, 2.42551627e+00,\n",
              "        1.39919162e+00, 2.49033227e+00, 1.00174494e+00, 2.60417638e+00,\n",
              "        5.52272797e-04, 6.39247894e-04, 4.56714630e-04, 4.84085083e-04,\n",
              "        1.23529434e-03, 1.38282776e-03, 1.03950500e-03, 5.15937805e-04,\n",
              "        5.69105148e-04, 4.71782684e-04, 5.29479980e-04, 4.50992584e-04,\n",
              "        3.43704224e-04, 3.15189362e-04, 3.11803818e-04, 2.74133682e-04,\n",
              "        3.59201431e-04, 2.94256210e-04, 2.82955170e-04, 3.40318680e-04,\n",
              "        2.78949738e-04, 2.75707245e-04, 2.72512436e-04, 2.73799896e-04,\n",
              "        2.68459320e-04, 2.88486481e-04, 2.77423859e-04, 2.81333923e-04,\n",
              "        2.67934799e-04, 2.69794464e-04]),\n",
              " 'std_fit_time': array([2.61529510e-01, 6.81975057e-01, 1.52850862e-01, 1.29070561e+00,\n",
              "        2.23385668e-01, 7.36391576e-01, 3.66332763e-02, 9.48639115e-01,\n",
              "        1.60427494e-01, 9.47708841e-01, 4.40509905e-01, 5.43198372e-02,\n",
              "        1.92858977e-01, 8.70064945e-01, 3.81656044e-02, 7.36288210e-01,\n",
              "        3.09802833e-02, 1.72120040e-01, 8.22063091e-02, 2.42117062e-01,\n",
              "        1.78505379e-02, 5.76742580e-01, 1.16466058e-02, 6.44473733e-02,\n",
              "        6.35891147e-01, 2.56001018e-02, 4.10016646e-02, 1.00911662e+00,\n",
              "        3.54621903e-02, 6.92650845e-01, 2.94135039e-01, 2.45316965e-01,\n",
              "        4.98360603e-01, 2.99294079e-01, 3.95848962e-01, 6.99344051e-02,\n",
              "        7.73376403e-01, 1.09940006e+00, 1.93833578e-02, 9.63763230e-01,\n",
              "        2.90682278e-02, 1.83197481e-01, 3.95309494e-01, 1.05522581e+00,\n",
              "        1.05223267e-01, 1.66261459e-01, 7.76355305e-01, 1.27147562e+00,\n",
              "        2.86393719e-01, 9.52196419e-01, 3.53747536e-02, 7.65658096e-01,\n",
              "        4.62004478e-02, 6.77251037e-01, 8.03605542e-02, 1.02862808e+00,\n",
              "        1.23694644e-01, 7.21601960e-01, 3.45233627e-01, 8.41565210e-01,\n",
              "        6.15224534e-05, 3.27266942e-04, 3.99530356e-05, 4.86730464e-05,\n",
              "        1.52868599e-03, 1.63297674e-03, 9.69724749e-04, 5.90292817e-05,\n",
              "        1.58634198e-04, 3.53469193e-05, 9.94813514e-05, 7.60558406e-05,\n",
              "        6.96973155e-05, 1.22427418e-05, 5.94245861e-05, 1.60959206e-05,\n",
              "        8.11694783e-05, 2.12748474e-05, 1.29102285e-05, 7.61069450e-05,\n",
              "        1.26994546e-05, 1.67447939e-05, 1.55685689e-05, 2.13336540e-05,\n",
              "        7.33926588e-06, 3.55721798e-05, 1.24093149e-05, 1.23177292e-05,\n",
              "        1.22310358e-05, 1.28954260e-05]),\n",
              " 'mean_score_time': array([0.00440545, 0.00505114, 0.00569983, 0.00774932, 0.00273333,\n",
              "        0.00217581, 0.00233703, 0.00398111, 0.00960922, 0.00490837,\n",
              "        0.00233927, 0.00219941, 0.00392008, 0.0028245 , 0.0023119 ,\n",
              "        0.00229239, 0.00211782, 0.00242462, 0.0046206 , 0.00234189,\n",
              "        0.00251069, 0.00227447, 0.00233564, 0.0023242 , 0.00286283,\n",
              "        0.00216517, 0.00209661, 0.00239644, 0.00260406, 0.00274506,\n",
              "        0.00277667, 0.00236244, 0.00544786, 0.00283375, 0.00419903,\n",
              "        0.00249953, 0.00367417, 0.00280066, 0.00275865, 0.00304103,\n",
              "        0.00231137, 0.00231481, 0.00431857, 0.00379381, 0.00235829,\n",
              "        0.00253906, 0.00253906, 0.00297437, 0.00334454, 0.00320277,\n",
              "        0.00315766, 0.00238018, 0.00287814, 0.00259743, 0.00260825,\n",
              "        0.00315738, 0.00288024, 0.00225878, 0.00277748, 0.00343046,\n",
              "        0.        , 0.        , 0.        , 0.        , 0.        ,\n",
              "        0.        , 0.        , 0.        , 0.        , 0.        ,\n",
              "        0.        , 0.        , 0.        , 0.        , 0.        ,\n",
              "        0.        , 0.        , 0.        , 0.        , 0.        ,\n",
              "        0.        , 0.        , 0.        , 0.        , 0.        ,\n",
              "        0.        , 0.        , 0.        , 0.        , 0.        ]),\n",
              " 'std_score_time': array([0.00283827, 0.00241265, 0.00302973, 0.00607585, 0.00078117,\n",
              "        0.00017478, 0.00042632, 0.00230773, 0.00871758, 0.00218425,\n",
              "        0.00026343, 0.00040151, 0.00165892, 0.00138253, 0.00023218,\n",
              "        0.00018304, 0.00016569, 0.00037962, 0.00179419, 0.00056977,\n",
              "        0.00058741, 0.00020068, 0.00015115, 0.00018995, 0.00142421,\n",
              "        0.00023917, 0.00013048, 0.00038717, 0.00061884, 0.00083175,\n",
              "        0.00091541, 0.0002682 , 0.00332263, 0.00013257, 0.00200858,\n",
              "        0.00018666, 0.00175632, 0.0009362 , 0.00026934, 0.000538  ,\n",
              "        0.00024817, 0.00031696, 0.00144567, 0.00204919, 0.00028063,\n",
              "        0.00037362, 0.00019524, 0.00084768, 0.00118538, 0.00065246,\n",
              "        0.00072798, 0.00023325, 0.00021919, 0.00012965, 0.00028606,\n",
              "        0.00128914, 0.00089255, 0.00012586, 0.00020414, 0.00127107,\n",
              "        0.        , 0.        , 0.        , 0.        , 0.        ,\n",
              "        0.        , 0.        , 0.        , 0.        , 0.        ,\n",
              "        0.        , 0.        , 0.        , 0.        , 0.        ,\n",
              "        0.        , 0.        , 0.        , 0.        , 0.        ,\n",
              "        0.        , 0.        , 0.        , 0.        , 0.        ,\n",
              "        0.        , 0.        , 0.        , 0.        , 0.        ]),\n",
              " 'param_activation': masked_array(data=['relu', 'relu', 'relu', 'relu', 'relu', 'relu', 'relu',\n",
              "                    'relu', 'relu', 'relu', 'relu', 'relu', 'relu', 'relu',\n",
              "                    'relu', 'relu', 'relu', 'relu', 'relu', 'relu', 'relu',\n",
              "                    'relu', 'relu', 'relu', 'relu', 'relu', 'relu', 'relu',\n",
              "                    'relu', 'relu', 'tanh', 'tanh', 'tanh', 'tanh', 'tanh',\n",
              "                    'tanh', 'tanh', 'tanh', 'tanh', 'tanh', 'tanh', 'tanh',\n",
              "                    'tanh', 'tanh', 'tanh', 'tanh', 'tanh', 'tanh', 'tanh',\n",
              "                    'tanh', 'tanh', 'tanh', 'tanh', 'tanh', 'tanh', 'tanh',\n",
              "                    'tanh', 'tanh', 'tanh', 'tanh', 'sigmoid', 'sigmoid',\n",
              "                    'sigmoid', 'sigmoid', 'sigmoid', 'sigmoid', 'sigmoid',\n",
              "                    'sigmoid', 'sigmoid', 'sigmoid', 'sigmoid', 'sigmoid',\n",
              "                    'sigmoid', 'sigmoid', 'sigmoid', 'sigmoid', 'sigmoid',\n",
              "                    'sigmoid', 'sigmoid', 'sigmoid', 'sigmoid', 'sigmoid',\n",
              "                    'sigmoid', 'sigmoid', 'sigmoid', 'sigmoid', 'sigmoid',\n",
              "                    'sigmoid', 'sigmoid', 'sigmoid'],\n",
              "              mask=[False, False, False, False, False, False, False, False,\n",
              "                    False, False, False, False, False, False, False, False,\n",
              "                    False, False, False, False, False, False, False, False,\n",
              "                    False, False, False, False, False, False, False, False,\n",
              "                    False, False, False, False, False, False, False, False,\n",
              "                    False, False, False, False, False, False, False, False,\n",
              "                    False, False, False, False, False, False, False, False,\n",
              "                    False, False, False, False, False, False, False, False,\n",
              "                    False, False, False, False, False, False, False, False,\n",
              "                    False, False, False, False, False, False, False, False,\n",
              "                    False, False, False, False, False, False, False, False,\n",
              "                    False, False],\n",
              "        fill_value='?',\n",
              "             dtype=object),\n",
              " 'param_alpha': masked_array(data=[0.1, 0.1, 0.1, 0.1, 0.1, 0.1, 0.1, 0.1, 0.1, 0.1,\n",
              "                    0.001, 0.001, 0.001, 0.001, 0.001, 0.001, 0.001, 0.001,\n",
              "                    0.001, 0.001, 0.01, 0.01, 0.01, 0.01, 0.01, 0.01, 0.01,\n",
              "                    0.01, 0.01, 0.01, 0.1, 0.1, 0.1, 0.1, 0.1, 0.1, 0.1,\n",
              "                    0.1, 0.1, 0.1, 0.001, 0.001, 0.001, 0.001, 0.001,\n",
              "                    0.001, 0.001, 0.001, 0.001, 0.001, 0.01, 0.01, 0.01,\n",
              "                    0.01, 0.01, 0.01, 0.01, 0.01, 0.01, 0.01, 0.1, 0.1,\n",
              "                    0.1, 0.1, 0.1, 0.1, 0.1, 0.1, 0.1, 0.1, 0.001, 0.001,\n",
              "                    0.001, 0.001, 0.001, 0.001, 0.001, 0.001, 0.001, 0.001,\n",
              "                    0.01, 0.01, 0.01, 0.01, 0.01, 0.01, 0.01, 0.01, 0.01,\n",
              "                    0.01],\n",
              "              mask=[False, False, False, False, False, False, False, False,\n",
              "                    False, False, False, False, False, False, False, False,\n",
              "                    False, False, False, False, False, False, False, False,\n",
              "                    False, False, False, False, False, False, False, False,\n",
              "                    False, False, False, False, False, False, False, False,\n",
              "                    False, False, False, False, False, False, False, False,\n",
              "                    False, False, False, False, False, False, False, False,\n",
              "                    False, False, False, False, False, False, False, False,\n",
              "                    False, False, False, False, False, False, False, False,\n",
              "                    False, False, False, False, False, False, False, False,\n",
              "                    False, False, False, False, False, False, False, False,\n",
              "                    False, False],\n",
              "        fill_value=1e+20),\n",
              " 'param_hidden_layer_sizes': masked_array(data=[(64, 32), (64, 32), (128, 64, 32), (128, 64, 32),\n",
              "                    (26, 90), (26, 90), (64, 32, 6), (64, 32, 6),\n",
              "                    (128, 64, 16), (128, 64, 16), (64, 32), (64, 32),\n",
              "                    (128, 64, 32), (128, 64, 32), (26, 90), (26, 90),\n",
              "                    (64, 32, 6), (64, 32, 6), (128, 64, 16), (128, 64, 16),\n",
              "                    (64, 32), (64, 32), (128, 64, 32), (128, 64, 32),\n",
              "                    (26, 90), (26, 90), (64, 32, 6), (64, 32, 6),\n",
              "                    (128, 64, 16), (128, 64, 16), (64, 32), (64, 32),\n",
              "                    (128, 64, 32), (128, 64, 32), (26, 90), (26, 90),\n",
              "                    (64, 32, 6), (64, 32, 6), (128, 64, 16), (128, 64, 16),\n",
              "                    (64, 32), (64, 32), (128, 64, 32), (128, 64, 32),\n",
              "                    (26, 90), (26, 90), (64, 32, 6), (64, 32, 6),\n",
              "                    (128, 64, 16), (128, 64, 16), (64, 32), (64, 32),\n",
              "                    (128, 64, 32), (128, 64, 32), (26, 90), (26, 90),\n",
              "                    (64, 32, 6), (64, 32, 6), (128, 64, 16), (128, 64, 16),\n",
              "                    (64, 32), (64, 32), (128, 64, 32), (128, 64, 32),\n",
              "                    (26, 90), (26, 90), (64, 32, 6), (64, 32, 6),\n",
              "                    (128, 64, 16), (128, 64, 16), (64, 32), (64, 32),\n",
              "                    (128, 64, 32), (128, 64, 32), (26, 90), (26, 90),\n",
              "                    (64, 32, 6), (64, 32, 6), (128, 64, 16), (128, 64, 16),\n",
              "                    (64, 32), (64, 32), (128, 64, 32), (128, 64, 32),\n",
              "                    (26, 90), (26, 90), (64, 32, 6), (64, 32, 6),\n",
              "                    (128, 64, 16), (128, 64, 16)],\n",
              "              mask=[False, False, False, False, False, False, False, False,\n",
              "                    False, False, False, False, False, False, False, False,\n",
              "                    False, False, False, False, False, False, False, False,\n",
              "                    False, False, False, False, False, False, False, False,\n",
              "                    False, False, False, False, False, False, False, False,\n",
              "                    False, False, False, False, False, False, False, False,\n",
              "                    False, False, False, False, False, False, False, False,\n",
              "                    False, False, False, False, False, False, False, False,\n",
              "                    False, False, False, False, False, False, False, False,\n",
              "                    False, False, False, False, False, False, False, False,\n",
              "                    False, False, False, False, False, False, False, False,\n",
              "                    False, False],\n",
              "        fill_value='?',\n",
              "             dtype=object),\n",
              " 'param_solver': masked_array(data=['adam', 'sgd', 'adam', 'sgd', 'adam', 'sgd', 'adam',\n",
              "                    'sgd', 'adam', 'sgd', 'adam', 'sgd', 'adam', 'sgd',\n",
              "                    'adam', 'sgd', 'adam', 'sgd', 'adam', 'sgd', 'adam',\n",
              "                    'sgd', 'adam', 'sgd', 'adam', 'sgd', 'adam', 'sgd',\n",
              "                    'adam', 'sgd', 'adam', 'sgd', 'adam', 'sgd', 'adam',\n",
              "                    'sgd', 'adam', 'sgd', 'adam', 'sgd', 'adam', 'sgd',\n",
              "                    'adam', 'sgd', 'adam', 'sgd', 'adam', 'sgd', 'adam',\n",
              "                    'sgd', 'adam', 'sgd', 'adam', 'sgd', 'adam', 'sgd',\n",
              "                    'adam', 'sgd', 'adam', 'sgd', 'adam', 'sgd', 'adam',\n",
              "                    'sgd', 'adam', 'sgd', 'adam', 'sgd', 'adam', 'sgd',\n",
              "                    'adam', 'sgd', 'adam', 'sgd', 'adam', 'sgd', 'adam',\n",
              "                    'sgd', 'adam', 'sgd', 'adam', 'sgd', 'adam', 'sgd',\n",
              "                    'adam', 'sgd', 'adam', 'sgd', 'adam', 'sgd'],\n",
              "              mask=[False, False, False, False, False, False, False, False,\n",
              "                    False, False, False, False, False, False, False, False,\n",
              "                    False, False, False, False, False, False, False, False,\n",
              "                    False, False, False, False, False, False, False, False,\n",
              "                    False, False, False, False, False, False, False, False,\n",
              "                    False, False, False, False, False, False, False, False,\n",
              "                    False, False, False, False, False, False, False, False,\n",
              "                    False, False, False, False, False, False, False, False,\n",
              "                    False, False, False, False, False, False, False, False,\n",
              "                    False, False, False, False, False, False, False, False,\n",
              "                    False, False, False, False, False, False, False, False,\n",
              "                    False, False],\n",
              "        fill_value='?',\n",
              "             dtype=object),\n",
              " 'params': [{'activation': 'relu',\n",
              "   'alpha': 0.1,\n",
              "   'hidden_layer_sizes': (64, 32),\n",
              "   'solver': 'adam'},\n",
              "  {'activation': 'relu',\n",
              "   'alpha': 0.1,\n",
              "   'hidden_layer_sizes': (64, 32),\n",
              "   'solver': 'sgd'},\n",
              "  {'activation': 'relu',\n",
              "   'alpha': 0.1,\n",
              "   'hidden_layer_sizes': (128, 64, 32),\n",
              "   'solver': 'adam'},\n",
              "  {'activation': 'relu',\n",
              "   'alpha': 0.1,\n",
              "   'hidden_layer_sizes': (128, 64, 32),\n",
              "   'solver': 'sgd'},\n",
              "  {'activation': 'relu',\n",
              "   'alpha': 0.1,\n",
              "   'hidden_layer_sizes': (26, 90),\n",
              "   'solver': 'adam'},\n",
              "  {'activation': 'relu',\n",
              "   'alpha': 0.1,\n",
              "   'hidden_layer_sizes': (26, 90),\n",
              "   'solver': 'sgd'},\n",
              "  {'activation': 'relu',\n",
              "   'alpha': 0.1,\n",
              "   'hidden_layer_sizes': (64, 32, 6),\n",
              "   'solver': 'adam'},\n",
              "  {'activation': 'relu',\n",
              "   'alpha': 0.1,\n",
              "   'hidden_layer_sizes': (64, 32, 6),\n",
              "   'solver': 'sgd'},\n",
              "  {'activation': 'relu',\n",
              "   'alpha': 0.1,\n",
              "   'hidden_layer_sizes': (128, 64, 16),\n",
              "   'solver': 'adam'},\n",
              "  {'activation': 'relu',\n",
              "   'alpha': 0.1,\n",
              "   'hidden_layer_sizes': (128, 64, 16),\n",
              "   'solver': 'sgd'},\n",
              "  {'activation': 'relu',\n",
              "   'alpha': 0.001,\n",
              "   'hidden_layer_sizes': (64, 32),\n",
              "   'solver': 'adam'},\n",
              "  {'activation': 'relu',\n",
              "   'alpha': 0.001,\n",
              "   'hidden_layer_sizes': (64, 32),\n",
              "   'solver': 'sgd'},\n",
              "  {'activation': 'relu',\n",
              "   'alpha': 0.001,\n",
              "   'hidden_layer_sizes': (128, 64, 32),\n",
              "   'solver': 'adam'},\n",
              "  {'activation': 'relu',\n",
              "   'alpha': 0.001,\n",
              "   'hidden_layer_sizes': (128, 64, 32),\n",
              "   'solver': 'sgd'},\n",
              "  {'activation': 'relu',\n",
              "   'alpha': 0.001,\n",
              "   'hidden_layer_sizes': (26, 90),\n",
              "   'solver': 'adam'},\n",
              "  {'activation': 'relu',\n",
              "   'alpha': 0.001,\n",
              "   'hidden_layer_sizes': (26, 90),\n",
              "   'solver': 'sgd'},\n",
              "  {'activation': 'relu',\n",
              "   'alpha': 0.001,\n",
              "   'hidden_layer_sizes': (64, 32, 6),\n",
              "   'solver': 'adam'},\n",
              "  {'activation': 'relu',\n",
              "   'alpha': 0.001,\n",
              "   'hidden_layer_sizes': (64, 32, 6),\n",
              "   'solver': 'sgd'},\n",
              "  {'activation': 'relu',\n",
              "   'alpha': 0.001,\n",
              "   'hidden_layer_sizes': (128, 64, 16),\n",
              "   'solver': 'adam'},\n",
              "  {'activation': 'relu',\n",
              "   'alpha': 0.001,\n",
              "   'hidden_layer_sizes': (128, 64, 16),\n",
              "   'solver': 'sgd'},\n",
              "  {'activation': 'relu',\n",
              "   'alpha': 0.01,\n",
              "   'hidden_layer_sizes': (64, 32),\n",
              "   'solver': 'adam'},\n",
              "  {'activation': 'relu',\n",
              "   'alpha': 0.01,\n",
              "   'hidden_layer_sizes': (64, 32),\n",
              "   'solver': 'sgd'},\n",
              "  {'activation': 'relu',\n",
              "   'alpha': 0.01,\n",
              "   'hidden_layer_sizes': (128, 64, 32),\n",
              "   'solver': 'adam'},\n",
              "  {'activation': 'relu',\n",
              "   'alpha': 0.01,\n",
              "   'hidden_layer_sizes': (128, 64, 32),\n",
              "   'solver': 'sgd'},\n",
              "  {'activation': 'relu',\n",
              "   'alpha': 0.01,\n",
              "   'hidden_layer_sizes': (26, 90),\n",
              "   'solver': 'adam'},\n",
              "  {'activation': 'relu',\n",
              "   'alpha': 0.01,\n",
              "   'hidden_layer_sizes': (26, 90),\n",
              "   'solver': 'sgd'},\n",
              "  {'activation': 'relu',\n",
              "   'alpha': 0.01,\n",
              "   'hidden_layer_sizes': (64, 32, 6),\n",
              "   'solver': 'adam'},\n",
              "  {'activation': 'relu',\n",
              "   'alpha': 0.01,\n",
              "   'hidden_layer_sizes': (64, 32, 6),\n",
              "   'solver': 'sgd'},\n",
              "  {'activation': 'relu',\n",
              "   'alpha': 0.01,\n",
              "   'hidden_layer_sizes': (128, 64, 16),\n",
              "   'solver': 'adam'},\n",
              "  {'activation': 'relu',\n",
              "   'alpha': 0.01,\n",
              "   'hidden_layer_sizes': (128, 64, 16),\n",
              "   'solver': 'sgd'},\n",
              "  {'activation': 'tanh',\n",
              "   'alpha': 0.1,\n",
              "   'hidden_layer_sizes': (64, 32),\n",
              "   'solver': 'adam'},\n",
              "  {'activation': 'tanh',\n",
              "   'alpha': 0.1,\n",
              "   'hidden_layer_sizes': (64, 32),\n",
              "   'solver': 'sgd'},\n",
              "  {'activation': 'tanh',\n",
              "   'alpha': 0.1,\n",
              "   'hidden_layer_sizes': (128, 64, 32),\n",
              "   'solver': 'adam'},\n",
              "  {'activation': 'tanh',\n",
              "   'alpha': 0.1,\n",
              "   'hidden_layer_sizes': (128, 64, 32),\n",
              "   'solver': 'sgd'},\n",
              "  {'activation': 'tanh',\n",
              "   'alpha': 0.1,\n",
              "   'hidden_layer_sizes': (26, 90),\n",
              "   'solver': 'adam'},\n",
              "  {'activation': 'tanh',\n",
              "   'alpha': 0.1,\n",
              "   'hidden_layer_sizes': (26, 90),\n",
              "   'solver': 'sgd'},\n",
              "  {'activation': 'tanh',\n",
              "   'alpha': 0.1,\n",
              "   'hidden_layer_sizes': (64, 32, 6),\n",
              "   'solver': 'adam'},\n",
              "  {'activation': 'tanh',\n",
              "   'alpha': 0.1,\n",
              "   'hidden_layer_sizes': (64, 32, 6),\n",
              "   'solver': 'sgd'},\n",
              "  {'activation': 'tanh',\n",
              "   'alpha': 0.1,\n",
              "   'hidden_layer_sizes': (128, 64, 16),\n",
              "   'solver': 'adam'},\n",
              "  {'activation': 'tanh',\n",
              "   'alpha': 0.1,\n",
              "   'hidden_layer_sizes': (128, 64, 16),\n",
              "   'solver': 'sgd'},\n",
              "  {'activation': 'tanh',\n",
              "   'alpha': 0.001,\n",
              "   'hidden_layer_sizes': (64, 32),\n",
              "   'solver': 'adam'},\n",
              "  {'activation': 'tanh',\n",
              "   'alpha': 0.001,\n",
              "   'hidden_layer_sizes': (64, 32),\n",
              "   'solver': 'sgd'},\n",
              "  {'activation': 'tanh',\n",
              "   'alpha': 0.001,\n",
              "   'hidden_layer_sizes': (128, 64, 32),\n",
              "   'solver': 'adam'},\n",
              "  {'activation': 'tanh',\n",
              "   'alpha': 0.001,\n",
              "   'hidden_layer_sizes': (128, 64, 32),\n",
              "   'solver': 'sgd'},\n",
              "  {'activation': 'tanh',\n",
              "   'alpha': 0.001,\n",
              "   'hidden_layer_sizes': (26, 90),\n",
              "   'solver': 'adam'},\n",
              "  {'activation': 'tanh',\n",
              "   'alpha': 0.001,\n",
              "   'hidden_layer_sizes': (26, 90),\n",
              "   'solver': 'sgd'},\n",
              "  {'activation': 'tanh',\n",
              "   'alpha': 0.001,\n",
              "   'hidden_layer_sizes': (64, 32, 6),\n",
              "   'solver': 'adam'},\n",
              "  {'activation': 'tanh',\n",
              "   'alpha': 0.001,\n",
              "   'hidden_layer_sizes': (64, 32, 6),\n",
              "   'solver': 'sgd'},\n",
              "  {'activation': 'tanh',\n",
              "   'alpha': 0.001,\n",
              "   'hidden_layer_sizes': (128, 64, 16),\n",
              "   'solver': 'adam'},\n",
              "  {'activation': 'tanh',\n",
              "   'alpha': 0.001,\n",
              "   'hidden_layer_sizes': (128, 64, 16),\n",
              "   'solver': 'sgd'},\n",
              "  {'activation': 'tanh',\n",
              "   'alpha': 0.01,\n",
              "   'hidden_layer_sizes': (64, 32),\n",
              "   'solver': 'adam'},\n",
              "  {'activation': 'tanh',\n",
              "   'alpha': 0.01,\n",
              "   'hidden_layer_sizes': (64, 32),\n",
              "   'solver': 'sgd'},\n",
              "  {'activation': 'tanh',\n",
              "   'alpha': 0.01,\n",
              "   'hidden_layer_sizes': (128, 64, 32),\n",
              "   'solver': 'adam'},\n",
              "  {'activation': 'tanh',\n",
              "   'alpha': 0.01,\n",
              "   'hidden_layer_sizes': (128, 64, 32),\n",
              "   'solver': 'sgd'},\n",
              "  {'activation': 'tanh',\n",
              "   'alpha': 0.01,\n",
              "   'hidden_layer_sizes': (26, 90),\n",
              "   'solver': 'adam'},\n",
              "  {'activation': 'tanh',\n",
              "   'alpha': 0.01,\n",
              "   'hidden_layer_sizes': (26, 90),\n",
              "   'solver': 'sgd'},\n",
              "  {'activation': 'tanh',\n",
              "   'alpha': 0.01,\n",
              "   'hidden_layer_sizes': (64, 32, 6),\n",
              "   'solver': 'adam'},\n",
              "  {'activation': 'tanh',\n",
              "   'alpha': 0.01,\n",
              "   'hidden_layer_sizes': (64, 32, 6),\n",
              "   'solver': 'sgd'},\n",
              "  {'activation': 'tanh',\n",
              "   'alpha': 0.01,\n",
              "   'hidden_layer_sizes': (128, 64, 16),\n",
              "   'solver': 'adam'},\n",
              "  {'activation': 'tanh',\n",
              "   'alpha': 0.01,\n",
              "   'hidden_layer_sizes': (128, 64, 16),\n",
              "   'solver': 'sgd'},\n",
              "  {'activation': 'sigmoid',\n",
              "   'alpha': 0.1,\n",
              "   'hidden_layer_sizes': (64, 32),\n",
              "   'solver': 'adam'},\n",
              "  {'activation': 'sigmoid',\n",
              "   'alpha': 0.1,\n",
              "   'hidden_layer_sizes': (64, 32),\n",
              "   'solver': 'sgd'},\n",
              "  {'activation': 'sigmoid',\n",
              "   'alpha': 0.1,\n",
              "   'hidden_layer_sizes': (128, 64, 32),\n",
              "   'solver': 'adam'},\n",
              "  {'activation': 'sigmoid',\n",
              "   'alpha': 0.1,\n",
              "   'hidden_layer_sizes': (128, 64, 32),\n",
              "   'solver': 'sgd'},\n",
              "  {'activation': 'sigmoid',\n",
              "   'alpha': 0.1,\n",
              "   'hidden_layer_sizes': (26, 90),\n",
              "   'solver': 'adam'},\n",
              "  {'activation': 'sigmoid',\n",
              "   'alpha': 0.1,\n",
              "   'hidden_layer_sizes': (26, 90),\n",
              "   'solver': 'sgd'},\n",
              "  {'activation': 'sigmoid',\n",
              "   'alpha': 0.1,\n",
              "   'hidden_layer_sizes': (64, 32, 6),\n",
              "   'solver': 'adam'},\n",
              "  {'activation': 'sigmoid',\n",
              "   'alpha': 0.1,\n",
              "   'hidden_layer_sizes': (64, 32, 6),\n",
              "   'solver': 'sgd'},\n",
              "  {'activation': 'sigmoid',\n",
              "   'alpha': 0.1,\n",
              "   'hidden_layer_sizes': (128, 64, 16),\n",
              "   'solver': 'adam'},\n",
              "  {'activation': 'sigmoid',\n",
              "   'alpha': 0.1,\n",
              "   'hidden_layer_sizes': (128, 64, 16),\n",
              "   'solver': 'sgd'},\n",
              "  {'activation': 'sigmoid',\n",
              "   'alpha': 0.001,\n",
              "   'hidden_layer_sizes': (64, 32),\n",
              "   'solver': 'adam'},\n",
              "  {'activation': 'sigmoid',\n",
              "   'alpha': 0.001,\n",
              "   'hidden_layer_sizes': (64, 32),\n",
              "   'solver': 'sgd'},\n",
              "  {'activation': 'sigmoid',\n",
              "   'alpha': 0.001,\n",
              "   'hidden_layer_sizes': (128, 64, 32),\n",
              "   'solver': 'adam'},\n",
              "  {'activation': 'sigmoid',\n",
              "   'alpha': 0.001,\n",
              "   'hidden_layer_sizes': (128, 64, 32),\n",
              "   'solver': 'sgd'},\n",
              "  {'activation': 'sigmoid',\n",
              "   'alpha': 0.001,\n",
              "   'hidden_layer_sizes': (26, 90),\n",
              "   'solver': 'adam'},\n",
              "  {'activation': 'sigmoid',\n",
              "   'alpha': 0.001,\n",
              "   'hidden_layer_sizes': (26, 90),\n",
              "   'solver': 'sgd'},\n",
              "  {'activation': 'sigmoid',\n",
              "   'alpha': 0.001,\n",
              "   'hidden_layer_sizes': (64, 32, 6),\n",
              "   'solver': 'adam'},\n",
              "  {'activation': 'sigmoid',\n",
              "   'alpha': 0.001,\n",
              "   'hidden_layer_sizes': (64, 32, 6),\n",
              "   'solver': 'sgd'},\n",
              "  {'activation': 'sigmoid',\n",
              "   'alpha': 0.001,\n",
              "   'hidden_layer_sizes': (128, 64, 16),\n",
              "   'solver': 'adam'},\n",
              "  {'activation': 'sigmoid',\n",
              "   'alpha': 0.001,\n",
              "   'hidden_layer_sizes': (128, 64, 16),\n",
              "   'solver': 'sgd'},\n",
              "  {'activation': 'sigmoid',\n",
              "   'alpha': 0.01,\n",
              "   'hidden_layer_sizes': (64, 32),\n",
              "   'solver': 'adam'},\n",
              "  {'activation': 'sigmoid',\n",
              "   'alpha': 0.01,\n",
              "   'hidden_layer_sizes': (64, 32),\n",
              "   'solver': 'sgd'},\n",
              "  {'activation': 'sigmoid',\n",
              "   'alpha': 0.01,\n",
              "   'hidden_layer_sizes': (128, 64, 32),\n",
              "   'solver': 'adam'},\n",
              "  {'activation': 'sigmoid',\n",
              "   'alpha': 0.01,\n",
              "   'hidden_layer_sizes': (128, 64, 32),\n",
              "   'solver': 'sgd'},\n",
              "  {'activation': 'sigmoid',\n",
              "   'alpha': 0.01,\n",
              "   'hidden_layer_sizes': (26, 90),\n",
              "   'solver': 'adam'},\n",
              "  {'activation': 'sigmoid',\n",
              "   'alpha': 0.01,\n",
              "   'hidden_layer_sizes': (26, 90),\n",
              "   'solver': 'sgd'},\n",
              "  {'activation': 'sigmoid',\n",
              "   'alpha': 0.01,\n",
              "   'hidden_layer_sizes': (64, 32, 6),\n",
              "   'solver': 'adam'},\n",
              "  {'activation': 'sigmoid',\n",
              "   'alpha': 0.01,\n",
              "   'hidden_layer_sizes': (64, 32, 6),\n",
              "   'solver': 'sgd'},\n",
              "  {'activation': 'sigmoid',\n",
              "   'alpha': 0.01,\n",
              "   'hidden_layer_sizes': (128, 64, 16),\n",
              "   'solver': 'adam'},\n",
              "  {'activation': 'sigmoid',\n",
              "   'alpha': 0.01,\n",
              "   'hidden_layer_sizes': (128, 64, 16),\n",
              "   'solver': 'sgd'}],\n",
              " 'split0_test_score': array([0.94444444, 0.94444444, 0.94444444, 0.97222222, 0.97222222,\n",
              "        0.97222222, 0.97222222, 1.        , 0.94444444, 0.94444444,\n",
              "        0.94444444, 0.94444444, 0.94444444, 0.97222222, 0.97222222,\n",
              "        0.97222222, 0.94444444, 1.        , 0.97222222, 0.94444444,\n",
              "        0.94444444, 0.94444444, 0.94444444, 0.97222222, 0.97222222,\n",
              "        0.97222222, 0.94444444, 1.        , 0.97222222, 0.94444444,\n",
              "        0.97222222, 0.94444444, 0.97222222, 0.97222222, 0.94444444,\n",
              "        0.97222222, 0.94444444, 0.97222222, 0.97222222, 0.94444444,\n",
              "        0.97222222, 0.94444444, 0.97222222, 0.97222222, 0.94444444,\n",
              "        0.97222222, 0.94444444, 0.97222222, 0.97222222, 0.94444444,\n",
              "        0.97222222, 0.94444444, 0.97222222, 0.97222222, 0.94444444,\n",
              "        0.97222222, 0.94444444, 0.97222222, 0.97222222, 0.94444444,\n",
              "               nan,        nan,        nan,        nan,        nan,\n",
              "               nan,        nan,        nan,        nan,        nan,\n",
              "               nan,        nan,        nan,        nan,        nan,\n",
              "               nan,        nan,        nan,        nan,        nan,\n",
              "               nan,        nan,        nan,        nan,        nan,\n",
              "               nan,        nan,        nan,        nan,        nan]),\n",
              " 'split1_test_score': array([0.94444444, 0.94444444, 0.94444444, 0.94444444, 0.97222222,\n",
              "        0.97222222, 0.94444444, 0.94444444, 0.94444444, 0.94444444,\n",
              "        0.94444444, 0.94444444, 0.94444444, 0.94444444, 0.97222222,\n",
              "        0.97222222, 0.94444444, 0.94444444, 0.94444444, 0.94444444,\n",
              "        0.94444444, 0.94444444, 0.94444444, 0.94444444, 0.97222222,\n",
              "        0.97222222, 0.94444444, 0.94444444, 0.94444444, 0.94444444,\n",
              "        0.97222222, 0.94444444, 0.97222222, 0.94444444, 0.97222222,\n",
              "        0.94444444, 0.97222222, 0.97222222, 0.97222222, 0.97222222,\n",
              "        0.97222222, 0.94444444, 0.97222222, 0.94444444, 0.97222222,\n",
              "        0.94444444, 0.97222222, 0.97222222, 0.97222222, 0.97222222,\n",
              "        0.97222222, 0.94444444, 0.97222222, 0.94444444, 0.97222222,\n",
              "        0.94444444, 0.97222222, 0.97222222, 0.97222222, 0.97222222,\n",
              "               nan,        nan,        nan,        nan,        nan,\n",
              "               nan,        nan,        nan,        nan,        nan,\n",
              "               nan,        nan,        nan,        nan,        nan,\n",
              "               nan,        nan,        nan,        nan,        nan,\n",
              "               nan,        nan,        nan,        nan,        nan,\n",
              "               nan,        nan,        nan,        nan,        nan]),\n",
              " 'split2_test_score': array([1.        , 0.97222222, 1.        , 1.        , 0.97222222,\n",
              "        0.91666667, 1.        , 1.        , 1.        , 0.97222222,\n",
              "        1.        , 0.97222222, 1.        , 1.        , 0.97222222,\n",
              "        0.91666667, 0.97222222, 1.        , 1.        , 0.97222222,\n",
              "        1.        , 0.97222222, 1.        , 1.        , 0.97222222,\n",
              "        0.91666667, 1.        , 1.        , 1.        , 0.97222222,\n",
              "        1.        , 0.97222222, 0.97222222, 1.        , 0.97222222,\n",
              "        1.        , 0.97222222, 1.        , 0.97222222, 1.        ,\n",
              "        1.        , 0.97222222, 0.97222222, 1.        , 0.97222222,\n",
              "        1.        , 0.97222222, 1.        , 0.97222222, 1.        ,\n",
              "        1.        , 0.97222222, 0.97222222, 1.        , 0.97222222,\n",
              "        1.        , 0.97222222, 1.        , 0.97222222, 1.        ,\n",
              "               nan,        nan,        nan,        nan,        nan,\n",
              "               nan,        nan,        nan,        nan,        nan,\n",
              "               nan,        nan,        nan,        nan,        nan,\n",
              "               nan,        nan,        nan,        nan,        nan,\n",
              "               nan,        nan,        nan,        nan,        nan,\n",
              "               nan,        nan,        nan,        nan,        nan]),\n",
              " 'split3_test_score': array([1.        , 1.        , 1.        , 1.        , 0.97142857,\n",
              "        1.        , 1.        , 1.        , 1.        , 1.        ,\n",
              "        1.        , 1.        , 1.        , 1.        , 0.97142857,\n",
              "        1.        , 1.        , 1.        , 1.        , 1.        ,\n",
              "        1.        , 1.        , 1.        , 1.        , 0.97142857,\n",
              "        1.        , 1.        , 1.        , 1.        , 1.        ,\n",
              "        1.        , 0.97142857, 1.        , 1.        , 0.97142857,\n",
              "        0.97142857, 1.        , 1.        , 1.        , 1.        ,\n",
              "        1.        , 0.97142857, 1.        , 1.        , 0.97142857,\n",
              "        0.97142857, 1.        , 1.        , 1.        , 1.        ,\n",
              "        1.        , 0.97142857, 1.        , 1.        , 0.97142857,\n",
              "        0.97142857, 1.        , 1.        , 1.        , 1.        ,\n",
              "               nan,        nan,        nan,        nan,        nan,\n",
              "               nan,        nan,        nan,        nan,        nan,\n",
              "               nan,        nan,        nan,        nan,        nan,\n",
              "               nan,        nan,        nan,        nan,        nan,\n",
              "               nan,        nan,        nan,        nan,        nan,\n",
              "               nan,        nan,        nan,        nan,        nan]),\n",
              " 'split4_test_score': array([1.        , 0.94285714, 1.        , 1.        , 0.97142857,\n",
              "        0.97142857, 1.        , 1.        , 1.        , 1.        ,\n",
              "        1.        , 0.94285714, 1.        , 1.        , 0.97142857,\n",
              "        0.97142857, 1.        , 1.        , 1.        , 1.        ,\n",
              "        1.        , 0.94285714, 1.        , 1.        , 0.97142857,\n",
              "        0.97142857, 1.        , 1.        , 1.        , 1.        ,\n",
              "        1.        , 0.94285714, 1.        , 1.        , 1.        ,\n",
              "        0.97142857, 1.        , 1.        , 1.        , 1.        ,\n",
              "        1.        , 0.94285714, 1.        , 1.        , 1.        ,\n",
              "        0.97142857, 1.        , 1.        , 1.        , 1.        ,\n",
              "        1.        , 0.94285714, 1.        , 1.        , 1.        ,\n",
              "        0.97142857, 1.        , 1.        , 1.        , 1.        ,\n",
              "               nan,        nan,        nan,        nan,        nan,\n",
              "               nan,        nan,        nan,        nan,        nan,\n",
              "               nan,        nan,        nan,        nan,        nan,\n",
              "               nan,        nan,        nan,        nan,        nan,\n",
              "               nan,        nan,        nan,        nan,        nan,\n",
              "               nan,        nan,        nan,        nan,        nan]),\n",
              " 'mean_test_score': array([0.97777778, 0.96079365, 0.97777778, 0.98333333, 0.97190476,\n",
              "        0.96650794, 0.98333333, 0.98888889, 0.97777778, 0.97222222,\n",
              "        0.97777778, 0.96079365, 0.97777778, 0.98333333, 0.97190476,\n",
              "        0.96650794, 0.97222222, 0.98888889, 0.98333333, 0.97222222,\n",
              "        0.97777778, 0.96079365, 0.97777778, 0.98333333, 0.97190476,\n",
              "        0.96650794, 0.97777778, 0.98888889, 0.98333333, 0.97222222,\n",
              "        0.98888889, 0.95507937, 0.98333333, 0.98333333, 0.97206349,\n",
              "        0.97190476, 0.97777778, 0.98888889, 0.98333333, 0.98333333,\n",
              "        0.98888889, 0.95507937, 0.98333333, 0.98333333, 0.97206349,\n",
              "        0.97190476, 0.97777778, 0.98888889, 0.98333333, 0.98333333,\n",
              "        0.98888889, 0.95507937, 0.98333333, 0.98333333, 0.97206349,\n",
              "        0.97190476, 0.97777778, 0.98888889, 0.98333333, 0.98333333,\n",
              "               nan,        nan,        nan,        nan,        nan,\n",
              "               nan,        nan,        nan,        nan,        nan,\n",
              "               nan,        nan,        nan,        nan,        nan,\n",
              "               nan,        nan,        nan,        nan,        nan,\n",
              "               nan,        nan,        nan,        nan,        nan,\n",
              "               nan,        nan,        nan,        nan,        nan]),\n",
              " 'std_test_score': array([0.02721655, 0.02246803, 0.02721655, 0.02222222, 0.00038881,\n",
              "        0.02718599, 0.02222222, 0.02222222, 0.02721655, 0.0248452 ,\n",
              "        0.02721655, 0.02246803, 0.02721655, 0.02222222, 0.00038881,\n",
              "        0.02718599, 0.0248452 , 0.02222222, 0.02222222, 0.0248452 ,\n",
              "        0.02721655, 0.02246803, 0.02721655, 0.02222222, 0.00038881,\n",
              "        0.02718599, 0.02721655, 0.02222222, 0.02222222, 0.0248452 ,\n",
              "        0.01360828, 0.01368766, 0.01360828, 0.02222222, 0.01757108,\n",
              "        0.01757251, 0.02078699, 0.01360828, 0.01360828, 0.02222222,\n",
              "        0.01360828, 0.01368766, 0.01360828, 0.02222222, 0.01757108,\n",
              "        0.01757251, 0.02078699, 0.01360828, 0.01360828, 0.02222222,\n",
              "        0.01360828, 0.01368766, 0.01360828, 0.02222222, 0.01757108,\n",
              "        0.01757251, 0.02078699, 0.01360828, 0.01360828, 0.02222222,\n",
              "               nan,        nan,        nan,        nan,        nan,\n",
              "               nan,        nan,        nan,        nan,        nan,\n",
              "               nan,        nan,        nan,        nan,        nan,\n",
              "               nan,        nan,        nan,        nan,        nan,\n",
              "               nan,        nan,        nan,        nan,        nan,\n",
              "               nan,        nan,        nan,        nan,        nan]),\n",
              " 'rank_test_score': array([28, 55, 28, 10, 46, 52, 10,  1, 28, 39, 28, 55, 28, 10, 46, 52, 39,\n",
              "         1, 10, 39, 28, 55, 28, 10, 46, 52, 28,  1, 10, 39,  1, 58, 10, 10,\n",
              "        43, 46, 28,  1, 10, 10,  1, 58, 10, 10, 43, 46, 28,  1, 10, 10,  1,\n",
              "        58, 10, 10, 43, 46, 28,  1, 10, 10, 61, 61, 61, 61, 61, 61, 61, 61,\n",
              "        61, 61, 61, 61, 61, 61, 61, 61, 61, 61, 61, 61, 61, 61, 61, 61, 61,\n",
              "        61, 61, 61, 61, 61], dtype=int32)}"
            ]
          },
          "metadata": {},
          "execution_count": 59
        }
      ]
    },
    {
      "cell_type": "markdown",
      "source": [
        "##MLP"
      ],
      "metadata": {
        "id": "op6nkF8jlIZQ"
      }
    },
    {
      "cell_type": "code",
      "source": [
        "print(clf.best_params_)\n",
        "print(clf.best_score_)"
      ],
      "metadata": {
        "colab": {
          "base_uri": "https://localhost:8080/"
        },
        "id": "zOx1P419n1Bk",
        "outputId": "142f6eee-0435-4634-8021-ea988be4d208"
      },
      "execution_count": null,
      "outputs": [
        {
          "output_type": "stream",
          "name": "stdout",
          "text": [
            "{'activation': 'relu', 'alpha': 0.1, 'hidden_layer_sizes': (64, 32, 6), 'solver': 'sgd'}\n",
            "0.9888888888888889\n"
          ]
        }
      ]
    },
    {
      "cell_type": "markdown",
      "source": [
        "##KAN"
      ],
      "metadata": {
        "id": "pKt6cpnRoqbv"
      }
    },
    {
      "cell_type": "code",
      "source": [
        "kan_accuracy = []\n",
        "hyperparameters = []\n",
        "hidden_layers= [64, 32, 27]\n",
        "activations = [0.1,0.3]\n",
        "entropies = [0.1, 0.3]\n",
        "ridges = [0.1,0.3]\n",
        "for hidden_layer_size in hidden_layers:\n",
        "  for regularize_activation in activations:\n",
        "    for regularize_entropy in entropies:\n",
        "      for regularize_ridge in ridges:\n",
        "        model_test = KANClassifier(hidden_layer_size=hidden_layer_size,\n",
        "                                   device='cpu',\n",
        "                                   regularize_activation=regularize_activation,\n",
        "                                   regularize_entropy=regularize_entropy,\n",
        "                                   regularize_ridge=regularize_ridge)\n",
        "        y_pred_kan_test, loss_kan_test = kan_run(model_test)\n",
        "        kan_accuracy.append(accuracy_score(y_test,y_pred_kan_test))\n",
        "        hyperparameters.append((hidden_layer_size,regularize_activation,regularize_entropy,regularize_ridge))\n",
        "        print(f'hidden_layer_size: {hidden_layer_size},regularize_activation: {regularize_activation},regularize_entropy: {regularize_entropy},regularize_ridge: {regularize_ridge}')\n",
        "print(f'Kan Accuracy = {kan_accuracy}')\n",
        "print(f'Hyperparameters = {hyperparameters}')\n",
        "print(max(kan_accuracy))\n",
        "for i in range(len(kan_accuracy)):\n",
        "  if kan_accuracy[i] == max(kan_accuracy):\n",
        "    print(f'Best Hyperparameters = {hyperparameters[i]}')"
      ],
      "metadata": {
        "id": "ILG08Um5owOk",
        "colab": {
          "base_uri": "https://localhost:8080/"
        },
        "outputId": "b98f8bd0-ed0a-48c8-f839-773f222e6534"
      },
      "execution_count": null,
      "outputs": [
        {
          "output_type": "stream",
          "name": "stdout",
          "text": [
            "KAN RESULTS\n"
          ]
        },
        {
          "output_type": "stream",
          "name": "stderr",
          "text": [
            "100%|██████████| 100/100 [00:01<00:00, 57.47it/s]\n"
          ]
        },
        {
          "output_type": "stream",
          "name": "stdout",
          "text": [
            "Accuracy Score: 0.5898876404494382\n",
            "Confusion Matrix: \n",
            "[[16 31 12]\n",
            " [ 3 47 21]\n",
            " [ 1  5 42]]\n",
            "Classification Report: \n",
            "              precision    recall  f1-score   support\n",
            "\n",
            "         1.0       0.80      0.27      0.41        59\n",
            "         2.0       0.57      0.66      0.61        71\n",
            "         3.0       0.56      0.88      0.68        48\n",
            "\n",
            "    accuracy                           0.59       178\n",
            "   macro avg       0.64      0.60      0.57       178\n",
            "weighted avg       0.64      0.59      0.56       178\n",
            "\n",
            "hidden_layer_size: 64,regularize_activation: 0.1,regularize_entropy: 0.1,regularize_ridge: 0.1\n",
            "KAN RESULTS\n"
          ]
        },
        {
          "output_type": "stream",
          "name": "stderr",
          "text": [
            " 62%|██████▏   | 62/100 [00:01<00:00, 58.09it/s]\n"
          ]
        },
        {
          "output_type": "stream",
          "name": "stdout",
          "text": [
            "\tEarly stopping\n",
            "Accuracy Score: 0.4943820224719101\n",
            "Confusion Matrix: \n",
            "[[14 43  2]\n",
            " [29 28 14]\n",
            " [ 0  2 46]]\n",
            "Classification Report: \n",
            "              precision    recall  f1-score   support\n",
            "\n",
            "         1.0       0.33      0.24      0.27        59\n",
            "         2.0       0.38      0.39      0.39        71\n",
            "         3.0       0.74      0.96      0.84        48\n",
            "\n",
            "    accuracy                           0.49       178\n",
            "   macro avg       0.48      0.53      0.50       178\n",
            "weighted avg       0.46      0.49      0.47       178\n",
            "\n",
            "hidden_layer_size: 64,regularize_activation: 0.1,regularize_entropy: 0.1,regularize_ridge: 0.3\n",
            "KAN RESULTS\n"
          ]
        },
        {
          "output_type": "stream",
          "name": "stderr",
          "text": [
            "100%|██████████| 100/100 [00:01<00:00, 58.54it/s]\n"
          ]
        },
        {
          "output_type": "stream",
          "name": "stdout",
          "text": [
            "Accuracy Score: 0.7752808988764045\n",
            "Confusion Matrix: \n",
            "[[46  4  9]\n",
            " [ 9 46 16]\n",
            " [ 2  0 46]]\n",
            "Classification Report: \n",
            "              precision    recall  f1-score   support\n",
            "\n",
            "         1.0       0.81      0.78      0.79        59\n",
            "         2.0       0.92      0.65      0.76        71\n",
            "         3.0       0.65      0.96      0.77        48\n",
            "\n",
            "    accuracy                           0.78       178\n",
            "   macro avg       0.79      0.80      0.78       178\n",
            "weighted avg       0.81      0.78      0.77       178\n",
            "\n",
            "hidden_layer_size: 64,regularize_activation: 0.1,regularize_entropy: 0.3,regularize_ridge: 0.1\n",
            "KAN RESULTS\n"
          ]
        },
        {
          "output_type": "stream",
          "name": "stderr",
          "text": [
            "100%|██████████| 100/100 [00:02<00:00, 43.02it/s]\n"
          ]
        },
        {
          "output_type": "stream",
          "name": "stdout",
          "text": [
            "Accuracy Score: 0.5168539325842697\n",
            "Confusion Matrix: \n",
            "[[48 10  1]\n",
            " [23 29 19]\n",
            " [21 12 15]]\n",
            "Classification Report: \n",
            "              precision    recall  f1-score   support\n",
            "\n",
            "         1.0       0.52      0.81      0.64        59\n",
            "         2.0       0.57      0.41      0.48        71\n",
            "         3.0       0.43      0.31      0.36        48\n",
            "\n",
            "    accuracy                           0.52       178\n",
            "   macro avg       0.51      0.51      0.49       178\n",
            "weighted avg       0.52      0.52      0.50       178\n",
            "\n",
            "hidden_layer_size: 64,regularize_activation: 0.1,regularize_entropy: 0.3,regularize_ridge: 0.3\n",
            "KAN RESULTS\n"
          ]
        },
        {
          "output_type": "stream",
          "name": "stderr",
          "text": [
            "100%|██████████| 100/100 [00:02<00:00, 43.67it/s]\n"
          ]
        },
        {
          "output_type": "stream",
          "name": "stdout",
          "text": [
            "Accuracy Score: 0.43820224719101125\n",
            "Confusion Matrix: \n",
            "[[ 8 49  2]\n",
            " [13 37 21]\n",
            " [ 1 14 33]]\n",
            "Classification Report: \n",
            "              precision    recall  f1-score   support\n",
            "\n",
            "         1.0       0.36      0.14      0.20        59\n",
            "         2.0       0.37      0.52      0.43        71\n",
            "         3.0       0.59      0.69      0.63        48\n",
            "\n",
            "    accuracy                           0.44       178\n",
            "   macro avg       0.44      0.45      0.42       178\n",
            "weighted avg       0.43      0.44      0.41       178\n",
            "\n",
            "hidden_layer_size: 64,regularize_activation: 0.3,regularize_entropy: 0.1,regularize_ridge: 0.1\n",
            "KAN RESULTS\n"
          ]
        },
        {
          "output_type": "stream",
          "name": "stderr",
          "text": [
            "100%|██████████| 100/100 [00:02<00:00, 49.21it/s]\n"
          ]
        },
        {
          "output_type": "stream",
          "name": "stdout",
          "text": [
            "Accuracy Score: 0.5224719101123596\n",
            "Confusion Matrix: \n",
            "[[18 14 27]\n",
            " [17 36 18]\n",
            " [ 2  7 39]]\n",
            "Classification Report: \n",
            "              precision    recall  f1-score   support\n",
            "\n",
            "         1.0       0.49      0.31      0.38        59\n",
            "         2.0       0.63      0.51      0.56        71\n",
            "         3.0       0.46      0.81      0.59        48\n",
            "\n",
            "    accuracy                           0.52       178\n",
            "   macro avg       0.53      0.54      0.51       178\n",
            "weighted avg       0.54      0.52      0.51       178\n",
            "\n",
            "hidden_layer_size: 64,regularize_activation: 0.3,regularize_entropy: 0.1,regularize_ridge: 0.3\n",
            "KAN RESULTS\n"
          ]
        },
        {
          "output_type": "stream",
          "name": "stderr",
          "text": [
            " 61%|██████    | 61/100 [00:01<00:01, 37.28it/s]\n"
          ]
        },
        {
          "output_type": "stream",
          "name": "stdout",
          "text": [
            "\tEarly stopping\n",
            "Accuracy Score: 0.48314606741573035\n",
            "Confusion Matrix: \n",
            "[[50  2  7]\n",
            " [31 29 11]\n",
            " [25 16  7]]\n",
            "Classification Report: \n",
            "              precision    recall  f1-score   support\n",
            "\n",
            "         1.0       0.47      0.85      0.61        59\n",
            "         2.0       0.62      0.41      0.49        71\n",
            "         3.0       0.28      0.15      0.19        48\n",
            "\n",
            "    accuracy                           0.48       178\n",
            "   macro avg       0.46      0.47      0.43       178\n",
            "weighted avg       0.48      0.48      0.45       178\n",
            "\n",
            "hidden_layer_size: 64,regularize_activation: 0.3,regularize_entropy: 0.3,regularize_ridge: 0.1\n",
            "KAN RESULTS\n"
          ]
        },
        {
          "output_type": "stream",
          "name": "stderr",
          "text": [
            " 58%|█████▊    | 58/100 [00:01<00:01, 37.13it/s]\n"
          ]
        },
        {
          "output_type": "stream",
          "name": "stdout",
          "text": [
            "\tEarly stopping\n",
            "Accuracy Score: 0.4157303370786517\n",
            "Confusion Matrix: \n",
            "[[44  0 15]\n",
            " [46 17  8]\n",
            " [28  7 13]]\n",
            "Classification Report: \n",
            "              precision    recall  f1-score   support\n",
            "\n",
            "         1.0       0.37      0.75      0.50        59\n",
            "         2.0       0.71      0.24      0.36        71\n",
            "         3.0       0.36      0.27      0.31        48\n",
            "\n",
            "    accuracy                           0.42       178\n",
            "   macro avg       0.48      0.42      0.39       178\n",
            "weighted avg       0.50      0.42      0.39       178\n",
            "\n",
            "hidden_layer_size: 64,regularize_activation: 0.3,regularize_entropy: 0.3,regularize_ridge: 0.3\n",
            "KAN RESULTS\n"
          ]
        },
        {
          "output_type": "stream",
          "name": "stderr",
          "text": [
            "100%|██████████| 100/100 [00:02<00:00, 48.56it/s]\n"
          ]
        },
        {
          "output_type": "stream",
          "name": "stdout",
          "text": [
            "Accuracy Score: 0.4606741573033708\n",
            "Confusion Matrix: \n",
            "[[21  0 38]\n",
            " [28 41  2]\n",
            " [ 4 24 20]]\n",
            "Classification Report: \n",
            "              precision    recall  f1-score   support\n",
            "\n",
            "         1.0       0.40      0.36      0.38        59\n",
            "         2.0       0.63      0.58      0.60        71\n",
            "         3.0       0.33      0.42      0.37        48\n",
            "\n",
            "    accuracy                           0.46       178\n",
            "   macro avg       0.45      0.45      0.45       178\n",
            "weighted avg       0.47      0.46      0.46       178\n",
            "\n",
            "hidden_layer_size: 32,regularize_activation: 0.1,regularize_entropy: 0.1,regularize_ridge: 0.1\n",
            "KAN RESULTS\n"
          ]
        },
        {
          "output_type": "stream",
          "name": "stderr",
          "text": [
            "100%|██████████| 100/100 [00:02<00:00, 42.91it/s]\n"
          ]
        },
        {
          "output_type": "stream",
          "name": "stdout",
          "text": [
            "Accuracy Score: 0.25842696629213485\n",
            "Confusion Matrix: \n",
            "[[21 15 23]\n",
            " [28 25 18]\n",
            " [37 11  0]]\n",
            "Classification Report: \n",
            "              precision    recall  f1-score   support\n",
            "\n",
            "         1.0       0.24      0.36      0.29        59\n",
            "         2.0       0.49      0.35      0.41        71\n",
            "         3.0       0.00      0.00      0.00        48\n",
            "\n",
            "    accuracy                           0.26       178\n",
            "   macro avg       0.24      0.24      0.23       178\n",
            "weighted avg       0.28      0.26      0.26       178\n",
            "\n",
            "hidden_layer_size: 32,regularize_activation: 0.1,regularize_entropy: 0.1,regularize_ridge: 0.3\n",
            "KAN RESULTS\n"
          ]
        },
        {
          "output_type": "stream",
          "name": "stderr",
          "text": [
            " 55%|█████▌    | 55/100 [00:02<00:01, 25.66it/s]\n"
          ]
        },
        {
          "output_type": "stream",
          "name": "stdout",
          "text": [
            "\tEarly stopping\n",
            "Accuracy Score: 0.33707865168539325\n",
            "Confusion Matrix: \n",
            "[[24 35  0]\n",
            " [43 11 17]\n",
            " [ 2 21 25]]\n",
            "Classification Report: \n",
            "              precision    recall  f1-score   support\n",
            "\n",
            "         1.0       0.35      0.41      0.38        59\n",
            "         2.0       0.16      0.15      0.16        71\n",
            "         3.0       0.60      0.52      0.56        48\n",
            "\n",
            "    accuracy                           0.34       178\n",
            "   macro avg       0.37      0.36      0.36       178\n",
            "weighted avg       0.34      0.34      0.34       178\n",
            "\n",
            "hidden_layer_size: 32,regularize_activation: 0.1,regularize_entropy: 0.3,regularize_ridge: 0.1\n",
            "KAN RESULTS\n"
          ]
        },
        {
          "output_type": "stream",
          "name": "stderr",
          "text": [
            "100%|██████████| 100/100 [00:04<00:00, 21.27it/s]\n"
          ]
        },
        {
          "output_type": "stream",
          "name": "stdout",
          "text": [
            "Accuracy Score: 0.43258426966292135\n",
            "Confusion Matrix: \n",
            "[[14  0 45]\n",
            " [13 25 33]\n",
            " [ 8  2 38]]\n",
            "Classification Report: \n",
            "              precision    recall  f1-score   support\n",
            "\n",
            "         1.0       0.40      0.24      0.30        59\n",
            "         2.0       0.93      0.35      0.51        71\n",
            "         3.0       0.33      0.79      0.46        48\n",
            "\n",
            "    accuracy                           0.43       178\n",
            "   macro avg       0.55      0.46      0.42       178\n",
            "weighted avg       0.59      0.43      0.43       178\n",
            "\n",
            "hidden_layer_size: 32,regularize_activation: 0.1,regularize_entropy: 0.3,regularize_ridge: 0.3\n",
            "KAN RESULTS\n"
          ]
        },
        {
          "output_type": "stream",
          "name": "stderr",
          "text": [
            "100%|██████████| 100/100 [00:03<00:00, 26.72it/s]\n"
          ]
        },
        {
          "output_type": "stream",
          "name": "stdout",
          "text": [
            "Accuracy Score: 0.3651685393258427\n",
            "Confusion Matrix: \n",
            "[[30 26  3]\n",
            " [26 35 10]\n",
            " [25 23  0]]\n",
            "Classification Report: \n",
            "              precision    recall  f1-score   support\n",
            "\n",
            "         1.0       0.37      0.51      0.43        59\n",
            "         2.0       0.42      0.49      0.45        71\n",
            "         3.0       0.00      0.00      0.00        48\n",
            "\n",
            "    accuracy                           0.37       178\n",
            "   macro avg       0.26      0.33      0.29       178\n",
            "weighted avg       0.29      0.37      0.32       178\n",
            "\n",
            "hidden_layer_size: 32,regularize_activation: 0.3,regularize_entropy: 0.1,regularize_ridge: 0.1\n",
            "KAN RESULTS\n"
          ]
        },
        {
          "output_type": "stream",
          "name": "stderr",
          "text": [
            "100%|██████████| 100/100 [00:03<00:00, 26.25it/s]\n"
          ]
        },
        {
          "output_type": "stream",
          "name": "stdout",
          "text": [
            "Accuracy Score: 0.38202247191011235\n",
            "Confusion Matrix: \n",
            "[[31 23  5]\n",
            " [31 23 17]\n",
            " [22 12 14]]\n",
            "Classification Report: \n",
            "              precision    recall  f1-score   support\n",
            "\n",
            "         1.0       0.37      0.53      0.43        59\n",
            "         2.0       0.40      0.32      0.36        71\n",
            "         3.0       0.39      0.29      0.33        48\n",
            "\n",
            "    accuracy                           0.38       178\n",
            "   macro avg       0.38      0.38      0.37       178\n",
            "weighted avg       0.39      0.38      0.38       178\n",
            "\n",
            "hidden_layer_size: 32,regularize_activation: 0.3,regularize_entropy: 0.1,regularize_ridge: 0.3\n",
            "KAN RESULTS\n"
          ]
        },
        {
          "output_type": "stream",
          "name": "stderr",
          "text": [
            " 54%|█████▍    | 54/100 [00:03<00:03, 14.09it/s]"
          ]
        },
        {
          "output_type": "stream",
          "name": "stdout",
          "text": [
            "\tEarly stopping\n",
            "Accuracy Score: 0.2752808988764045\n",
            "Confusion Matrix: \n",
            "[[23  1 35]\n",
            " [15 26 30]\n",
            " [19 29  0]]\n",
            "Classification Report: \n",
            "              precision    recall  f1-score   support\n",
            "\n",
            "         1.0       0.40      0.39      0.40        59\n",
            "         2.0       0.46      0.37      0.41        71\n",
            "         3.0       0.00      0.00      0.00        48\n",
            "\n",
            "    accuracy                           0.28       178\n",
            "   macro avg       0.29      0.25      0.27       178\n",
            "weighted avg       0.32      0.28      0.29       178\n",
            "\n"
          ]
        },
        {
          "output_type": "stream",
          "name": "stderr",
          "text": [
            "\n"
          ]
        },
        {
          "output_type": "stream",
          "name": "stdout",
          "text": [
            "hidden_layer_size: 32,regularize_activation: 0.3,regularize_entropy: 0.3,regularize_ridge: 0.1\n",
            "KAN RESULTS\n"
          ]
        },
        {
          "output_type": "stream",
          "name": "stderr",
          "text": [
            "100%|██████████| 100/100 [00:02<00:00, 37.23it/s]\n"
          ]
        },
        {
          "output_type": "stream",
          "name": "stdout",
          "text": [
            "Accuracy Score: 0.4943820224719101\n",
            "Confusion Matrix: \n",
            "[[ 6 20 33]\n",
            " [20 44  7]\n",
            " [ 6  4 38]]\n",
            "Classification Report: \n",
            "              precision    recall  f1-score   support\n",
            "\n",
            "         1.0       0.19      0.10      0.13        59\n",
            "         2.0       0.65      0.62      0.63        71\n",
            "         3.0       0.49      0.79      0.60        48\n",
            "\n",
            "    accuracy                           0.49       178\n",
            "   macro avg       0.44      0.50      0.46       178\n",
            "weighted avg       0.45      0.49      0.46       178\n",
            "\n",
            "hidden_layer_size: 32,regularize_activation: 0.3,regularize_entropy: 0.3,regularize_ridge: 0.3\n",
            "KAN RESULTS\n"
          ]
        },
        {
          "output_type": "stream",
          "name": "stderr",
          "text": [
            " 56%|█████▌    | 56/100 [00:01<00:00, 49.50it/s]\n"
          ]
        },
        {
          "output_type": "stream",
          "name": "stdout",
          "text": [
            "\tEarly stopping\n",
            "Accuracy Score: 0.6292134831460674\n",
            "Confusion Matrix: \n",
            "[[51  2  6]\n",
            " [12 36 23]\n",
            " [19  4 25]]\n",
            "Classification Report: \n",
            "              precision    recall  f1-score   support\n",
            "\n",
            "         1.0       0.62      0.86      0.72        59\n",
            "         2.0       0.86      0.51      0.64        71\n",
            "         3.0       0.46      0.52      0.49        48\n",
            "\n",
            "    accuracy                           0.63       178\n",
            "   macro avg       0.65      0.63      0.62       178\n",
            "weighted avg       0.67      0.63      0.63       178\n",
            "\n",
            "hidden_layer_size: 27,regularize_activation: 0.1,regularize_entropy: 0.1,regularize_ridge: 0.1\n",
            "KAN RESULTS\n"
          ]
        },
        {
          "output_type": "stream",
          "name": "stderr",
          "text": [
            "100%|██████████| 100/100 [00:01<00:00, 51.03it/s]\n"
          ]
        },
        {
          "output_type": "stream",
          "name": "stdout",
          "text": [
            "Accuracy Score: 0.17415730337078653\n",
            "Confusion Matrix: \n",
            "[[ 7 22 30]\n",
            " [45 12 14]\n",
            " [26 10 12]]\n",
            "Classification Report: \n",
            "              precision    recall  f1-score   support\n",
            "\n",
            "         1.0       0.09      0.12      0.10        59\n",
            "         2.0       0.27      0.17      0.21        71\n",
            "         3.0       0.21      0.25      0.23        48\n",
            "\n",
            "    accuracy                           0.17       178\n",
            "   macro avg       0.19      0.18      0.18       178\n",
            "weighted avg       0.20      0.17      0.18       178\n",
            "\n",
            "hidden_layer_size: 27,regularize_activation: 0.1,regularize_entropy: 0.1,regularize_ridge: 0.3\n",
            "KAN RESULTS\n"
          ]
        },
        {
          "output_type": "stream",
          "name": "stderr",
          "text": [
            "100%|██████████| 100/100 [00:02<00:00, 48.51it/s]\n"
          ]
        },
        {
          "output_type": "stream",
          "name": "stdout",
          "text": [
            "Accuracy Score: 0.3539325842696629\n",
            "Confusion Matrix: \n",
            "[[ 3 52  4]\n",
            " [12 42 17]\n",
            " [12 18 18]]\n",
            "Classification Report: \n",
            "              precision    recall  f1-score   support\n",
            "\n",
            "         1.0       0.11      0.05      0.07        59\n",
            "         2.0       0.38      0.59      0.46        71\n",
            "         3.0       0.46      0.38      0.41        48\n",
            "\n",
            "    accuracy                           0.35       178\n",
            "   macro avg       0.32      0.34      0.31       178\n",
            "weighted avg       0.31      0.35      0.32       178\n",
            "\n",
            "hidden_layer_size: 27,regularize_activation: 0.1,regularize_entropy: 0.3,regularize_ridge: 0.1\n",
            "KAN RESULTS\n"
          ]
        },
        {
          "output_type": "stream",
          "name": "stderr",
          "text": [
            " 62%|██████▏   | 62/100 [00:00<00:00, 69.34it/s]\n"
          ]
        },
        {
          "output_type": "stream",
          "name": "stdout",
          "text": [
            "\tEarly stopping\n",
            "Accuracy Score: 0.6292134831460674\n",
            "Confusion Matrix: \n",
            "[[53  5  1]\n",
            " [19 23 29]\n",
            " [ 5  7 36]]\n",
            "Classification Report: \n",
            "              precision    recall  f1-score   support\n",
            "\n",
            "         1.0       0.69      0.90      0.78        59\n",
            "         2.0       0.66      0.32      0.43        71\n",
            "         3.0       0.55      0.75      0.63        48\n",
            "\n",
            "    accuracy                           0.63       178\n",
            "   macro avg       0.63      0.66      0.61       178\n",
            "weighted avg       0.64      0.63      0.60       178\n",
            "\n",
            "hidden_layer_size: 27,regularize_activation: 0.1,regularize_entropy: 0.3,regularize_ridge: 0.3\n",
            "KAN RESULTS\n"
          ]
        },
        {
          "output_type": "stream",
          "name": "stderr",
          "text": [
            " 54%|█████▍    | 54/100 [00:00<00:00, 80.45it/s]\n"
          ]
        },
        {
          "output_type": "stream",
          "name": "stdout",
          "text": [
            "\tEarly stopping\n",
            "Accuracy Score: 0.25280898876404495\n",
            "Confusion Matrix: \n",
            "[[12 21 26]\n",
            " [36  0 35]\n",
            " [ 8  7 33]]\n",
            "Classification Report: \n",
            "              precision    recall  f1-score   support\n",
            "\n",
            "         1.0       0.21      0.20      0.21        59\n",
            "         2.0       0.00      0.00      0.00        71\n",
            "         3.0       0.35      0.69      0.46        48\n",
            "\n",
            "    accuracy                           0.25       178\n",
            "   macro avg       0.19      0.30      0.22       178\n",
            "weighted avg       0.17      0.25      0.19       178\n",
            "\n",
            "hidden_layer_size: 27,regularize_activation: 0.3,regularize_entropy: 0.1,regularize_ridge: 0.1\n",
            "KAN RESULTS\n"
          ]
        },
        {
          "output_type": "stream",
          "name": "stderr",
          "text": [
            "100%|██████████| 100/100 [00:01<00:00, 70.91it/s]\n"
          ]
        },
        {
          "output_type": "stream",
          "name": "stdout",
          "text": [
            "Accuracy Score: 0.4101123595505618\n",
            "Confusion Matrix: \n",
            "[[14 37  8]\n",
            " [ 4 49 18]\n",
            " [27 11 10]]\n",
            "Classification Report: \n",
            "              precision    recall  f1-score   support\n",
            "\n",
            "         1.0       0.31      0.24      0.27        59\n",
            "         2.0       0.51      0.69      0.58        71\n",
            "         3.0       0.28      0.21      0.24        48\n",
            "\n",
            "    accuracy                           0.41       178\n",
            "   macro avg       0.36      0.38      0.36       178\n",
            "weighted avg       0.38      0.41      0.39       178\n",
            "\n",
            "hidden_layer_size: 27,regularize_activation: 0.3,regularize_entropy: 0.1,regularize_ridge: 0.3\n",
            "KAN RESULTS\n"
          ]
        },
        {
          "output_type": "stream",
          "name": "stderr",
          "text": [
            "100%|██████████| 100/100 [00:01<00:00, 53.13it/s]\n"
          ]
        },
        {
          "output_type": "stream",
          "name": "stdout",
          "text": [
            "Accuracy Score: 0.39325842696629215\n",
            "Confusion Matrix: \n",
            "[[22  6 31]\n",
            " [ 6 46 19]\n",
            " [28 18  2]]\n",
            "Classification Report: \n",
            "              precision    recall  f1-score   support\n",
            "\n",
            "         1.0       0.39      0.37      0.38        59\n",
            "         2.0       0.66      0.65      0.65        71\n",
            "         3.0       0.04      0.04      0.04        48\n",
            "\n",
            "    accuracy                           0.39       178\n",
            "   macro avg       0.36      0.35      0.36       178\n",
            "weighted avg       0.40      0.39      0.40       178\n",
            "\n",
            "hidden_layer_size: 27,regularize_activation: 0.3,regularize_entropy: 0.3,regularize_ridge: 0.1\n",
            "KAN RESULTS\n"
          ]
        },
        {
          "output_type": "stream",
          "name": "stderr",
          "text": [
            "100%|██████████| 100/100 [00:01<00:00, 53.83it/s]"
          ]
        },
        {
          "output_type": "stream",
          "name": "stdout",
          "text": [
            "Accuracy Score: 0.46629213483146065\n",
            "Confusion Matrix: \n",
            "[[42  3 14]\n",
            " [20 40 11]\n",
            " [26 21  1]]\n",
            "Classification Report: \n",
            "              precision    recall  f1-score   support\n",
            "\n",
            "         1.0       0.48      0.71      0.57        59\n",
            "         2.0       0.62      0.56      0.59        71\n",
            "         3.0       0.04      0.02      0.03        48\n",
            "\n",
            "    accuracy                           0.47       178\n",
            "   macro avg       0.38      0.43      0.40       178\n",
            "weighted avg       0.42      0.47      0.43       178\n",
            "\n",
            "hidden_layer_size: 27,regularize_activation: 0.3,regularize_entropy: 0.3,regularize_ridge: 0.3\n",
            "Kan Accuracy = [0.5898876404494382, 0.4943820224719101, 0.7752808988764045, 0.5168539325842697, 0.43820224719101125, 0.5224719101123596, 0.48314606741573035, 0.4157303370786517, 0.4606741573033708, 0.25842696629213485, 0.33707865168539325, 0.43258426966292135, 0.3651685393258427, 0.38202247191011235, 0.2752808988764045, 0.4943820224719101, 0.6292134831460674, 0.17415730337078653, 0.3539325842696629, 0.6292134831460674, 0.25280898876404495, 0.4101123595505618, 0.39325842696629215, 0.46629213483146065]\n",
            "Hyperparameters = [(64, 0.1, 0.1, 0.1), (64, 0.1, 0.1, 0.3), (64, 0.1, 0.3, 0.1), (64, 0.1, 0.3, 0.3), (64, 0.3, 0.1, 0.1), (64, 0.3, 0.1, 0.3), (64, 0.3, 0.3, 0.1), (64, 0.3, 0.3, 0.3), (32, 0.1, 0.1, 0.1), (32, 0.1, 0.1, 0.3), (32, 0.1, 0.3, 0.1), (32, 0.1, 0.3, 0.3), (32, 0.3, 0.1, 0.1), (32, 0.3, 0.1, 0.3), (32, 0.3, 0.3, 0.1), (32, 0.3, 0.3, 0.3), (27, 0.1, 0.1, 0.1), (27, 0.1, 0.1, 0.3), (27, 0.1, 0.3, 0.1), (27, 0.1, 0.3, 0.3), (27, 0.3, 0.1, 0.1), (27, 0.3, 0.1, 0.3), (27, 0.3, 0.3, 0.1), (27, 0.3, 0.3, 0.3)]\n",
            "0.7752808988764045\n",
            "Best Hyperparameters = (64, 0.1, 0.3, 0.1)\n"
          ]
        },
        {
          "output_type": "stream",
          "name": "stderr",
          "text": [
            "\n"
          ]
        }
      ]
    },
    {
      "cell_type": "markdown",
      "source": [
        "##New Parameters and Hyperparameter"
      ],
      "metadata": {
        "id": "mccz1eEFsNjj"
      }
    },
    {
      "cell_type": "code",
      "source": [
        "mlp2 = MLPClassifier(hidden_layer_sizes=(64, 32, 6), activation='relu', solver='sdg', alpha = 0.1, random_state=42)\n",
        "y_pred_mlp2,loss_mlp2 = mlp_run(mlp2)"
      ],
      "metadata": {
        "colab": {
          "base_uri": "https://localhost:8080/"
        },
        "id": "jBdfKsJhsNJz",
        "outputId": "af65aec1-bfe3-40fe-a692-0413160084f3"
      },
      "execution_count": null,
      "outputs": [
        {
          "output_type": "stream",
          "name": "stdout",
          "text": [
            "MLP RESULTS\n",
            "0.9887640449438202\n",
            "[[59  0  0]\n",
            " [ 0 70  1]\n",
            " [ 0  1 47]]\n",
            "              precision    recall  f1-score   support\n",
            "\n",
            "         1.0       1.00      1.00      1.00        59\n",
            "         2.0       0.99      0.99      0.99        71\n",
            "         3.0       0.98      0.98      0.98        48\n",
            "\n",
            "    accuracy                           0.99       178\n",
            "   macro avg       0.99      0.99      0.99       178\n",
            "weighted avg       0.99      0.99      0.99       178\n",
            "\n"
          ]
        }
      ]
    },
    {
      "cell_type": "code",
      "source": [
        "kan2 = KANClassifier(hidden_layer_size=64,device='cpu',regularize_activation=0.3,regularize_entropy=0.1,regularize_ridge=0.1)\n",
        "y_pred_kan2, loss_kan2 = kan_run(kan2)"
      ],
      "metadata": {
        "colab": {
          "base_uri": "https://localhost:8080/"
        },
        "id": "W_rkohOewt1x",
        "outputId": "72b7ec66-446b-45b5-b008-e0ab418e785a"
      },
      "execution_count": null,
      "outputs": [
        {
          "output_type": "stream",
          "name": "stdout",
          "text": [
            "KAN RESULTS\n"
          ]
        },
        {
          "output_type": "stream",
          "name": "stderr",
          "text": [
            "100%|██████████| 100/100 [00:02<00:00, 41.20it/s]"
          ]
        },
        {
          "output_type": "stream",
          "name": "stdout",
          "text": [
            "0.6797752808988764\n",
            "[[44 14  1]\n",
            " [13 46 12]\n",
            " [13  4 31]]\n",
            "              precision    recall  f1-score   support\n",
            "\n",
            "         1.0       0.63      0.75      0.68        59\n",
            "         2.0       0.72      0.65      0.68        71\n",
            "         3.0       0.70      0.65      0.67        48\n",
            "\n",
            "    accuracy                           0.68       178\n",
            "   macro avg       0.68      0.68      0.68       178\n",
            "weighted avg       0.69      0.68      0.68       178\n",
            "\n"
          ]
        },
        {
          "output_type": "stream",
          "name": "stderr",
          "text": [
            "\n"
          ]
        }
      ]
    },
    {
      "cell_type": "code",
      "source": [
        "f1_mlp2 = f1_score(y_test, y_pred_mlp2, average='weighted')\n",
        "f1_kan2 = f1_score(y_test, y_pred_kan2, average='weighted')\n",
        "accuracy_mlp2 = accuracy_score(y_test, y_pred_mlp2)\n",
        "accuracy_kan2 = accuracy_score(y_test, y_pred_kan2)\n",
        "loss_mlp2 = loss_mlp2\n",
        "loss_kan2 = loss_kan2\n",
        "\n",
        "models2 = ['MLP', 'KAN']\n",
        "losses2 = [loss_mlp2, loss_kan2]\n",
        "accuracies2 = [accuracy_mlp2, accuracy_kan2]\n",
        "f1_scores2 = [f1_mlp2, f1_kan2]\n",
        "\n",
        "plot_results(models2,losses2, accuracies2,f1_scores2)\n",
        "plt.show()"
      ],
      "metadata": {
        "colab": {
          "base_uri": "https://localhost:8080/",
          "height": 480
        },
        "id": "BqJiQMAfy8oE",
        "outputId": "f8677998-cd66-47f7-9b46-3223020d02bb"
      },
      "execution_count": null,
      "outputs": [
        {
          "output_type": "display_data",
          "data": {
            "text/plain": [
              "<Figure size 2000x800 with 3 Axes>"
            ],
            "image/png": "[encoded data removed]"
          },
          "metadata": {}
        }
      ]
    },
    {
      "cell_type": "markdown",
      "source": [
        "##More Hyperparameter tunning for KANs as I've gotten the best accuracy score for MLPs\n"
      ],
      "metadata": {
        "id": "BfnR3vK_Q5TZ"
      }
    },
    {
      "cell_type": "code",
      "source": [
        "kan_accuracy1 = []\n",
        "hyperparameters1 = []\n",
        "hidden_layers= [64, 32, 27,128]\n",
        "activations = [0.1,0.3,0.5]\n",
        "entropies = [0.1, 0.3, 0.5]\n",
        "ridges = [0.1,0.3, 0.5, 0.7]\n",
        "spline_order = [2,3,4]\n",
        "for hidden_layer_size in hidden_layers:\n",
        "  for regularize_activation in activations:\n",
        "    for regularize_entropy in entropies:\n",
        "      for regularize_ridge in ridges:\n",
        "        for order in spline_order:\n",
        "          model_test = KANClassifier(hidden_layer_size=hidden_layer_size,\n",
        "                                    device='cpu',\n",
        "                                    regularize_activation=regularize_activation,\n",
        "                                    regularize_entropy=regularize_entropy,\n",
        "                                    regularize_ridge=regularize_ridge,\n",
        "                                    spline_order = order)\n",
        "        y_pred_kan_test, loss_kan_test = kan_run(model_test)\n",
        "        kan_accuracy1.append(accuracy_score(y_test,y_pred_kan_test))\n",
        "        hyperparameters1.append((hidden_layer_size,regularize_activation,regularize_entropy,regularize_ridge,order))\n",
        "        print(f'hidden_layer_size: {hidden_layer_size},regularize_activation: {regularize_activation},regularize_entropy: {regularize_entropy},regularize_ridge: {regularize_ridge}')\n",
        "print(f'Kan Accuracy = {kan_accuracy1}')\n",
        "print(f'Hyperparameters = {hyperparameters1}')\n",
        "print(max(kan_accuracy1))\n",
        "for i in range(len(kan_accuracy1)):\n",
        "  if kan_accuracy1[i] == max(kan_accuracy1):\n",
        "    print(f'Best Hyperparameters = {hyperparameters1[i]}')"
      ],
      "metadata": {
        "colab": {
          "base_uri": "https://localhost:8080/"
        },
        "id": "R2WmTywRRDUB",
        "outputId": "65187243-5481-4502-c1dd-63c053ed1aa2"
      },
      "execution_count": null,
      "outputs": [
        {
          "output_type": "stream",
          "name": "stdout",
          "text": [
            "KAN RESULTS\n"
          ]
        },
        {
          "output_type": "stream",
          "name": "stderr",
          "text": [
            "100%|██████████| 100/100 [00:01<00:00, 59.14it/s]\n"
          ]
        },
        {
          "output_type": "stream",
          "name": "stdout",
          "text": [
            "Accuracy Score: 0.7247191011235955\n",
            "Confusion Matrix: \n",
            "[[57  2  0]\n",
            " [21 36 14]\n",
            " [ 6  6 36]]\n",
            "Classification Report: \n",
            "              precision    recall  f1-score   support\n",
            "\n",
            "         1.0       0.68      0.97      0.80        59\n",
            "         2.0       0.82      0.51      0.63        71\n",
            "         3.0       0.72      0.75      0.73        48\n",
            "\n",
            "    accuracy                           0.72       178\n",
            "   macro avg       0.74      0.74      0.72       178\n",
            "weighted avg       0.75      0.72      0.71       178\n",
            "\n",
            "hidden_layer_size: 64,regularize_activation: 0.1,regularize_entropy: 0.1,regularize_ridge: 0.1\n",
            "KAN RESULTS\n"
          ]
        },
        {
          "output_type": "stream",
          "name": "stderr",
          "text": [
            "100%|██████████| 100/100 [00:01<00:00, 62.08it/s]\n"
          ]
        },
        {
          "output_type": "stream",
          "name": "stdout",
          "text": [
            "Accuracy Score: 0.42696629213483145\n",
            "Confusion Matrix: \n",
            "[[14  7 38]\n",
            " [29 27 15]\n",
            " [ 2 11 35]]\n",
            "Classification Report: \n",
            "              precision    recall  f1-score   support\n",
            "\n",
            "         1.0       0.31      0.24      0.27        59\n",
            "         2.0       0.60      0.38      0.47        71\n",
            "         3.0       0.40      0.73      0.51        48\n",
            "\n",
            "    accuracy                           0.43       178\n",
            "   macro avg       0.44      0.45      0.42       178\n",
            "weighted avg       0.45      0.43      0.41       178\n",
            "\n",
            "hidden_layer_size: 64,regularize_activation: 0.1,regularize_entropy: 0.1,regularize_ridge: 0.3\n",
            "KAN RESULTS\n"
          ]
        },
        {
          "output_type": "stream",
          "name": "stderr",
          "text": [
            "100%|██████████| 100/100 [00:01<00:00, 60.99it/s]\n"
          ]
        },
        {
          "output_type": "stream",
          "name": "stdout",
          "text": [
            "Accuracy Score: 0.6404494382022472\n",
            "Confusion Matrix: \n",
            "[[49  7  3]\n",
            " [25 25 21]\n",
            " [ 7  1 40]]\n",
            "Classification Report: \n",
            "              precision    recall  f1-score   support\n",
            "\n",
            "         1.0       0.60      0.83      0.70        59\n",
            "         2.0       0.76      0.35      0.48        71\n",
            "         3.0       0.62      0.83      0.71        48\n",
            "\n",
            "    accuracy                           0.64       178\n",
            "   macro avg       0.66      0.67      0.63       178\n",
            "weighted avg       0.67      0.64      0.62       178\n",
            "\n",
            "hidden_layer_size: 64,regularize_activation: 0.1,regularize_entropy: 0.1,regularize_ridge: 0.5\n",
            "KAN RESULTS\n"
          ]
        },
        {
          "output_type": "stream",
          "name": "stderr",
          "text": [
            "100%|██████████| 100/100 [00:01<00:00, 60.03it/s]\n"
          ]
        },
        {
          "output_type": "stream",
          "name": "stdout",
          "text": [
            "Accuracy Score: 0.5842696629213483\n",
            "Confusion Matrix: \n",
            "[[34 20  5]\n",
            " [28 22 21]\n",
            " [ 0  0 48]]\n",
            "Classification Report: \n",
            "              precision    recall  f1-score   support\n",
            "\n",
            "         1.0       0.55      0.58      0.56        59\n",
            "         2.0       0.52      0.31      0.39        71\n",
            "         3.0       0.65      1.00      0.79        48\n",
            "\n",
            "    accuracy                           0.58       178\n",
            "   macro avg       0.57      0.63      0.58       178\n",
            "weighted avg       0.57      0.58      0.55       178\n",
            "\n",
            "hidden_layer_size: 64,regularize_activation: 0.1,regularize_entropy: 0.1,regularize_ridge: 0.7\n",
            "KAN RESULTS\n"
          ]
        },
        {
          "output_type": "stream",
          "name": "stderr",
          "text": [
            "100%|██████████| 100/100 [00:01<00:00, 59.10it/s]\n"
          ]
        },
        {
          "output_type": "stream",
          "name": "stdout",
          "text": [
            "Accuracy Score: 0.7359550561797753\n",
            "Confusion Matrix: \n",
            "[[58  0  1]\n",
            " [16 36 19]\n",
            " [ 2  9 37]]\n",
            "Classification Report: \n",
            "              precision    recall  f1-score   support\n",
            "\n",
            "         1.0       0.76      0.98      0.86        59\n",
            "         2.0       0.80      0.51      0.62        71\n",
            "         3.0       0.65      0.77      0.70        48\n",
            "\n",
            "    accuracy                           0.74       178\n",
            "   macro avg       0.74      0.75      0.73       178\n",
            "weighted avg       0.75      0.74      0.72       178\n",
            "\n",
            "hidden_layer_size: 64,regularize_activation: 0.1,regularize_entropy: 0.3,regularize_ridge: 0.1\n",
            "KAN RESULTS\n"
          ]
        },
        {
          "output_type": "stream",
          "name": "stderr",
          "text": [
            "100%|██████████| 100/100 [00:02<00:00, 42.84it/s]\n"
          ]
        },
        {
          "output_type": "stream",
          "name": "stdout",
          "text": [
            "Accuracy Score: 0.4550561797752809\n",
            "Confusion Matrix: \n",
            "[[45  5  9]\n",
            " [46 22  3]\n",
            " [24 10 14]]\n",
            "Classification Report: \n",
            "              precision    recall  f1-score   support\n",
            "\n",
            "         1.0       0.39      0.76      0.52        59\n",
            "         2.0       0.59      0.31      0.41        71\n",
            "         3.0       0.54      0.29      0.38        48\n",
            "\n",
            "    accuracy                           0.46       178\n",
            "   macro avg       0.51      0.45      0.43       178\n",
            "weighted avg       0.51      0.46      0.44       178\n",
            "\n",
            "hidden_layer_size: 64,regularize_activation: 0.1,regularize_entropy: 0.3,regularize_ridge: 0.3\n",
            "KAN RESULTS\n"
          ]
        },
        {
          "output_type": "stream",
          "name": "stderr",
          "text": [
            "100%|██████████| 100/100 [00:02<00:00, 39.85it/s]\n"
          ]
        },
        {
          "output_type": "stream",
          "name": "stdout",
          "text": [
            "Accuracy Score: 0.6235955056179775\n",
            "Confusion Matrix: \n",
            "[[58  1  0]\n",
            " [20 32 19]\n",
            " [18  9 21]]\n",
            "Classification Report: \n",
            "              precision    recall  f1-score   support\n",
            "\n",
            "         1.0       0.60      0.98      0.75        59\n",
            "         2.0       0.76      0.45      0.57        71\n",
            "         3.0       0.53      0.44      0.48        48\n",
            "\n",
            "    accuracy                           0.62       178\n",
            "   macro avg       0.63      0.62      0.60       178\n",
            "weighted avg       0.65      0.62      0.60       178\n",
            "\n",
            "hidden_layer_size: 64,regularize_activation: 0.1,regularize_entropy: 0.3,regularize_ridge: 0.5\n",
            "KAN RESULTS\n"
          ]
        },
        {
          "output_type": "stream",
          "name": "stderr",
          "text": [
            "100%|██████████| 100/100 [00:01<00:00, 58.53it/s]\n"
          ]
        },
        {
          "output_type": "stream",
          "name": "stdout",
          "text": [
            "Accuracy Score: 0.5674157303370787\n",
            "Confusion Matrix: \n",
            "[[33 20  6]\n",
            " [36 28  7]\n",
            " [ 1  7 40]]\n",
            "Classification Report: \n",
            "              precision    recall  f1-score   support\n",
            "\n",
            "         1.0       0.47      0.56      0.51        59\n",
            "         2.0       0.51      0.39      0.44        71\n",
            "         3.0       0.75      0.83      0.79        48\n",
            "\n",
            "    accuracy                           0.57       178\n",
            "   macro avg       0.58      0.60      0.58       178\n",
            "weighted avg       0.56      0.57      0.56       178\n",
            "\n",
            "hidden_layer_size: 64,regularize_activation: 0.1,regularize_entropy: 0.3,regularize_ridge: 0.7\n",
            "KAN RESULTS\n"
          ]
        },
        {
          "output_type": "stream",
          "name": "stderr",
          "text": [
            "100%|██████████| 100/100 [00:01<00:00, 62.03it/s]\n"
          ]
        },
        {
          "output_type": "stream",
          "name": "stdout",
          "text": [
            "Accuracy Score: 0.6292134831460674\n",
            "Confusion Matrix: \n",
            "[[31  9 19]\n",
            " [ 3 51 17]\n",
            " [ 0 18 30]]\n",
            "Classification Report: \n",
            "              precision    recall  f1-score   support\n",
            "\n",
            "         1.0       0.91      0.53      0.67        59\n",
            "         2.0       0.65      0.72      0.68        71\n",
            "         3.0       0.45      0.62      0.53        48\n",
            "\n",
            "    accuracy                           0.63       178\n",
            "   macro avg       0.67      0.62      0.63       178\n",
            "weighted avg       0.69      0.63      0.64       178\n",
            "\n",
            "hidden_layer_size: 64,regularize_activation: 0.1,regularize_entropy: 0.5,regularize_ridge: 0.1\n",
            "KAN RESULTS\n"
          ]
        },
        {
          "output_type": "stream",
          "name": "stderr",
          "text": [
            "100%|██████████| 100/100 [00:01<00:00, 58.62it/s]\n"
          ]
        },
        {
          "output_type": "stream",
          "name": "stdout",
          "text": [
            "Accuracy Score: 0.5449438202247191\n",
            "Confusion Matrix: \n",
            "[[39 19  1]\n",
            " [37 16 18]\n",
            " [ 1  5 42]]\n",
            "Classification Report: \n",
            "              precision    recall  f1-score   support\n",
            "\n",
            "         1.0       0.51      0.66      0.57        59\n",
            "         2.0       0.40      0.23      0.29        71\n",
            "         3.0       0.69      0.88      0.77        48\n",
            "\n",
            "    accuracy                           0.54       178\n",
            "   macro avg       0.53      0.59      0.54       178\n",
            "weighted avg       0.51      0.54      0.51       178\n",
            "\n",
            "hidden_layer_size: 64,regularize_activation: 0.1,regularize_entropy: 0.5,regularize_ridge: 0.3\n",
            "KAN RESULTS\n"
          ]
        },
        {
          "output_type": "stream",
          "name": "stderr",
          "text": [
            "100%|██████████| 100/100 [00:01<00:00, 59.94it/s]\n"
          ]
        },
        {
          "output_type": "stream",
          "name": "stdout",
          "text": [
            "Accuracy Score: 0.47191011235955055\n",
            "Confusion Matrix: \n",
            "[[24 30  5]\n",
            " [36 21 14]\n",
            " [ 9  0 39]]\n",
            "Classification Report: \n",
            "              precision    recall  f1-score   support\n",
            "\n",
            "         1.0       0.35      0.41      0.38        59\n",
            "         2.0       0.41      0.30      0.34        71\n",
            "         3.0       0.67      0.81      0.74        48\n",
            "\n",
            "    accuracy                           0.47       178\n",
            "   macro avg       0.48      0.51      0.49       178\n",
            "weighted avg       0.46      0.47      0.46       178\n",
            "\n",
            "hidden_layer_size: 64,regularize_activation: 0.1,regularize_entropy: 0.5,regularize_ridge: 0.5\n",
            "KAN RESULTS\n"
          ]
        },
        {
          "output_type": "stream",
          "name": "stderr",
          "text": [
            "100%|██████████| 100/100 [00:01<00:00, 61.38it/s]\n"
          ]
        },
        {
          "output_type": "stream",
          "name": "stdout",
          "text": [
            "Accuracy Score: 0.38764044943820225\n",
            "Confusion Matrix: \n",
            "[[32 23  4]\n",
            " [32  7 32]\n",
            " [15  3 30]]\n",
            "Classification Report: \n",
            "              precision    recall  f1-score   support\n",
            "\n",
            "         1.0       0.41      0.54      0.46        59\n",
            "         2.0       0.21      0.10      0.13        71\n",
            "         3.0       0.45      0.62      0.53        48\n",
            "\n",
            "    accuracy                           0.39       178\n",
            "   macro avg       0.36      0.42      0.37       178\n",
            "weighted avg       0.34      0.39      0.35       178\n",
            "\n",
            "hidden_layer_size: 64,regularize_activation: 0.1,regularize_entropy: 0.5,regularize_ridge: 0.7\n",
            "KAN RESULTS\n"
          ]
        },
        {
          "output_type": "stream",
          "name": "stderr",
          "text": [
            "100%|██████████| 100/100 [00:01<00:00, 56.91it/s]\n"
          ]
        },
        {
          "output_type": "stream",
          "name": "stdout",
          "text": [
            "Accuracy Score: 0.33146067415730335\n",
            "Confusion Matrix: \n",
            "[[ 8 42  9]\n",
            " [15 20 36]\n",
            " [15  2 31]]\n",
            "Classification Report: \n",
            "              precision    recall  f1-score   support\n",
            "\n",
            "         1.0       0.21      0.14      0.16        59\n",
            "         2.0       0.31      0.28      0.30        71\n",
            "         3.0       0.41      0.65      0.50        48\n",
            "\n",
            "    accuracy                           0.33       178\n",
            "   macro avg       0.31      0.35      0.32       178\n",
            "weighted avg       0.30      0.33      0.31       178\n",
            "\n",
            "hidden_layer_size: 64,regularize_activation: 0.3,regularize_entropy: 0.1,regularize_ridge: 0.1\n",
            "KAN RESULTS\n"
          ]
        },
        {
          "output_type": "stream",
          "name": "stderr",
          "text": [
            "100%|██████████| 100/100 [00:02<00:00, 39.47it/s]\n"
          ]
        },
        {
          "output_type": "stream",
          "name": "stdout",
          "text": [
            "Accuracy Score: 0.5112359550561798\n",
            "Confusion Matrix: \n",
            "[[15 36  8]\n",
            " [23 42  6]\n",
            " [ 0 14 34]]\n",
            "Classification Report: \n",
            "              precision    recall  f1-score   support\n",
            "\n",
            "         1.0       0.39      0.25      0.31        59\n",
            "         2.0       0.46      0.59      0.52        71\n",
            "         3.0       0.71      0.71      0.71        48\n",
            "\n",
            "    accuracy                           0.51       178\n",
            "   macro avg       0.52      0.52      0.51       178\n",
            "weighted avg       0.50      0.51      0.50       178\n",
            "\n",
            "hidden_layer_size: 64,regularize_activation: 0.3,regularize_entropy: 0.1,regularize_ridge: 0.3\n",
            "KAN RESULTS\n"
          ]
        },
        {
          "output_type": "stream",
          "name": "stderr",
          "text": [
            "100%|██████████| 100/100 [00:02<00:00, 46.70it/s]\n"
          ]
        },
        {
          "output_type": "stream",
          "name": "stdout",
          "text": [
            "Accuracy Score: 0.550561797752809\n",
            "Confusion Matrix: \n",
            "[[12 43  4]\n",
            " [ 9 46 16]\n",
            " [ 8  0 40]]\n",
            "Classification Report: \n",
            "              precision    recall  f1-score   support\n",
            "\n",
            "         1.0       0.41      0.20      0.27        59\n",
            "         2.0       0.52      0.65      0.57        71\n",
            "         3.0       0.67      0.83      0.74        48\n",
            "\n",
            "    accuracy                           0.55       178\n",
            "   macro avg       0.53      0.56      0.53       178\n",
            "weighted avg       0.52      0.55      0.52       178\n",
            "\n",
            "hidden_layer_size: 64,regularize_activation: 0.3,regularize_entropy: 0.1,regularize_ridge: 0.5\n",
            "KAN RESULTS\n"
          ]
        },
        {
          "output_type": "stream",
          "name": "stderr",
          "text": [
            "100%|██████████| 100/100 [00:01<00:00, 58.66it/s]\n"
          ]
        },
        {
          "output_type": "stream",
          "name": "stdout",
          "text": [
            "Accuracy Score: 0.37640449438202245\n",
            "Confusion Matrix: \n",
            "[[15  0 44]\n",
            " [20 21 30]\n",
            " [11  6 31]]\n",
            "Classification Report: \n",
            "              precision    recall  f1-score   support\n",
            "\n",
            "         1.0       0.33      0.25      0.29        59\n",
            "         2.0       0.78      0.30      0.43        71\n",
            "         3.0       0.30      0.65      0.41        48\n",
            "\n",
            "    accuracy                           0.38       178\n",
            "   macro avg       0.47      0.40      0.37       178\n",
            "weighted avg       0.50      0.38      0.37       178\n",
            "\n",
            "hidden_layer_size: 64,regularize_activation: 0.3,regularize_entropy: 0.1,regularize_ridge: 0.7\n",
            "KAN RESULTS\n"
          ]
        },
        {
          "output_type": "stream",
          "name": "stderr",
          "text": [
            "100%|██████████| 100/100 [00:01<00:00, 61.13it/s]\n"
          ]
        },
        {
          "output_type": "stream",
          "name": "stdout",
          "text": [
            "Accuracy Score: 0.5224719101123596\n",
            "Confusion Matrix: \n",
            "[[58  1  0]\n",
            " [26 29 16]\n",
            " [ 1 41  6]]\n",
            "Classification Report: \n",
            "              precision    recall  f1-score   support\n",
            "\n",
            "         1.0       0.68      0.98      0.81        59\n",
            "         2.0       0.41      0.41      0.41        71\n",
            "         3.0       0.27      0.12      0.17        48\n",
            "\n",
            "    accuracy                           0.52       178\n",
            "   macro avg       0.45      0.51      0.46       178\n",
            "weighted avg       0.46      0.52      0.48       178\n",
            "\n",
            "hidden_layer_size: 64,regularize_activation: 0.3,regularize_entropy: 0.3,regularize_ridge: 0.1\n",
            "KAN RESULTS\n"
          ]
        },
        {
          "output_type": "stream",
          "name": "stderr",
          "text": [
            " 61%|██████    | 61/100 [00:00<00:00, 61.04it/s]\n"
          ]
        },
        {
          "output_type": "stream",
          "name": "stdout",
          "text": [
            "\tEarly stopping\n",
            "Accuracy Score: 0.48314606741573035\n",
            "Confusion Matrix: \n",
            "[[ 9 32 18]\n",
            " [10 46 15]\n",
            " [10  7 31]]\n",
            "Classification Report: \n",
            "              precision    recall  f1-score   support\n",
            "\n",
            "         1.0       0.31      0.15      0.20        59\n",
            "         2.0       0.54      0.65      0.59        71\n",
            "         3.0       0.48      0.65      0.55        48\n",
            "\n",
            "    accuracy                           0.48       178\n",
            "   macro avg       0.45      0.48      0.45       178\n",
            "weighted avg       0.45      0.48      0.45       178\n",
            "\n",
            "hidden_layer_size: 64,regularize_activation: 0.3,regularize_entropy: 0.3,regularize_ridge: 0.3\n",
            "KAN RESULTS\n"
          ]
        },
        {
          "output_type": "stream",
          "name": "stderr",
          "text": [
            "100%|██████████| 100/100 [00:01<00:00, 60.33it/s]\n"
          ]
        },
        {
          "output_type": "stream",
          "name": "stdout",
          "text": [
            "Accuracy Score: 0.21348314606741572\n",
            "Confusion Matrix: \n",
            "[[ 1 51  7]\n",
            " [37 11 23]\n",
            " [ 4 18 26]]\n",
            "Classification Report: \n",
            "              precision    recall  f1-score   support\n",
            "\n",
            "         1.0       0.02      0.02      0.02        59\n",
            "         2.0       0.14      0.15      0.15        71\n",
            "         3.0       0.46      0.54      0.50        48\n",
            "\n",
            "    accuracy                           0.21       178\n",
            "   macro avg       0.21      0.24      0.22       178\n",
            "weighted avg       0.19      0.21      0.20       178\n",
            "\n",
            "hidden_layer_size: 64,regularize_activation: 0.3,regularize_entropy: 0.3,regularize_ridge: 0.5\n",
            "KAN RESULTS\n"
          ]
        },
        {
          "output_type": "stream",
          "name": "stderr",
          "text": [
            "100%|██████████| 100/100 [00:01<00:00, 60.00it/s]\n"
          ]
        },
        {
          "output_type": "stream",
          "name": "stdout",
          "text": [
            "Accuracy Score: 0.5842696629213483\n",
            "Confusion Matrix: \n",
            "[[18  8 33]\n",
            " [20 39 12]\n",
            " [ 0  1 47]]\n",
            "Classification Report: \n",
            "              precision    recall  f1-score   support\n",
            "\n",
            "         1.0       0.47      0.31      0.37        59\n",
            "         2.0       0.81      0.55      0.66        71\n",
            "         3.0       0.51      0.98      0.67        48\n",
            "\n",
            "    accuracy                           0.58       178\n",
            "   macro avg       0.60      0.61      0.57       178\n",
            "weighted avg       0.62      0.58      0.57       178\n",
            "\n",
            "hidden_layer_size: 64,regularize_activation: 0.3,regularize_entropy: 0.3,regularize_ridge: 0.7\n",
            "KAN RESULTS\n"
          ]
        },
        {
          "output_type": "stream",
          "name": "stderr",
          "text": [
            "100%|██████████| 100/100 [00:01<00:00, 54.84it/s]\n"
          ]
        },
        {
          "output_type": "stream",
          "name": "stdout",
          "text": [
            "Accuracy Score: 0.48314606741573035\n",
            "Confusion Matrix: \n",
            "[[34 17  8]\n",
            " [15 50  6]\n",
            " [17 29  2]]\n",
            "Classification Report: \n",
            "              precision    recall  f1-score   support\n",
            "\n",
            "         1.0       0.52      0.58      0.54        59\n",
            "         2.0       0.52      0.70      0.60        71\n",
            "         3.0       0.12      0.04      0.06        48\n",
            "\n",
            "    accuracy                           0.48       178\n",
            "   macro avg       0.39      0.44      0.40       178\n",
            "weighted avg       0.41      0.48      0.44       178\n",
            "\n",
            "hidden_layer_size: 64,regularize_activation: 0.3,regularize_entropy: 0.5,regularize_ridge: 0.1\n",
            "KAN RESULTS\n"
          ]
        },
        {
          "output_type": "stream",
          "name": "stderr",
          "text": [
            "100%|██████████| 100/100 [00:02<00:00, 39.88it/s]\n"
          ]
        },
        {
          "output_type": "stream",
          "name": "stdout",
          "text": [
            "Accuracy Score: 0.7528089887640449\n",
            "Confusion Matrix: \n",
            "[[48  7  4]\n",
            " [10 41 20]\n",
            " [ 1  2 45]]\n",
            "Classification Report: \n",
            "              precision    recall  f1-score   support\n",
            "\n",
            "         1.0       0.81      0.81      0.81        59\n",
            "         2.0       0.82      0.58      0.68        71\n",
            "         3.0       0.65      0.94      0.77        48\n",
            "\n",
            "    accuracy                           0.75       178\n",
            "   macro avg       0.76      0.78      0.75       178\n",
            "weighted avg       0.77      0.75      0.75       178\n",
            "\n",
            "hidden_layer_size: 64,regularize_activation: 0.3,regularize_entropy: 0.5,regularize_ridge: 0.3\n",
            "KAN RESULTS\n"
          ]
        },
        {
          "output_type": "stream",
          "name": "stderr",
          "text": [
            "100%|██████████| 100/100 [00:02<00:00, 44.04it/s]\n"
          ]
        },
        {
          "output_type": "stream",
          "name": "stdout",
          "text": [
            "Accuracy Score: 0.7808988764044944\n",
            "Confusion Matrix: \n",
            "[[52  2  5]\n",
            " [ 5 42 24]\n",
            " [ 1  2 45]]\n",
            "Classification Report: \n",
            "              precision    recall  f1-score   support\n",
            "\n",
            "         1.0       0.90      0.88      0.89        59\n",
            "         2.0       0.91      0.59      0.72        71\n",
            "         3.0       0.61      0.94      0.74        48\n",
            "\n",
            "    accuracy                           0.78       178\n",
            "   macro avg       0.81      0.80      0.78       178\n",
            "weighted avg       0.83      0.78      0.78       178\n",
            "\n",
            "hidden_layer_size: 64,regularize_activation: 0.3,regularize_entropy: 0.5,regularize_ridge: 0.5\n",
            "KAN RESULTS\n"
          ]
        },
        {
          "output_type": "stream",
          "name": "stderr",
          "text": [
            "100%|██████████| 100/100 [00:01<00:00, 59.31it/s]\n"
          ]
        },
        {
          "output_type": "stream",
          "name": "stdout",
          "text": [
            "Accuracy Score: 0.550561797752809\n",
            "Confusion Matrix: \n",
            "[[53  2  4]\n",
            " [35  8 28]\n",
            " [ 0 11 37]]\n",
            "Classification Report: \n",
            "              precision    recall  f1-score   support\n",
            "\n",
            "         1.0       0.60      0.90      0.72        59\n",
            "         2.0       0.38      0.11      0.17        71\n",
            "         3.0       0.54      0.77      0.63        48\n",
            "\n",
            "    accuracy                           0.55       178\n",
            "   macro avg       0.51      0.59      0.51       178\n",
            "weighted avg       0.50      0.55      0.48       178\n",
            "\n",
            "hidden_layer_size: 64,regularize_activation: 0.3,regularize_entropy: 0.5,regularize_ridge: 0.7\n",
            "KAN RESULTS\n"
          ]
        },
        {
          "output_type": "stream",
          "name": "stderr",
          "text": [
            "100%|██████████| 100/100 [00:01<00:00, 60.71it/s]\n"
          ]
        },
        {
          "output_type": "stream",
          "name": "stdout",
          "text": [
            "Accuracy Score: 0.5\n",
            "Confusion Matrix: \n",
            "[[24  9 26]\n",
            " [33 34  4]\n",
            " [15  2 31]]\n",
            "Classification Report: \n",
            "              precision    recall  f1-score   support\n",
            "\n",
            "         1.0       0.33      0.41      0.37        59\n",
            "         2.0       0.76      0.48      0.59        71\n",
            "         3.0       0.51      0.65      0.57        48\n",
            "\n",
            "    accuracy                           0.50       178\n",
            "   macro avg       0.53      0.51      0.51       178\n",
            "weighted avg       0.55      0.50      0.51       178\n",
            "\n",
            "hidden_layer_size: 64,regularize_activation: 0.5,regularize_entropy: 0.1,regularize_ridge: 0.1\n",
            "KAN RESULTS\n"
          ]
        },
        {
          "output_type": "stream",
          "name": "stderr",
          "text": [
            "100%|██████████| 100/100 [00:01<00:00, 58.99it/s]\n"
          ]
        },
        {
          "output_type": "stream",
          "name": "stdout",
          "text": [
            "Accuracy Score: 0.5786516853932584\n",
            "Confusion Matrix: \n",
            "[[50  4  5]\n",
            " [14 45 12]\n",
            " [22 18  8]]\n",
            "Classification Report: \n",
            "              precision    recall  f1-score   support\n",
            "\n",
            "         1.0       0.58      0.85      0.69        59\n",
            "         2.0       0.67      0.63      0.65        71\n",
            "         3.0       0.32      0.17      0.22        48\n",
            "\n",
            "    accuracy                           0.58       178\n",
            "   macro avg       0.52      0.55      0.52       178\n",
            "weighted avg       0.55      0.58      0.55       178\n",
            "\n",
            "hidden_layer_size: 64,regularize_activation: 0.5,regularize_entropy: 0.1,regularize_ridge: 0.3\n",
            "KAN RESULTS\n"
          ]
        },
        {
          "output_type": "stream",
          "name": "stderr",
          "text": [
            "100%|██████████| 100/100 [00:01<00:00, 59.24it/s]\n"
          ]
        },
        {
          "output_type": "stream",
          "name": "stdout",
          "text": [
            "Accuracy Score: 0.6460674157303371\n",
            "Confusion Matrix: \n",
            "[[40 14  5]\n",
            " [ 5 37 29]\n",
            " [ 7  3 38]]\n",
            "Classification Report: \n",
            "              precision    recall  f1-score   support\n",
            "\n",
            "         1.0       0.77      0.68      0.72        59\n",
            "         2.0       0.69      0.52      0.59        71\n",
            "         3.0       0.53      0.79      0.63        48\n",
            "\n",
            "    accuracy                           0.65       178\n",
            "   macro avg       0.66      0.66      0.65       178\n",
            "weighted avg       0.67      0.65      0.65       178\n",
            "\n",
            "hidden_layer_size: 64,regularize_activation: 0.5,regularize_entropy: 0.1,regularize_ridge: 0.5\n",
            "KAN RESULTS\n"
          ]
        },
        {
          "output_type": "stream",
          "name": "stderr",
          "text": [
            " 58%|█████▊    | 58/100 [00:01<00:00, 57.19it/s]\n"
          ]
        },
        {
          "output_type": "stream",
          "name": "stdout",
          "text": [
            "\tEarly stopping\n",
            "Accuracy Score: 0.4943820224719101\n",
            "Confusion Matrix: \n",
            "[[42  3 14]\n",
            " [36 13 22]\n",
            " [ 1 14 33]]\n",
            "Classification Report: \n",
            "              precision    recall  f1-score   support\n",
            "\n",
            "         1.0       0.53      0.71      0.61        59\n",
            "         2.0       0.43      0.18      0.26        71\n",
            "         3.0       0.48      0.69      0.56        48\n",
            "\n",
            "    accuracy                           0.49       178\n",
            "   macro avg       0.48      0.53      0.48       178\n",
            "weighted avg       0.48      0.49      0.46       178\n",
            "\n",
            "hidden_layer_size: 64,regularize_activation: 0.5,regularize_entropy: 0.1,regularize_ridge: 0.7\n",
            "KAN RESULTS\n"
          ]
        },
        {
          "output_type": "stream",
          "name": "stderr",
          "text": [
            "100%|██████████| 100/100 [00:01<00:00, 54.64it/s]\n"
          ]
        },
        {
          "output_type": "stream",
          "name": "stdout",
          "text": [
            "Accuracy Score: 0.4606741573033708\n",
            "Confusion Matrix: \n",
            "[[35 19  5]\n",
            " [27 22 22]\n",
            " [23  0 25]]\n",
            "Classification Report: \n",
            "              precision    recall  f1-score   support\n",
            "\n",
            "         1.0       0.41      0.59      0.49        59\n",
            "         2.0       0.54      0.31      0.39        71\n",
            "         3.0       0.48      0.52      0.50        48\n",
            "\n",
            "    accuracy                           0.46       178\n",
            "   macro avg       0.48      0.47      0.46       178\n",
            "weighted avg       0.48      0.46      0.45       178\n",
            "\n",
            "hidden_layer_size: 64,regularize_activation: 0.5,regularize_entropy: 0.3,regularize_ridge: 0.1\n",
            "KAN RESULTS\n"
          ]
        },
        {
          "output_type": "stream",
          "name": "stderr",
          "text": [
            " 67%|██████▋   | 67/100 [00:01<00:00, 37.82it/s]\n"
          ]
        },
        {
          "output_type": "stream",
          "name": "stdout",
          "text": [
            "\tEarly stopping\n",
            "Accuracy Score: 0.5674157303370787\n",
            "Confusion Matrix: \n",
            "[[44  3 12]\n",
            " [35 29  7]\n",
            " [ 8 12 28]]\n",
            "Classification Report: \n",
            "              precision    recall  f1-score   support\n",
            "\n",
            "         1.0       0.51      0.75      0.60        59\n",
            "         2.0       0.66      0.41      0.50        71\n",
            "         3.0       0.60      0.58      0.59        48\n",
            "\n",
            "    accuracy                           0.57       178\n",
            "   macro avg       0.59      0.58      0.57       178\n",
            "weighted avg       0.59      0.57      0.56       178\n",
            "\n",
            "hidden_layer_size: 64,regularize_activation: 0.5,regularize_entropy: 0.3,regularize_ridge: 0.3\n",
            "KAN RESULTS\n"
          ]
        },
        {
          "output_type": "stream",
          "name": "stderr",
          "text": [
            " 62%|██████▏   | 62/100 [00:01<00:00, 38.01it/s]\n"
          ]
        },
        {
          "output_type": "stream",
          "name": "stdout",
          "text": [
            "\tEarly stopping\n",
            "Accuracy Score: 0.550561797752809\n",
            "Confusion Matrix: \n",
            "[[27 32  0]\n",
            " [ 8 46 17]\n",
            " [23  0 25]]\n",
            "Classification Report: \n",
            "              precision    recall  f1-score   support\n",
            "\n",
            "         1.0       0.47      0.46      0.46        59\n",
            "         2.0       0.59      0.65      0.62        71\n",
            "         3.0       0.60      0.52      0.56        48\n",
            "\n",
            "    accuracy                           0.55       178\n",
            "   macro avg       0.55      0.54      0.54       178\n",
            "weighted avg       0.55      0.55      0.55       178\n",
            "\n",
            "hidden_layer_size: 64,regularize_activation: 0.5,regularize_entropy: 0.3,regularize_ridge: 0.5\n",
            "KAN RESULTS\n"
          ]
        },
        {
          "output_type": "stream",
          "name": "stderr",
          "text": [
            "100%|██████████| 100/100 [00:01<00:00, 52.11it/s]\n"
          ]
        },
        {
          "output_type": "stream",
          "name": "stdout",
          "text": [
            "Accuracy Score: 0.48314606741573035\n",
            "Confusion Matrix: \n",
            "[[25  0 34]\n",
            " [30 27 14]\n",
            " [ 9  5 34]]\n",
            "Classification Report: \n",
            "              precision    recall  f1-score   support\n",
            "\n",
            "         1.0       0.39      0.42      0.41        59\n",
            "         2.0       0.84      0.38      0.52        71\n",
            "         3.0       0.41      0.71      0.52        48\n",
            "\n",
            "    accuracy                           0.48       178\n",
            "   macro avg       0.55      0.50      0.48       178\n",
            "weighted avg       0.58      0.48      0.48       178\n",
            "\n",
            "hidden_layer_size: 64,regularize_activation: 0.5,regularize_entropy: 0.3,regularize_ridge: 0.7\n",
            "KAN RESULTS\n"
          ]
        },
        {
          "output_type": "stream",
          "name": "stderr",
          "text": [
            "100%|██████████| 100/100 [00:01<00:00, 55.39it/s]\n"
          ]
        },
        {
          "output_type": "stream",
          "name": "stdout",
          "text": [
            "Accuracy Score: 0.6910112359550562\n",
            "Confusion Matrix: \n",
            "[[56  2  1]\n",
            " [40 24  7]\n",
            " [ 2  3 43]]\n",
            "Classification Report: \n",
            "              precision    recall  f1-score   support\n",
            "\n",
            "         1.0       0.57      0.95      0.71        59\n",
            "         2.0       0.83      0.34      0.48        71\n",
            "         3.0       0.84      0.90      0.87        48\n",
            "\n",
            "    accuracy                           0.69       178\n",
            "   macro avg       0.75      0.73      0.69       178\n",
            "weighted avg       0.75      0.69      0.66       178\n",
            "\n",
            "hidden_layer_size: 64,regularize_activation: 0.5,regularize_entropy: 0.5,regularize_ridge: 0.1\n",
            "KAN RESULTS\n"
          ]
        },
        {
          "output_type": "stream",
          "name": "stderr",
          "text": [
            "100%|██████████| 100/100 [00:01<00:00, 62.24it/s]\n"
          ]
        },
        {
          "output_type": "stream",
          "name": "stdout",
          "text": [
            "Accuracy Score: 0.6348314606741573\n",
            "Confusion Matrix: \n",
            "[[54  5  0]\n",
            " [12 43 16]\n",
            " [27  5 16]]\n",
            "Classification Report: \n",
            "              precision    recall  f1-score   support\n",
            "\n",
            "         1.0       0.58      0.92      0.71        59\n",
            "         2.0       0.81      0.61      0.69        71\n",
            "         3.0       0.50      0.33      0.40        48\n",
            "\n",
            "    accuracy                           0.63       178\n",
            "   macro avg       0.63      0.62      0.60       178\n",
            "weighted avg       0.65      0.63      0.62       178\n",
            "\n",
            "hidden_layer_size: 64,regularize_activation: 0.5,regularize_entropy: 0.5,regularize_ridge: 0.3\n",
            "KAN RESULTS\n"
          ]
        },
        {
          "output_type": "stream",
          "name": "stderr",
          "text": [
            "100%|██████████| 100/100 [00:01<00:00, 60.35it/s]\n"
          ]
        },
        {
          "output_type": "stream",
          "name": "stdout",
          "text": [
            "Accuracy Score: 0.6685393258426966\n",
            "Confusion Matrix: \n",
            "[[22 22 15]\n",
            " [ 8 57  6]\n",
            " [ 6  2 40]]\n",
            "Classification Report: \n",
            "              precision    recall  f1-score   support\n",
            "\n",
            "         1.0       0.61      0.37      0.46        59\n",
            "         2.0       0.70      0.80      0.75        71\n",
            "         3.0       0.66      0.83      0.73        48\n",
            "\n",
            "    accuracy                           0.67       178\n",
            "   macro avg       0.66      0.67      0.65       178\n",
            "weighted avg       0.66      0.67      0.65       178\n",
            "\n",
            "hidden_layer_size: 64,regularize_activation: 0.5,regularize_entropy: 0.5,regularize_ridge: 0.5\n",
            "KAN RESULTS\n"
          ]
        },
        {
          "output_type": "stream",
          "name": "stderr",
          "text": [
            "100%|██████████| 100/100 [00:01<00:00, 58.76it/s]\n"
          ]
        },
        {
          "output_type": "stream",
          "name": "stdout",
          "text": [
            "Accuracy Score: 0.5056179775280899\n",
            "Confusion Matrix: \n",
            "[[23  0 36]\n",
            " [20 21 30]\n",
            " [ 1  1 46]]\n",
            "Classification Report: \n",
            "              precision    recall  f1-score   support\n",
            "\n",
            "         1.0       0.52      0.39      0.45        59\n",
            "         2.0       0.95      0.30      0.45        71\n",
            "         3.0       0.41      0.96      0.57        48\n",
            "\n",
            "    accuracy                           0.51       178\n",
            "   macro avg       0.63      0.55      0.49       178\n",
            "weighted avg       0.66      0.51      0.48       178\n",
            "\n",
            "hidden_layer_size: 64,regularize_activation: 0.5,regularize_entropy: 0.5,regularize_ridge: 0.7\n",
            "KAN RESULTS\n"
          ]
        },
        {
          "output_type": "stream",
          "name": "stderr",
          "text": [
            "100%|██████████| 100/100 [00:01<00:00, 73.73it/s]\n"
          ]
        },
        {
          "output_type": "stream",
          "name": "stdout",
          "text": [
            "Accuracy Score: 0.48314606741573035\n",
            "Confusion Matrix: \n",
            "[[23 17 19]\n",
            " [ 8 45 18]\n",
            " [16 14 18]]\n",
            "Classification Report: \n",
            "              precision    recall  f1-score   support\n",
            "\n",
            "         1.0       0.49      0.39      0.43        59\n",
            "         2.0       0.59      0.63      0.61        71\n",
            "         3.0       0.33      0.38      0.35        48\n",
            "\n",
            "    accuracy                           0.48       178\n",
            "   macro avg       0.47      0.47      0.47       178\n",
            "weighted avg       0.49      0.48      0.48       178\n",
            "\n",
            "hidden_layer_size: 32,regularize_activation: 0.1,regularize_entropy: 0.1,regularize_ridge: 0.1\n",
            "KAN RESULTS\n"
          ]
        },
        {
          "output_type": "stream",
          "name": "stderr",
          "text": [
            "100%|██████████| 100/100 [00:01<00:00, 52.83it/s]\n"
          ]
        },
        {
          "output_type": "stream",
          "name": "stdout",
          "text": [
            "Accuracy Score: 0.4887640449438202\n",
            "Confusion Matrix: \n",
            "[[22  1 36]\n",
            " [16 39 16]\n",
            " [ 1 21 26]]\n",
            "Classification Report: \n",
            "              precision    recall  f1-score   support\n",
            "\n",
            "         1.0       0.56      0.37      0.45        59\n",
            "         2.0       0.64      0.55      0.59        71\n",
            "         3.0       0.33      0.54      0.41        48\n",
            "\n",
            "    accuracy                           0.49       178\n",
            "   macro avg       0.51      0.49      0.48       178\n",
            "weighted avg       0.53      0.49      0.50       178\n",
            "\n",
            "hidden_layer_size: 32,regularize_activation: 0.1,regularize_entropy: 0.1,regularize_ridge: 0.3\n",
            "KAN RESULTS\n"
          ]
        },
        {
          "output_type": "stream",
          "name": "stderr",
          "text": [
            "100%|██████████| 100/100 [00:02<00:00, 47.96it/s]\n"
          ]
        },
        {
          "output_type": "stream",
          "name": "stdout",
          "text": [
            "Accuracy Score: 0.2752808988764045\n",
            "Confusion Matrix: \n",
            "[[ 6 51  2]\n",
            " [32 12 27]\n",
            " [ 8  9 31]]\n",
            "Classification Report: \n",
            "              precision    recall  f1-score   support\n",
            "\n",
            "         1.0       0.13      0.10      0.11        59\n",
            "         2.0       0.17      0.17      0.17        71\n",
            "         3.0       0.52      0.65      0.57        48\n",
            "\n",
            "    accuracy                           0.28       178\n",
            "   macro avg       0.27      0.31      0.29       178\n",
            "weighted avg       0.25      0.28      0.26       178\n",
            "\n",
            "hidden_layer_size: 32,regularize_activation: 0.1,regularize_entropy: 0.1,regularize_ridge: 0.5\n",
            "KAN RESULTS\n"
          ]
        },
        {
          "output_type": "stream",
          "name": "stderr",
          "text": [
            "100%|██████████| 100/100 [00:01<00:00, 75.80it/s]\n"
          ]
        },
        {
          "output_type": "stream",
          "name": "stdout",
          "text": [
            "Accuracy Score: 0.6292134831460674\n",
            "Confusion Matrix: \n",
            "[[31  1 27]\n",
            " [ 9 46 16]\n",
            " [ 2 11 35]]\n",
            "Classification Report: \n",
            "              precision    recall  f1-score   support\n",
            "\n",
            "         1.0       0.74      0.53      0.61        59\n",
            "         2.0       0.79      0.65      0.71        71\n",
            "         3.0       0.45      0.73      0.56        48\n",
            "\n",
            "    accuracy                           0.63       178\n",
            "   macro avg       0.66      0.63      0.63       178\n",
            "weighted avg       0.68      0.63      0.64       178\n",
            "\n",
            "hidden_layer_size: 32,regularize_activation: 0.1,regularize_entropy: 0.1,regularize_ridge: 0.7\n",
            "KAN RESULTS\n"
          ]
        },
        {
          "output_type": "stream",
          "name": "stderr",
          "text": [
            "100%|██████████| 100/100 [00:01<00:00, 76.80it/s]\n"
          ]
        },
        {
          "output_type": "stream",
          "name": "stdout",
          "text": [
            "Accuracy Score: 0.7471910112359551\n",
            "Confusion Matrix: \n",
            "[[34 25  0]\n",
            " [ 9 58  4]\n",
            " [ 0  7 41]]\n",
            "Classification Report: \n",
            "              precision    recall  f1-score   support\n",
            "\n",
            "         1.0       0.79      0.58      0.67        59\n",
            "         2.0       0.64      0.82      0.72        71\n",
            "         3.0       0.91      0.85      0.88        48\n",
            "\n",
            "    accuracy                           0.75       178\n",
            "   macro avg       0.78      0.75      0.76       178\n",
            "weighted avg       0.76      0.75      0.75       178\n",
            "\n",
            "hidden_layer_size: 32,regularize_activation: 0.1,regularize_entropy: 0.3,regularize_ridge: 0.1\n",
            "KAN RESULTS\n"
          ]
        },
        {
          "output_type": "stream",
          "name": "stderr",
          "text": [
            "100%|██████████| 100/100 [00:01<00:00, 73.01it/s]\n"
          ]
        },
        {
          "output_type": "stream",
          "name": "stdout",
          "text": [
            "Accuracy Score: 0.4157303370786517\n",
            "Confusion Matrix: \n",
            "[[10 46  3]\n",
            " [ 5 22 44]\n",
            " [ 3  3 42]]\n",
            "Classification Report: \n",
            "              precision    recall  f1-score   support\n",
            "\n",
            "         1.0       0.56      0.17      0.26        59\n",
            "         2.0       0.31      0.31      0.31        71\n",
            "         3.0       0.47      0.88      0.61        48\n",
            "\n",
            "    accuracy                           0.42       178\n",
            "   macro avg       0.45      0.45      0.39       178\n",
            "weighted avg       0.43      0.42      0.38       178\n",
            "\n",
            "hidden_layer_size: 32,regularize_activation: 0.1,regularize_entropy: 0.3,regularize_ridge: 0.3\n",
            "KAN RESULTS\n"
          ]
        },
        {
          "output_type": "stream",
          "name": "stderr",
          "text": [
            "100%|██████████| 100/100 [00:01<00:00, 74.08it/s]\n"
          ]
        },
        {
          "output_type": "stream",
          "name": "stdout",
          "text": [
            "Accuracy Score: 0.5955056179775281\n",
            "Confusion Matrix: \n",
            "[[49  7  3]\n",
            " [16 28 27]\n",
            " [ 6 13 29]]\n",
            "Classification Report: \n",
            "              precision    recall  f1-score   support\n",
            "\n",
            "         1.0       0.69      0.83      0.75        59\n",
            "         2.0       0.58      0.39      0.47        71\n",
            "         3.0       0.49      0.60      0.54        48\n",
            "\n",
            "    accuracy                           0.60       178\n",
            "   macro avg       0.59      0.61      0.59       178\n",
            "weighted avg       0.59      0.60      0.58       178\n",
            "\n",
            "hidden_layer_size: 32,regularize_activation: 0.1,regularize_entropy: 0.3,regularize_ridge: 0.5\n",
            "KAN RESULTS\n"
          ]
        },
        {
          "output_type": "stream",
          "name": "stderr",
          "text": [
            " 55%|█████▌    | 55/100 [00:00<00:00, 71.96it/s]\n"
          ]
        },
        {
          "output_type": "stream",
          "name": "stdout",
          "text": [
            "\tEarly stopping\n",
            "Accuracy Score: 0.48314606741573035\n",
            "Confusion Matrix: \n",
            "[[34  8 17]\n",
            " [44 18  9]\n",
            " [ 4 10 34]]\n",
            "Classification Report: \n",
            "              precision    recall  f1-score   support\n",
            "\n",
            "         1.0       0.41      0.58      0.48        59\n",
            "         2.0       0.50      0.25      0.34        71\n",
            "         3.0       0.57      0.71      0.63        48\n",
            "\n",
            "    accuracy                           0.48       178\n",
            "   macro avg       0.49      0.51      0.48       178\n",
            "weighted avg       0.49      0.48      0.46       178\n",
            "\n",
            "hidden_layer_size: 32,regularize_activation: 0.1,regularize_entropy: 0.3,regularize_ridge: 0.7\n",
            "KAN RESULTS\n"
          ]
        },
        {
          "output_type": "stream",
          "name": "stderr",
          "text": [
            "100%|██████████| 100/100 [00:01<00:00, 75.50it/s]\n"
          ]
        },
        {
          "output_type": "stream",
          "name": "stdout",
          "text": [
            "Accuracy Score: 0.20786516853932585\n",
            "Confusion Matrix: \n",
            "[[ 0 59  0]\n",
            " [18 18 35]\n",
            " [29  0 19]]\n",
            "Classification Report: \n",
            "              precision    recall  f1-score   support\n",
            "\n",
            "         1.0       0.00      0.00      0.00        59\n",
            "         2.0       0.23      0.25      0.24        71\n",
            "         3.0       0.35      0.40      0.37        48\n",
            "\n",
            "    accuracy                           0.21       178\n",
            "   macro avg       0.20      0.22      0.21       178\n",
            "weighted avg       0.19      0.21      0.20       178\n",
            "\n",
            "hidden_layer_size: 32,regularize_activation: 0.1,regularize_entropy: 0.5,regularize_ridge: 0.1\n",
            "KAN RESULTS\n"
          ]
        },
        {
          "output_type": "stream",
          "name": "stderr",
          "text": [
            "100%|██████████| 100/100 [00:01<00:00, 74.25it/s]\n"
          ]
        },
        {
          "output_type": "stream",
          "name": "stdout",
          "text": [
            "Accuracy Score: 0.3258426966292135\n",
            "Confusion Matrix: \n",
            "[[24 29  6]\n",
            " [10 14 47]\n",
            " [27  1 20]]\n",
            "Classification Report: \n",
            "              precision    recall  f1-score   support\n",
            "\n",
            "         1.0       0.39      0.41      0.40        59\n",
            "         2.0       0.32      0.20      0.24        71\n",
            "         3.0       0.27      0.42      0.33        48\n",
            "\n",
            "    accuracy                           0.33       178\n",
            "   macro avg       0.33      0.34      0.32       178\n",
            "weighted avg       0.33      0.33      0.32       178\n",
            "\n",
            "hidden_layer_size: 32,regularize_activation: 0.1,regularize_entropy: 0.5,regularize_ridge: 0.3\n",
            "KAN RESULTS\n"
          ]
        },
        {
          "output_type": "stream",
          "name": "stderr",
          "text": [
            "100%|██████████| 100/100 [00:01<00:00, 62.39it/s]\n"
          ]
        },
        {
          "output_type": "stream",
          "name": "stdout",
          "text": [
            "Accuracy Score: 0.29775280898876405\n",
            "Confusion Matrix: \n",
            "[[18 26 15]\n",
            " [18 29 24]\n",
            " [27 15  6]]\n",
            "Classification Report: \n",
            "              precision    recall  f1-score   support\n",
            "\n",
            "         1.0       0.29      0.31      0.30        59\n",
            "         2.0       0.41      0.41      0.41        71\n",
            "         3.0       0.13      0.12      0.13        48\n",
            "\n",
            "    accuracy                           0.30       178\n",
            "   macro avg       0.28      0.28      0.28       178\n",
            "weighted avg       0.30      0.30      0.30       178\n",
            "\n",
            "hidden_layer_size: 32,regularize_activation: 0.1,regularize_entropy: 0.5,regularize_ridge: 0.5\n",
            "KAN RESULTS\n"
          ]
        },
        {
          "output_type": "stream",
          "name": "stderr",
          "text": [
            "100%|██████████| 100/100 [00:02<00:00, 48.58it/s]\n"
          ]
        },
        {
          "output_type": "stream",
          "name": "stdout",
          "text": [
            "Accuracy Score: 0.23595505617977527\n",
            "Confusion Matrix: \n",
            "[[23 29  7]\n",
            " [22 15 34]\n",
            " [24 20  4]]\n",
            "Classification Report: \n",
            "              precision    recall  f1-score   support\n",
            "\n",
            "         1.0       0.33      0.39      0.36        59\n",
            "         2.0       0.23      0.21      0.22        71\n",
            "         3.0       0.09      0.08      0.09        48\n",
            "\n",
            "    accuracy                           0.24       178\n",
            "   macro avg       0.22      0.23      0.22       178\n",
            "weighted avg       0.23      0.24      0.23       178\n",
            "\n",
            "hidden_layer_size: 32,regularize_activation: 0.1,regularize_entropy: 0.5,regularize_ridge: 0.7\n",
            "KAN RESULTS\n"
          ]
        },
        {
          "output_type": "stream",
          "name": "stderr",
          "text": [
            "100%|██████████| 100/100 [00:01<00:00, 51.49it/s]\n"
          ]
        },
        {
          "output_type": "stream",
          "name": "stdout",
          "text": [
            "Accuracy Score: 0.6573033707865169\n",
            "Confusion Matrix: \n",
            "[[57  2  0]\n",
            " [23 40  8]\n",
            " [22  6 20]]\n",
            "Classification Report: \n",
            "              precision    recall  f1-score   support\n",
            "\n",
            "         1.0       0.56      0.97      0.71        59\n",
            "         2.0       0.83      0.56      0.67        71\n",
            "         3.0       0.71      0.42      0.53        48\n",
            "\n",
            "    accuracy                           0.66       178\n",
            "   macro avg       0.70      0.65      0.64       178\n",
            "weighted avg       0.71      0.66      0.64       178\n",
            "\n",
            "hidden_layer_size: 32,regularize_activation: 0.3,regularize_entropy: 0.1,regularize_ridge: 0.1\n",
            "KAN RESULTS\n"
          ]
        },
        {
          "output_type": "stream",
          "name": "stderr",
          "text": [
            "100%|██████████| 100/100 [00:01<00:00, 74.20it/s]\n"
          ]
        },
        {
          "output_type": "stream",
          "name": "stdout",
          "text": [
            "Accuracy Score: 0.5224719101123596\n",
            "Confusion Matrix: \n",
            "[[51  3  5]\n",
            " [18 39 14]\n",
            " [32 13  3]]\n",
            "Classification Report: \n",
            "              precision    recall  f1-score   support\n",
            "\n",
            "         1.0       0.50      0.86      0.64        59\n",
            "         2.0       0.71      0.55      0.62        71\n",
            "         3.0       0.14      0.06      0.09        48\n",
            "\n",
            "    accuracy                           0.52       178\n",
            "   macro avg       0.45      0.49      0.45       178\n",
            "weighted avg       0.49      0.52      0.48       178\n",
            "\n",
            "hidden_layer_size: 32,regularize_activation: 0.3,regularize_entropy: 0.1,regularize_ridge: 0.3\n",
            "KAN RESULTS\n"
          ]
        },
        {
          "output_type": "stream",
          "name": "stderr",
          "text": [
            "100%|██████████| 100/100 [00:01<00:00, 75.92it/s]\n"
          ]
        },
        {
          "output_type": "stream",
          "name": "stdout",
          "text": [
            "Accuracy Score: 0.3707865168539326\n",
            "Confusion Matrix: \n",
            "[[46 13  0]\n",
            " [51  7 13]\n",
            " [20 15 13]]\n",
            "Classification Report: \n",
            "              precision    recall  f1-score   support\n",
            "\n",
            "         1.0       0.39      0.78      0.52        59\n",
            "         2.0       0.20      0.10      0.13        71\n",
            "         3.0       0.50      0.27      0.35        48\n",
            "\n",
            "    accuracy                           0.37       178\n",
            "   macro avg       0.36      0.38      0.34       178\n",
            "weighted avg       0.34      0.37      0.32       178\n",
            "\n",
            "hidden_layer_size: 32,regularize_activation: 0.3,regularize_entropy: 0.1,regularize_ridge: 0.5\n",
            "KAN RESULTS\n"
          ]
        },
        {
          "output_type": "stream",
          "name": "stderr",
          "text": [
            "100%|██████████| 100/100 [00:01<00:00, 72.55it/s]\n"
          ]
        },
        {
          "output_type": "stream",
          "name": "stdout",
          "text": [
            "Accuracy Score: 0.34269662921348315\n",
            "Confusion Matrix: \n",
            "[[37 12 10]\n",
            " [33 22 16]\n",
            " [ 6 40  2]]\n",
            "Classification Report: \n",
            "              precision    recall  f1-score   support\n",
            "\n",
            "         1.0       0.49      0.63      0.55        59\n",
            "         2.0       0.30      0.31      0.30        71\n",
            "         3.0       0.07      0.04      0.05        48\n",
            "\n",
            "    accuracy                           0.34       178\n",
            "   macro avg       0.29      0.33      0.30       178\n",
            "weighted avg       0.30      0.34      0.32       178\n",
            "\n",
            "hidden_layer_size: 32,regularize_activation: 0.3,regularize_entropy: 0.1,regularize_ridge: 0.7\n",
            "KAN RESULTS\n"
          ]
        },
        {
          "output_type": "stream",
          "name": "stderr",
          "text": [
            "100%|██████████| 100/100 [00:01<00:00, 73.00it/s]\n"
          ]
        },
        {
          "output_type": "stream",
          "name": "stdout",
          "text": [
            "Accuracy Score: 0.43258426966292135\n",
            "Confusion Matrix: \n",
            "[[ 7 50  2]\n",
            " [ 4 51 16]\n",
            " [26  3 19]]\n",
            "Classification Report: \n",
            "              precision    recall  f1-score   support\n",
            "\n",
            "         1.0       0.19      0.12      0.15        59\n",
            "         2.0       0.49      0.72      0.58        71\n",
            "         3.0       0.51      0.40      0.45        48\n",
            "\n",
            "    accuracy                           0.43       178\n",
            "   macro avg       0.40      0.41      0.39       178\n",
            "weighted avg       0.40      0.43      0.40       178\n",
            "\n",
            "hidden_layer_size: 32,regularize_activation: 0.3,regularize_entropy: 0.3,regularize_ridge: 0.1\n",
            "KAN RESULTS\n"
          ]
        },
        {
          "output_type": "stream",
          "name": "stderr",
          "text": [
            " 56%|█████▌    | 56/100 [00:00<00:00, 76.67it/s]\n"
          ]
        },
        {
          "output_type": "stream",
          "name": "stdout",
          "text": [
            "\tEarly stopping\n",
            "Accuracy Score: 0.6235955056179775\n",
            "Confusion Matrix: \n",
            "[[39 12  8]\n",
            " [13 48 10]\n",
            " [24  0 24]]\n",
            "Classification Report: \n",
            "              precision    recall  f1-score   support\n",
            "\n",
            "         1.0       0.51      0.66      0.58        59\n",
            "         2.0       0.80      0.68      0.73        71\n",
            "         3.0       0.57      0.50      0.53        48\n",
            "\n",
            "    accuracy                           0.62       178\n",
            "   macro avg       0.63      0.61      0.61       178\n",
            "weighted avg       0.64      0.62      0.63       178\n",
            "\n",
            "hidden_layer_size: 32,regularize_activation: 0.3,regularize_entropy: 0.3,regularize_ridge: 0.3\n",
            "KAN RESULTS\n"
          ]
        },
        {
          "output_type": "stream",
          "name": "stderr",
          "text": [
            "100%|██████████| 100/100 [00:01<00:00, 74.42it/s]\n"
          ]
        },
        {
          "output_type": "stream",
          "name": "stdout",
          "text": [
            "Accuracy Score: 0.4044943820224719\n",
            "Confusion Matrix: \n",
            "[[21  8 30]\n",
            " [11 20 40]\n",
            " [ 1 16 31]]\n",
            "Classification Report: \n",
            "              precision    recall  f1-score   support\n",
            "\n",
            "         1.0       0.64      0.36      0.46        59\n",
            "         2.0       0.45      0.28      0.35        71\n",
            "         3.0       0.31      0.65      0.42        48\n",
            "\n",
            "    accuracy                           0.40       178\n",
            "   macro avg       0.47      0.43      0.41       178\n",
            "weighted avg       0.48      0.40      0.40       178\n",
            "\n",
            "hidden_layer_size: 32,regularize_activation: 0.3,regularize_entropy: 0.3,regularize_ridge: 0.5\n",
            "KAN RESULTS\n"
          ]
        },
        {
          "output_type": "stream",
          "name": "stderr",
          "text": [
            "100%|██████████| 100/100 [00:01<00:00, 78.25it/s]\n"
          ]
        },
        {
          "output_type": "stream",
          "name": "stdout",
          "text": [
            "Accuracy Score: 0.5168539325842697\n",
            "Confusion Matrix: \n",
            "[[34  9 16]\n",
            " [18 20 33]\n",
            " [ 3  7 38]]\n",
            "Classification Report: \n",
            "              precision    recall  f1-score   support\n",
            "\n",
            "         1.0       0.62      0.58      0.60        59\n",
            "         2.0       0.56      0.28      0.37        71\n",
            "         3.0       0.44      0.79      0.56        48\n",
            "\n",
            "    accuracy                           0.52       178\n",
            "   macro avg       0.54      0.55      0.51       178\n",
            "weighted avg       0.54      0.52      0.50       178\n",
            "\n",
            "hidden_layer_size: 32,regularize_activation: 0.3,regularize_entropy: 0.3,regularize_ridge: 0.7\n",
            "KAN RESULTS\n"
          ]
        },
        {
          "output_type": "stream",
          "name": "stderr",
          "text": [
            " 66%|██████▌   | 66/100 [00:01<00:00, 63.11it/s]\n"
          ]
        },
        {
          "output_type": "stream",
          "name": "stdout",
          "text": [
            "\tEarly stopping\n",
            "Accuracy Score: 0.37640449438202245\n",
            "Confusion Matrix: \n",
            "[[34  3 22]\n",
            " [25 17 29]\n",
            " [ 6 26 16]]\n",
            "Classification Report: \n",
            "              precision    recall  f1-score   support\n",
            "\n",
            "         1.0       0.52      0.58      0.55        59\n",
            "         2.0       0.37      0.24      0.29        71\n",
            "         3.0       0.24      0.33      0.28        48\n",
            "\n",
            "    accuracy                           0.38       178\n",
            "   macro avg       0.38      0.38      0.37       178\n",
            "weighted avg       0.39      0.38      0.37       178\n",
            "\n",
            "hidden_layer_size: 32,regularize_activation: 0.3,regularize_entropy: 0.5,regularize_ridge: 0.1\n",
            "KAN RESULTS\n"
          ]
        },
        {
          "output_type": "stream",
          "name": "stderr",
          "text": [
            "100%|██████████| 100/100 [00:02<00:00, 48.31it/s]\n"
          ]
        },
        {
          "output_type": "stream",
          "name": "stdout",
          "text": [
            "Accuracy Score: 0.6123595505617978\n",
            "Confusion Matrix: \n",
            "[[59  0  0]\n",
            " [48 14  9]\n",
            " [ 1 11 36]]\n",
            "Classification Report: \n",
            "              precision    recall  f1-score   support\n",
            "\n",
            "         1.0       0.55      1.00      0.71        59\n",
            "         2.0       0.56      0.20      0.29        71\n",
            "         3.0       0.80      0.75      0.77        48\n",
            "\n",
            "    accuracy                           0.61       178\n",
            "   macro avg       0.64      0.65      0.59       178\n",
            "weighted avg       0.62      0.61      0.56       178\n",
            "\n",
            "hidden_layer_size: 32,regularize_activation: 0.3,regularize_entropy: 0.5,regularize_ridge: 0.3\n",
            "KAN RESULTS\n"
          ]
        },
        {
          "output_type": "stream",
          "name": "stderr",
          "text": [
            "100%|██████████| 100/100 [00:01<00:00, 54.88it/s]\n"
          ]
        },
        {
          "output_type": "stream",
          "name": "stdout",
          "text": [
            "Accuracy Score: 0.43258426966292135\n",
            "Confusion Matrix: \n",
            "[[23 10 26]\n",
            " [26 25 20]\n",
            " [ 3 16 29]]\n",
            "Classification Report: \n",
            "              precision    recall  f1-score   support\n",
            "\n",
            "         1.0       0.44      0.39      0.41        59\n",
            "         2.0       0.49      0.35      0.41        71\n",
            "         3.0       0.39      0.60      0.47        48\n",
            "\n",
            "    accuracy                           0.43       178\n",
            "   macro avg       0.44      0.45      0.43       178\n",
            "weighted avg       0.45      0.43      0.43       178\n",
            "\n",
            "hidden_layer_size: 32,regularize_activation: 0.3,regularize_entropy: 0.5,regularize_ridge: 0.5\n",
            "KAN RESULTS\n"
          ]
        },
        {
          "output_type": "stream",
          "name": "stderr",
          "text": [
            "100%|██████████| 100/100 [00:01<00:00, 72.92it/s]\n"
          ]
        },
        {
          "output_type": "stream",
          "name": "stdout",
          "text": [
            "Accuracy Score: 0.6629213483146067\n",
            "Confusion Matrix: \n",
            "[[52  6  1]\n",
            " [25 22 24]\n",
            " [ 0  4 44]]\n",
            "Classification Report: \n",
            "              precision    recall  f1-score   support\n",
            "\n",
            "         1.0       0.68      0.88      0.76        59\n",
            "         2.0       0.69      0.31      0.43        71\n",
            "         3.0       0.64      0.92      0.75        48\n",
            "\n",
            "    accuracy                           0.66       178\n",
            "   macro avg       0.67      0.70      0.65       178\n",
            "weighted avg       0.67      0.66      0.63       178\n",
            "\n",
            "hidden_layer_size: 32,regularize_activation: 0.3,regularize_entropy: 0.5,regularize_ridge: 0.7\n",
            "KAN RESULTS\n"
          ]
        },
        {
          "output_type": "stream",
          "name": "stderr",
          "text": [
            " 54%|█████▍    | 54/100 [00:00<00:00, 73.24it/s]\n"
          ]
        },
        {
          "output_type": "stream",
          "name": "stdout",
          "text": [
            "\tEarly stopping\n",
            "Accuracy Score: 0.30337078651685395\n",
            "Confusion Matrix: \n",
            "[[ 6  9 44]\n",
            " [35 10 26]\n",
            " [ 0 10 38]]\n",
            "Classification Report: \n",
            "              precision    recall  f1-score   support\n",
            "\n",
            "         1.0       0.15      0.10      0.12        59\n",
            "         2.0       0.34      0.14      0.20        71\n",
            "         3.0       0.35      0.79      0.49        48\n",
            "\n",
            "    accuracy                           0.30       178\n",
            "   macro avg       0.28      0.34      0.27       178\n",
            "weighted avg       0.28      0.30      0.25       178\n",
            "\n",
            "hidden_layer_size: 32,regularize_activation: 0.5,regularize_entropy: 0.1,regularize_ridge: 0.1\n",
            "KAN RESULTS\n"
          ]
        },
        {
          "output_type": "stream",
          "name": "stderr",
          "text": [
            "100%|██████████| 100/100 [00:01<00:00, 76.71it/s]\n"
          ]
        },
        {
          "output_type": "stream",
          "name": "stdout",
          "text": [
            "Accuracy Score: 0.449438202247191\n",
            "Confusion Matrix: \n",
            "[[40 17  2]\n",
            " [30 33  8]\n",
            " [41  0  7]]\n",
            "Classification Report: \n",
            "              precision    recall  f1-score   support\n",
            "\n",
            "         1.0       0.36      0.68      0.47        59\n",
            "         2.0       0.66      0.46      0.55        71\n",
            "         3.0       0.41      0.15      0.22        48\n",
            "\n",
            "    accuracy                           0.45       178\n",
            "   macro avg       0.48      0.43      0.41       178\n",
            "weighted avg       0.49      0.45      0.43       178\n",
            "\n",
            "hidden_layer_size: 32,regularize_activation: 0.5,regularize_entropy: 0.1,regularize_ridge: 0.3\n",
            "KAN RESULTS\n"
          ]
        },
        {
          "output_type": "stream",
          "name": "stderr",
          "text": [
            "100%|██████████| 100/100 [00:01<00:00, 74.18it/s]\n"
          ]
        },
        {
          "output_type": "stream",
          "name": "stdout",
          "text": [
            "Accuracy Score: 0.14606741573033707\n",
            "Confusion Matrix: \n",
            "[[13 11 35]\n",
            " [47 13 11]\n",
            " [ 3 45  0]]\n",
            "Classification Report: \n",
            "              precision    recall  f1-score   support\n",
            "\n",
            "         1.0       0.21      0.22      0.21        59\n",
            "         2.0       0.19      0.18      0.19        71\n",
            "         3.0       0.00      0.00      0.00        48\n",
            "\n",
            "    accuracy                           0.15       178\n",
            "   macro avg       0.13      0.13      0.13       178\n",
            "weighted avg       0.14      0.15      0.14       178\n",
            "\n",
            "hidden_layer_size: 32,regularize_activation: 0.5,regularize_entropy: 0.1,regularize_ridge: 0.5\n",
            "KAN RESULTS\n"
          ]
        },
        {
          "output_type": "stream",
          "name": "stderr",
          "text": [
            "100%|██████████| 100/100 [00:01<00:00, 74.95it/s]\n"
          ]
        },
        {
          "output_type": "stream",
          "name": "stdout",
          "text": [
            "Accuracy Score: 0.2808988764044944\n",
            "Confusion Matrix: \n",
            "[[11 42  6]\n",
            " [ 5 14 52]\n",
            " [ 3 20 25]]\n",
            "Classification Report: \n",
            "              precision    recall  f1-score   support\n",
            "\n",
            "         1.0       0.58      0.19      0.28        59\n",
            "         2.0       0.18      0.20      0.19        71\n",
            "         3.0       0.30      0.52      0.38        48\n",
            "\n",
            "    accuracy                           0.28       178\n",
            "   macro avg       0.35      0.30      0.28       178\n",
            "weighted avg       0.35      0.28      0.27       178\n",
            "\n",
            "hidden_layer_size: 32,regularize_activation: 0.5,regularize_entropy: 0.1,regularize_ridge: 0.7\n",
            "KAN RESULTS\n"
          ]
        },
        {
          "output_type": "stream",
          "name": "stderr",
          "text": [
            "100%|██████████| 100/100 [00:01<00:00, 73.57it/s]\n"
          ]
        },
        {
          "output_type": "stream",
          "name": "stdout",
          "text": [
            "Accuracy Score: 0.4606741573033708\n",
            "Confusion Matrix: \n",
            "[[25  1 33]\n",
            " [26 25 20]\n",
            " [ 9  7 32]]\n",
            "Classification Report: \n",
            "              precision    recall  f1-score   support\n",
            "\n",
            "         1.0       0.42      0.42      0.42        59\n",
            "         2.0       0.76      0.35      0.48        71\n",
            "         3.0       0.38      0.67      0.48        48\n",
            "\n",
            "    accuracy                           0.46       178\n",
            "   macro avg       0.52      0.48      0.46       178\n",
            "weighted avg       0.54      0.46      0.46       178\n",
            "\n",
            "hidden_layer_size: 32,regularize_activation: 0.5,regularize_entropy: 0.3,regularize_ridge: 0.1\n",
            "KAN RESULTS\n"
          ]
        },
        {
          "output_type": "stream",
          "name": "stderr",
          "text": [
            "100%|██████████| 100/100 [00:01<00:00, 75.27it/s]\n"
          ]
        },
        {
          "output_type": "stream",
          "name": "stdout",
          "text": [
            "Accuracy Score: 0.2640449438202247\n",
            "Confusion Matrix: \n",
            "[[ 9 49  1]\n",
            " [28 28 15]\n",
            " [34  4 10]]\n",
            "Classification Report: \n",
            "              precision    recall  f1-score   support\n",
            "\n",
            "         1.0       0.13      0.15      0.14        59\n",
            "         2.0       0.35      0.39      0.37        71\n",
            "         3.0       0.38      0.21      0.27        48\n",
            "\n",
            "    accuracy                           0.26       178\n",
            "   macro avg       0.29      0.25      0.26       178\n",
            "weighted avg       0.28      0.26      0.27       178\n",
            "\n",
            "hidden_layer_size: 32,regularize_activation: 0.5,regularize_entropy: 0.3,regularize_ridge: 0.3\n",
            "KAN RESULTS\n"
          ]
        },
        {
          "output_type": "stream",
          "name": "stderr",
          "text": [
            "100%|██████████| 100/100 [00:01<00:00, 55.70it/s]\n"
          ]
        },
        {
          "output_type": "stream",
          "name": "stdout",
          "text": [
            "Accuracy Score: 0.24719101123595505\n",
            "Confusion Matrix: \n",
            "[[13  6 40]\n",
            " [40 16 15]\n",
            " [ 2 31 15]]\n",
            "Classification Report: \n",
            "              precision    recall  f1-score   support\n",
            "\n",
            "         1.0       0.24      0.22      0.23        59\n",
            "         2.0       0.30      0.23      0.26        71\n",
            "         3.0       0.21      0.31      0.25        48\n",
            "\n",
            "    accuracy                           0.25       178\n",
            "   macro avg       0.25      0.25      0.25       178\n",
            "weighted avg       0.26      0.25      0.25       178\n",
            "\n",
            "hidden_layer_size: 32,regularize_activation: 0.5,regularize_entropy: 0.3,regularize_ridge: 0.5\n",
            "KAN RESULTS\n"
          ]
        },
        {
          "output_type": "stream",
          "name": "stderr",
          "text": [
            "100%|██████████| 100/100 [00:02<00:00, 47.11it/s]\n"
          ]
        },
        {
          "output_type": "stream",
          "name": "stdout",
          "text": [
            "Accuracy Score: 0.7415730337078652\n",
            "Confusion Matrix: \n",
            "[[47  7  5]\n",
            " [20 44  7]\n",
            " [ 2  5 41]]\n",
            "Classification Report: \n",
            "              precision    recall  f1-score   support\n",
            "\n",
            "         1.0       0.68      0.80      0.73        59\n",
            "         2.0       0.79      0.62      0.69        71\n",
            "         3.0       0.77      0.85      0.81        48\n",
            "\n",
            "    accuracy                           0.74       178\n",
            "   macro avg       0.75      0.76      0.75       178\n",
            "weighted avg       0.75      0.74      0.74       178\n",
            "\n",
            "hidden_layer_size: 32,regularize_activation: 0.5,regularize_entropy: 0.3,regularize_ridge: 0.7\n",
            "KAN RESULTS\n"
          ]
        },
        {
          "output_type": "stream",
          "name": "stderr",
          "text": [
            "100%|██████████| 100/100 [00:01<00:00, 61.22it/s]\n"
          ]
        },
        {
          "output_type": "stream",
          "name": "stdout",
          "text": [
            "Accuracy Score: 0.25280898876404495\n",
            "Confusion Matrix: \n",
            "[[ 7 13 39]\n",
            " [28 30 13]\n",
            " [18 22  8]]\n",
            "Classification Report: \n",
            "              precision    recall  f1-score   support\n",
            "\n",
            "         1.0       0.13      0.12      0.12        59\n",
            "         2.0       0.46      0.42      0.44        71\n",
            "         3.0       0.13      0.17      0.15        48\n",
            "\n",
            "    accuracy                           0.25       178\n",
            "   macro avg       0.24      0.24      0.24       178\n",
            "weighted avg       0.26      0.25      0.26       178\n",
            "\n",
            "hidden_layer_size: 32,regularize_activation: 0.5,regularize_entropy: 0.5,regularize_ridge: 0.1\n",
            "KAN RESULTS\n"
          ]
        },
        {
          "output_type": "stream",
          "name": "stderr",
          "text": [
            "100%|██████████| 100/100 [00:01<00:00, 73.24it/s]\n"
          ]
        },
        {
          "output_type": "stream",
          "name": "stdout",
          "text": [
            "Accuracy Score: 0.7640449438202247\n",
            "Confusion Matrix: \n",
            "[[47 12  0]\n",
            " [ 6 53 12]\n",
            " [10  2 36]]\n",
            "Classification Report: \n",
            "              precision    recall  f1-score   support\n",
            "\n",
            "         1.0       0.75      0.80      0.77        59\n",
            "         2.0       0.79      0.75      0.77        71\n",
            "         3.0       0.75      0.75      0.75        48\n",
            "\n",
            "    accuracy                           0.76       178\n",
            "   macro avg       0.76      0.76      0.76       178\n",
            "weighted avg       0.77      0.76      0.76       178\n",
            "\n",
            "hidden_layer_size: 32,regularize_activation: 0.5,regularize_entropy: 0.5,regularize_ridge: 0.3\n",
            "KAN RESULTS\n"
          ]
        },
        {
          "output_type": "stream",
          "name": "stderr",
          "text": [
            "100%|██████████| 100/100 [00:01<00:00, 76.19it/s]\n"
          ]
        },
        {
          "output_type": "stream",
          "name": "stdout",
          "text": [
            "Accuracy Score: 0.3146067415730337\n",
            "Confusion Matrix: \n",
            "[[ 0 57  2]\n",
            " [28 24 19]\n",
            " [14  2 32]]\n",
            "Classification Report: \n",
            "              precision    recall  f1-score   support\n",
            "\n",
            "         1.0       0.00      0.00      0.00        59\n",
            "         2.0       0.29      0.34      0.31        71\n",
            "         3.0       0.60      0.67      0.63        48\n",
            "\n",
            "    accuracy                           0.31       178\n",
            "   macro avg       0.30      0.33      0.32       178\n",
            "weighted avg       0.28      0.31      0.30       178\n",
            "\n",
            "hidden_layer_size: 32,regularize_activation: 0.5,regularize_entropy: 0.5,regularize_ridge: 0.5\n",
            "KAN RESULTS\n"
          ]
        },
        {
          "output_type": "stream",
          "name": "stderr",
          "text": [
            "100%|██████████| 100/100 [00:01<00:00, 76.32it/s]\n"
          ]
        },
        {
          "output_type": "stream",
          "name": "stdout",
          "text": [
            "Accuracy Score: 0.5617977528089888\n",
            "Confusion Matrix: \n",
            "[[36  1 22]\n",
            " [17 33 21]\n",
            " [ 9  8 31]]\n",
            "Classification Report: \n",
            "              precision    recall  f1-score   support\n",
            "\n",
            "         1.0       0.58      0.61      0.60        59\n",
            "         2.0       0.79      0.46      0.58        71\n",
            "         3.0       0.42      0.65      0.51        48\n",
            "\n",
            "    accuracy                           0.56       178\n",
            "   macro avg       0.60      0.57      0.56       178\n",
            "weighted avg       0.62      0.56      0.57       178\n",
            "\n",
            "hidden_layer_size: 32,regularize_activation: 0.5,regularize_entropy: 0.5,regularize_ridge: 0.7\n",
            "KAN RESULTS\n"
          ]
        },
        {
          "output_type": "stream",
          "name": "stderr",
          "text": [
            "100%|██████████| 100/100 [00:01<00:00, 74.05it/s]\n"
          ]
        },
        {
          "output_type": "stream",
          "name": "stdout",
          "text": [
            "Accuracy Score: 0.5449438202247191\n",
            "Confusion Matrix: \n",
            "[[19 37  3]\n",
            " [19 40 12]\n",
            " [10  0 38]]\n",
            "Classification Report: \n",
            "              precision    recall  f1-score   support\n",
            "\n",
            "         1.0       0.40      0.32      0.36        59\n",
            "         2.0       0.52      0.56      0.54        71\n",
            "         3.0       0.72      0.79      0.75        48\n",
            "\n",
            "    accuracy                           0.54       178\n",
            "   macro avg       0.54      0.56      0.55       178\n",
            "weighted avg       0.53      0.54      0.54       178\n",
            "\n",
            "hidden_layer_size: 27,regularize_activation: 0.1,regularize_entropy: 0.1,regularize_ridge: 0.1\n",
            "KAN RESULTS\n"
          ]
        },
        {
          "output_type": "stream",
          "name": "stderr",
          "text": [
            "100%|██████████| 100/100 [00:01<00:00, 79.28it/s]\n"
          ]
        },
        {
          "output_type": "stream",
          "name": "stdout",
          "text": [
            "Accuracy Score: 0.47191011235955055\n",
            "Confusion Matrix: \n",
            "[[56  2  1]\n",
            " [25 25 21]\n",
            " [28 17  3]]\n",
            "Classification Report: \n",
            "              precision    recall  f1-score   support\n",
            "\n",
            "         1.0       0.51      0.95      0.67        59\n",
            "         2.0       0.57      0.35      0.43        71\n",
            "         3.0       0.12      0.06      0.08        48\n",
            "\n",
            "    accuracy                           0.47       178\n",
            "   macro avg       0.40      0.45      0.39       178\n",
            "weighted avg       0.43      0.47      0.42       178\n",
            "\n",
            "hidden_layer_size: 27,regularize_activation: 0.1,regularize_entropy: 0.1,regularize_ridge: 0.3\n",
            "KAN RESULTS\n"
          ]
        },
        {
          "output_type": "stream",
          "name": "stderr",
          "text": [
            "100%|██████████| 100/100 [00:01<00:00, 78.80it/s]\n"
          ]
        },
        {
          "output_type": "stream",
          "name": "stdout",
          "text": [
            "Accuracy Score: 0.550561797752809\n",
            "Confusion Matrix: \n",
            "[[16 41  2]\n",
            " [13 40 18]\n",
            " [ 2  4 42]]\n",
            "Classification Report: \n",
            "              precision    recall  f1-score   support\n",
            "\n",
            "         1.0       0.52      0.27      0.36        59\n",
            "         2.0       0.47      0.56      0.51        71\n",
            "         3.0       0.68      0.88      0.76        48\n",
            "\n",
            "    accuracy                           0.55       178\n",
            "   macro avg       0.55      0.57      0.54       178\n",
            "weighted avg       0.54      0.55      0.53       178\n",
            "\n",
            "hidden_layer_size: 27,regularize_activation: 0.1,regularize_entropy: 0.1,regularize_ridge: 0.5\n",
            "KAN RESULTS\n"
          ]
        },
        {
          "output_type": "stream",
          "name": "stderr",
          "text": [
            "100%|██████████| 100/100 [00:01<00:00, 64.45it/s]\n"
          ]
        },
        {
          "output_type": "stream",
          "name": "stdout",
          "text": [
            "Accuracy Score: 0.6629213483146067\n",
            "Confusion Matrix: \n",
            "[[56  0  3]\n",
            " [28 28 15]\n",
            " [ 1 13 34]]\n",
            "Classification Report: \n",
            "              precision    recall  f1-score   support\n",
            "\n",
            "         1.0       0.66      0.95      0.78        59\n",
            "         2.0       0.68      0.39      0.50        71\n",
            "         3.0       0.65      0.71      0.68        48\n",
            "\n",
            "    accuracy                           0.66       178\n",
            "   macro avg       0.67      0.68      0.65       178\n",
            "weighted avg       0.67      0.66      0.64       178\n",
            "\n",
            "hidden_layer_size: 27,regularize_activation: 0.1,regularize_entropy: 0.1,regularize_ridge: 0.7\n",
            "KAN RESULTS\n"
          ]
        },
        {
          "output_type": "stream",
          "name": "stderr",
          "text": [
            "100%|██████████| 100/100 [00:02<00:00, 49.32it/s]\n"
          ]
        },
        {
          "output_type": "stream",
          "name": "stdout",
          "text": [
            "Accuracy Score: 0.24157303370786518\n",
            "Confusion Matrix: \n",
            "[[ 2 32 25]\n",
            " [27 20 24]\n",
            " [27  0 21]]\n",
            "Classification Report: \n",
            "              precision    recall  f1-score   support\n",
            "\n",
            "         1.0       0.04      0.03      0.03        59\n",
            "         2.0       0.38      0.28      0.33        71\n",
            "         3.0       0.30      0.44      0.36        48\n",
            "\n",
            "    accuracy                           0.24       178\n",
            "   macro avg       0.24      0.25      0.24       178\n",
            "weighted avg       0.25      0.24      0.24       178\n",
            "\n",
            "hidden_layer_size: 27,regularize_activation: 0.1,regularize_entropy: 0.3,regularize_ridge: 0.1\n",
            "KAN RESULTS\n"
          ]
        },
        {
          "output_type": "stream",
          "name": "stderr",
          "text": [
            "100%|██████████| 100/100 [00:01<00:00, 57.93it/s]\n"
          ]
        },
        {
          "output_type": "stream",
          "name": "stdout",
          "text": [
            "Accuracy Score: 0.5561797752808989\n",
            "Confusion Matrix: \n",
            "[[24 11 24]\n",
            " [ 4 55 12]\n",
            " [14 14 20]]\n",
            "Classification Report: \n",
            "              precision    recall  f1-score   support\n",
            "\n",
            "         1.0       0.57      0.41      0.48        59\n",
            "         2.0       0.69      0.77      0.73        71\n",
            "         3.0       0.36      0.42      0.38        48\n",
            "\n",
            "    accuracy                           0.56       178\n",
            "   macro avg       0.54      0.53      0.53       178\n",
            "weighted avg       0.56      0.56      0.55       178\n",
            "\n",
            "hidden_layer_size: 27,regularize_activation: 0.1,regularize_entropy: 0.3,regularize_ridge: 0.3\n",
            "KAN RESULTS\n"
          ]
        },
        {
          "output_type": "stream",
          "name": "stderr",
          "text": [
            " 56%|█████▌    | 56/100 [00:00<00:00, 73.90it/s]\n"
          ]
        },
        {
          "output_type": "stream",
          "name": "stdout",
          "text": [
            "\tEarly stopping\n",
            "Accuracy Score: 0.5730337078651685\n",
            "Confusion Matrix: \n",
            "[[29 28  2]\n",
            " [10 28 33]\n",
            " [ 0  3 45]]\n",
            "Classification Report: \n",
            "              precision    recall  f1-score   support\n",
            "\n",
            "         1.0       0.74      0.49      0.59        59\n",
            "         2.0       0.47      0.39      0.43        71\n",
            "         3.0       0.56      0.94      0.70        48\n",
            "\n",
            "    accuracy                           0.57       178\n",
            "   macro avg       0.59      0.61      0.58       178\n",
            "weighted avg       0.59      0.57      0.56       178\n",
            "\n",
            "hidden_layer_size: 27,regularize_activation: 0.1,regularize_entropy: 0.3,regularize_ridge: 0.5\n",
            "KAN RESULTS\n"
          ]
        },
        {
          "output_type": "stream",
          "name": "stderr",
          "text": [
            "100%|██████████| 100/100 [00:01<00:00, 77.10it/s]\n"
          ]
        },
        {
          "output_type": "stream",
          "name": "stdout",
          "text": [
            "Accuracy Score: 0.3202247191011236\n",
            "Confusion Matrix: \n",
            "[[ 2  3 54]\n",
            " [24 32 15]\n",
            " [20  5 23]]\n",
            "Classification Report: \n",
            "              precision    recall  f1-score   support\n",
            "\n",
            "         1.0       0.04      0.03      0.04        59\n",
            "         2.0       0.80      0.45      0.58        71\n",
            "         3.0       0.25      0.48      0.33        48\n",
            "\n",
            "    accuracy                           0.32       178\n",
            "   macro avg       0.36      0.32      0.31       178\n",
            "weighted avg       0.40      0.32      0.33       178\n",
            "\n",
            "hidden_layer_size: 27,regularize_activation: 0.1,regularize_entropy: 0.3,regularize_ridge: 0.7\n",
            "KAN RESULTS\n"
          ]
        },
        {
          "output_type": "stream",
          "name": "stderr",
          "text": [
            "100%|██████████| 100/100 [00:01<00:00, 78.80it/s]\n"
          ]
        },
        {
          "output_type": "stream",
          "name": "stdout",
          "text": [
            "Accuracy Score: 0.5955056179775281\n",
            "Confusion Matrix: \n",
            "[[41  6 12]\n",
            " [19 27 25]\n",
            " [ 8  2 38]]\n",
            "Classification Report: \n",
            "              precision    recall  f1-score   support\n",
            "\n",
            "         1.0       0.60      0.69      0.65        59\n",
            "         2.0       0.77      0.38      0.51        71\n",
            "         3.0       0.51      0.79      0.62        48\n",
            "\n",
            "    accuracy                           0.60       178\n",
            "   macro avg       0.63      0.62      0.59       178\n",
            "weighted avg       0.64      0.60      0.58       178\n",
            "\n",
            "hidden_layer_size: 27,regularize_activation: 0.1,regularize_entropy: 0.5,regularize_ridge: 0.1\n",
            "KAN RESULTS\n"
          ]
        },
        {
          "output_type": "stream",
          "name": "stderr",
          "text": [
            "100%|██████████| 100/100 [00:01<00:00, 78.44it/s]\n"
          ]
        },
        {
          "output_type": "stream",
          "name": "stdout",
          "text": [
            "Accuracy Score: 0.33146067415730335\n",
            "Confusion Matrix: \n",
            "[[ 6 47  6]\n",
            " [15 49  7]\n",
            " [43  1  4]]\n",
            "Classification Report: \n",
            "              precision    recall  f1-score   support\n",
            "\n",
            "         1.0       0.09      0.10      0.10        59\n",
            "         2.0       0.51      0.69      0.58        71\n",
            "         3.0       0.24      0.08      0.12        48\n",
            "\n",
            "    accuracy                           0.33       178\n",
            "   macro avg       0.28      0.29      0.27       178\n",
            "weighted avg       0.30      0.33      0.30       178\n",
            "\n",
            "hidden_layer_size: 27,regularize_activation: 0.1,regularize_entropy: 0.5,regularize_ridge: 0.3\n",
            "KAN RESULTS\n"
          ]
        },
        {
          "output_type": "stream",
          "name": "stderr",
          "text": [
            "100%|██████████| 100/100 [00:01<00:00, 79.47it/s]\n"
          ]
        },
        {
          "output_type": "stream",
          "name": "stdout",
          "text": [
            "Accuracy Score: 0.5898876404494382\n",
            "Confusion Matrix: \n",
            "[[47  0 12]\n",
            " [33 22 16]\n",
            " [ 6  6 36]]\n",
            "Classification Report: \n",
            "              precision    recall  f1-score   support\n",
            "\n",
            "         1.0       0.55      0.80      0.65        59\n",
            "         2.0       0.79      0.31      0.44        71\n",
            "         3.0       0.56      0.75      0.64        48\n",
            "\n",
            "    accuracy                           0.59       178\n",
            "   macro avg       0.63      0.62      0.58       178\n",
            "weighted avg       0.65      0.59      0.57       178\n",
            "\n",
            "hidden_layer_size: 27,regularize_activation: 0.1,regularize_entropy: 0.5,regularize_ridge: 0.5\n",
            "KAN RESULTS\n"
          ]
        },
        {
          "output_type": "stream",
          "name": "stderr",
          "text": [
            "100%|██████████| 100/100 [00:01<00:00, 78.11it/s]\n"
          ]
        },
        {
          "output_type": "stream",
          "name": "stdout",
          "text": [
            "Accuracy Score: 0.07865168539325842\n",
            "Confusion Matrix: \n",
            "[[ 1 27 31]\n",
            " [33 13 25]\n",
            " [38 10  0]]\n",
            "Classification Report: \n",
            "              precision    recall  f1-score   support\n",
            "\n",
            "         1.0       0.01      0.02      0.02        59\n",
            "         2.0       0.26      0.18      0.21        71\n",
            "         3.0       0.00      0.00      0.00        48\n",
            "\n",
            "    accuracy                           0.08       178\n",
            "   macro avg       0.09      0.07      0.08       178\n",
            "weighted avg       0.11      0.08      0.09       178\n",
            "\n",
            "hidden_layer_size: 27,regularize_activation: 0.1,regularize_entropy: 0.5,regularize_ridge: 0.7\n",
            "KAN RESULTS\n"
          ]
        },
        {
          "output_type": "stream",
          "name": "stderr",
          "text": [
            "100%|██████████| 100/100 [00:01<00:00, 79.59it/s]\n"
          ]
        },
        {
          "output_type": "stream",
          "name": "stdout",
          "text": [
            "Accuracy Score: 0.33707865168539325\n",
            "Confusion Matrix: \n",
            "[[18 38  3]\n",
            " [42 24  5]\n",
            " [28  2 18]]\n",
            "Classification Report: \n",
            "              precision    recall  f1-score   support\n",
            "\n",
            "         1.0       0.20      0.31      0.24        59\n",
            "         2.0       0.38      0.34      0.36        71\n",
            "         3.0       0.69      0.38      0.49        48\n",
            "\n",
            "    accuracy                           0.34       178\n",
            "   macro avg       0.42      0.34      0.36       178\n",
            "weighted avg       0.40      0.34      0.35       178\n",
            "\n",
            "hidden_layer_size: 27,regularize_activation: 0.3,regularize_entropy: 0.1,regularize_ridge: 0.1\n",
            "KAN RESULTS\n"
          ]
        },
        {
          "output_type": "stream",
          "name": "stderr",
          "text": [
            "100%|██████████| 100/100 [00:01<00:00, 58.90it/s]\n"
          ]
        },
        {
          "output_type": "stream",
          "name": "stdout",
          "text": [
            "Accuracy Score: 0.3258426966292135\n",
            "Confusion Matrix: \n",
            "[[30 28  1]\n",
            " [45  8 18]\n",
            " [13 15 20]]\n",
            "Classification Report: \n",
            "              precision    recall  f1-score   support\n",
            "\n",
            "         1.0       0.34      0.51      0.41        59\n",
            "         2.0       0.16      0.11      0.13        71\n",
            "         3.0       0.51      0.42      0.46        48\n",
            "\n",
            "    accuracy                           0.33       178\n",
            "   macro avg       0.34      0.35      0.33       178\n",
            "weighted avg       0.31      0.33      0.31       178\n",
            "\n",
            "hidden_layer_size: 27,regularize_activation: 0.3,regularize_entropy: 0.1,regularize_ridge: 0.3\n",
            "KAN RESULTS\n"
          ]
        },
        {
          "output_type": "stream",
          "name": "stderr",
          "text": [
            "100%|██████████| 100/100 [00:02<00:00, 48.74it/s]\n"
          ]
        },
        {
          "output_type": "stream",
          "name": "stdout",
          "text": [
            "Accuracy Score: 0.3707865168539326\n",
            "Confusion Matrix: \n",
            "[[10 45  4]\n",
            " [16 42 13]\n",
            " [17 17 14]]\n",
            "Classification Report: \n",
            "              precision    recall  f1-score   support\n",
            "\n",
            "         1.0       0.23      0.17      0.20        59\n",
            "         2.0       0.40      0.59      0.48        71\n",
            "         3.0       0.45      0.29      0.35        48\n",
            "\n",
            "    accuracy                           0.37       178\n",
            "   macro avg       0.36      0.35      0.34       178\n",
            "weighted avg       0.36      0.37      0.35       178\n",
            "\n",
            "hidden_layer_size: 27,regularize_activation: 0.3,regularize_entropy: 0.1,regularize_ridge: 0.5\n",
            "KAN RESULTS\n"
          ]
        },
        {
          "output_type": "stream",
          "name": "stderr",
          "text": [
            "100%|██████████| 100/100 [00:01<00:00, 71.07it/s]\n"
          ]
        },
        {
          "output_type": "stream",
          "name": "stdout",
          "text": [
            "Accuracy Score: 0.3707865168539326\n",
            "Confusion Matrix: \n",
            "[[11 48  0]\n",
            " [34 26 11]\n",
            " [ 2 17 29]]\n",
            "Classification Report: \n",
            "              precision    recall  f1-score   support\n",
            "\n",
            "         1.0       0.23      0.19      0.21        59\n",
            "         2.0       0.29      0.37      0.32        71\n",
            "         3.0       0.72      0.60      0.66        48\n",
            "\n",
            "    accuracy                           0.37       178\n",
            "   macro avg       0.41      0.39      0.40       178\n",
            "weighted avg       0.39      0.37      0.37       178\n",
            "\n",
            "hidden_layer_size: 27,regularize_activation: 0.3,regularize_entropy: 0.1,regularize_ridge: 0.7\n",
            "KAN RESULTS\n"
          ]
        },
        {
          "output_type": "stream",
          "name": "stderr",
          "text": [
            " 62%|██████▏   | 62/100 [00:00<00:00, 78.31it/s]\n"
          ]
        },
        {
          "output_type": "stream",
          "name": "stdout",
          "text": [
            "\tEarly stopping\n",
            "Accuracy Score: 0.24719101123595505\n",
            "Confusion Matrix: \n",
            "[[13 34 12]\n",
            " [35 24 12]\n",
            " [39  2  7]]\n",
            "Classification Report: \n",
            "              precision    recall  f1-score   support\n",
            "\n",
            "         1.0       0.15      0.22      0.18        59\n",
            "         2.0       0.40      0.34      0.37        71\n",
            "         3.0       0.23      0.15      0.18        48\n",
            "\n",
            "    accuracy                           0.25       178\n",
            "   macro avg       0.26      0.23      0.24       178\n",
            "weighted avg       0.27      0.25      0.25       178\n",
            "\n",
            "hidden_layer_size: 27,regularize_activation: 0.3,regularize_entropy: 0.3,regularize_ridge: 0.1\n",
            "KAN RESULTS\n"
          ]
        },
        {
          "output_type": "stream",
          "name": "stderr",
          "text": [
            "100%|██████████| 100/100 [00:01<00:00, 76.57it/s]\n"
          ]
        },
        {
          "output_type": "stream",
          "name": "stdout",
          "text": [
            "Accuracy Score: 0.33707865168539325\n",
            "Confusion Matrix: \n",
            "[[30 28  1]\n",
            " [28 29 14]\n",
            " [47  0  1]]\n",
            "Classification Report: \n",
            "              precision    recall  f1-score   support\n",
            "\n",
            "         1.0       0.29      0.51      0.37        59\n",
            "         2.0       0.51      0.41      0.45        71\n",
            "         3.0       0.06      0.02      0.03        48\n",
            "\n",
            "    accuracy                           0.34       178\n",
            "   macro avg       0.29      0.31      0.28       178\n",
            "weighted avg       0.31      0.34      0.31       178\n",
            "\n",
            "hidden_layer_size: 27,regularize_activation: 0.3,regularize_entropy: 0.3,regularize_ridge: 0.3\n",
            "KAN RESULTS\n"
          ]
        },
        {
          "output_type": "stream",
          "name": "stderr",
          "text": [
            "100%|██████████| 100/100 [00:01<00:00, 77.88it/s]\n"
          ]
        },
        {
          "output_type": "stream",
          "name": "stdout",
          "text": [
            "Accuracy Score: 0.43258426966292135\n",
            "Confusion Matrix: \n",
            "[[21 36  2]\n",
            " [20 33 18]\n",
            " [ 4 21 23]]\n",
            "Classification Report: \n",
            "              precision    recall  f1-score   support\n",
            "\n",
            "         1.0       0.47      0.36      0.40        59\n",
            "         2.0       0.37      0.46      0.41        71\n",
            "         3.0       0.53      0.48      0.51        48\n",
            "\n",
            "    accuracy                           0.43       178\n",
            "   macro avg       0.46      0.43      0.44       178\n",
            "weighted avg       0.45      0.43      0.43       178\n",
            "\n",
            "hidden_layer_size: 27,regularize_activation: 0.3,regularize_entropy: 0.3,regularize_ridge: 0.5\n",
            "KAN RESULTS\n"
          ]
        },
        {
          "output_type": "stream",
          "name": "stderr",
          "text": [
            " 50%|█████     | 50/100 [00:00<00:00, 77.15it/s]\n"
          ]
        },
        {
          "output_type": "stream",
          "name": "stdout",
          "text": [
            "\tEarly stopping\n",
            "Accuracy Score: 0.34269662921348315\n",
            "Confusion Matrix: \n",
            "[[35 21  3]\n",
            " [20 17 34]\n",
            " [ 0 39  9]]\n",
            "Classification Report: \n",
            "              precision    recall  f1-score   support\n",
            "\n",
            "         1.0       0.64      0.59      0.61        59\n",
            "         2.0       0.22      0.24      0.23        71\n",
            "         3.0       0.20      0.19      0.19        48\n",
            "\n",
            "    accuracy                           0.34       178\n",
            "   macro avg       0.35      0.34      0.35       178\n",
            "weighted avg       0.35      0.34      0.35       178\n",
            "\n",
            "hidden_layer_size: 27,regularize_activation: 0.3,regularize_entropy: 0.3,regularize_ridge: 0.7\n",
            "KAN RESULTS\n"
          ]
        },
        {
          "output_type": "stream",
          "name": "stderr",
          "text": [
            "100%|██████████| 100/100 [00:01<00:00, 76.07it/s]\n"
          ]
        },
        {
          "output_type": "stream",
          "name": "stdout",
          "text": [
            "Accuracy Score: 0.5280898876404494\n",
            "Confusion Matrix: \n",
            "[[21  3 35]\n",
            " [ 9 50 12]\n",
            " [23  2 23]]\n",
            "Classification Report: \n",
            "              precision    recall  f1-score   support\n",
            "\n",
            "         1.0       0.40      0.36      0.38        59\n",
            "         2.0       0.91      0.70      0.79        71\n",
            "         3.0       0.33      0.48      0.39        48\n",
            "\n",
            "    accuracy                           0.53       178\n",
            "   macro avg       0.54      0.51      0.52       178\n",
            "weighted avg       0.58      0.53      0.55       178\n",
            "\n",
            "hidden_layer_size: 27,regularize_activation: 0.3,regularize_entropy: 0.5,regularize_ridge: 0.1\n",
            "KAN RESULTS\n"
          ]
        },
        {
          "output_type": "stream",
          "name": "stderr",
          "text": [
            "100%|██████████| 100/100 [00:01<00:00, 77.40it/s]\n"
          ]
        },
        {
          "output_type": "stream",
          "name": "stdout",
          "text": [
            "Accuracy Score: 0.2247191011235955\n",
            "Confusion Matrix: \n",
            "[[ 2 38 19]\n",
            " [27 24 20]\n",
            " [12 22 14]]\n",
            "Classification Report: \n",
            "              precision    recall  f1-score   support\n",
            "\n",
            "         1.0       0.05      0.03      0.04        59\n",
            "         2.0       0.29      0.34      0.31        71\n",
            "         3.0       0.26      0.29      0.28        48\n",
            "\n",
            "    accuracy                           0.22       178\n",
            "   macro avg       0.20      0.22      0.21       178\n",
            "weighted avg       0.20      0.22      0.21       178\n",
            "\n",
            "hidden_layer_size: 27,regularize_activation: 0.3,regularize_entropy: 0.5,regularize_ridge: 0.3\n",
            "KAN RESULTS\n"
          ]
        },
        {
          "output_type": "stream",
          "name": "stderr",
          "text": [
            "100%|██████████| 100/100 [00:01<00:00, 74.27it/s]\n"
          ]
        },
        {
          "output_type": "stream",
          "name": "stdout",
          "text": [
            "Accuracy Score: 0.6123595505617978\n",
            "Confusion Matrix: \n",
            "[[53  1  5]\n",
            " [32 30  9]\n",
            " [13  9 26]]\n",
            "Classification Report: \n",
            "              precision    recall  f1-score   support\n",
            "\n",
            "         1.0       0.54      0.90      0.68        59\n",
            "         2.0       0.75      0.42      0.54        71\n",
            "         3.0       0.65      0.54      0.59        48\n",
            "\n",
            "    accuracy                           0.61       178\n",
            "   macro avg       0.65      0.62      0.60       178\n",
            "weighted avg       0.65      0.61      0.60       178\n",
            "\n",
            "hidden_layer_size: 27,regularize_activation: 0.3,regularize_entropy: 0.5,regularize_ridge: 0.5\n",
            "KAN RESULTS\n"
          ]
        },
        {
          "output_type": "stream",
          "name": "stderr",
          "text": [
            "100%|██████████| 100/100 [00:01<00:00, 60.60it/s]\n"
          ]
        },
        {
          "output_type": "stream",
          "name": "stdout",
          "text": [
            "Accuracy Score: 0.3202247191011236\n",
            "Confusion Matrix: \n",
            "[[44  8  7]\n",
            " [46  2 23]\n",
            " [ 2 35 11]]\n",
            "Classification Report: \n",
            "              precision    recall  f1-score   support\n",
            "\n",
            "         1.0       0.48      0.75      0.58        59\n",
            "         2.0       0.04      0.03      0.03        71\n",
            "         3.0       0.27      0.23      0.25        48\n",
            "\n",
            "    accuracy                           0.32       178\n",
            "   macro avg       0.26      0.33      0.29       178\n",
            "weighted avg       0.25      0.32      0.27       178\n",
            "\n",
            "hidden_layer_size: 27,regularize_activation: 0.3,regularize_entropy: 0.5,regularize_ridge: 0.7\n",
            "KAN RESULTS\n"
          ]
        },
        {
          "output_type": "stream",
          "name": "stderr",
          "text": [
            " 49%|████▉     | 49/100 [00:00<00:00, 51.93it/s]\n"
          ]
        },
        {
          "output_type": "stream",
          "name": "stdout",
          "text": [
            "\tEarly stopping\n",
            "Accuracy Score: 0.3202247191011236\n",
            "Confusion Matrix: \n",
            "[[34 24  1]\n",
            " [39 18 14]\n",
            " [ 4 39  5]]\n",
            "Classification Report: \n",
            "              precision    recall  f1-score   support\n",
            "\n",
            "         1.0       0.44      0.58      0.50        59\n",
            "         2.0       0.22      0.25      0.24        71\n",
            "         3.0       0.25      0.10      0.15        48\n",
            "\n",
            "    accuracy                           0.32       178\n",
            "   macro avg       0.30      0.31      0.29       178\n",
            "weighted avg       0.30      0.32      0.30       178\n",
            "\n",
            "hidden_layer_size: 27,regularize_activation: 0.5,regularize_entropy: 0.1,regularize_ridge: 0.1\n",
            "KAN RESULTS\n"
          ]
        },
        {
          "output_type": "stream",
          "name": "stderr",
          "text": [
            "100%|██████████| 100/100 [00:01<00:00, 54.42it/s]\n"
          ]
        },
        {
          "output_type": "stream",
          "name": "stdout",
          "text": [
            "Accuracy Score: 0.3202247191011236\n",
            "Confusion Matrix: \n",
            "[[ 0 59  0]\n",
            " [28 29 14]\n",
            " [20  0 28]]\n",
            "Classification Report: \n",
            "              precision    recall  f1-score   support\n",
            "\n",
            "         1.0       0.00      0.00      0.00        59\n",
            "         2.0       0.33      0.41      0.36        71\n",
            "         3.0       0.67      0.58      0.62        48\n",
            "\n",
            "    accuracy                           0.32       178\n",
            "   macro avg       0.33      0.33      0.33       178\n",
            "weighted avg       0.31      0.32      0.31       178\n",
            "\n",
            "hidden_layer_size: 27,regularize_activation: 0.5,regularize_entropy: 0.1,regularize_ridge: 0.3\n",
            "KAN RESULTS\n"
          ]
        },
        {
          "output_type": "stream",
          "name": "stderr",
          "text": [
            "100%|██████████| 100/100 [00:01<00:00, 78.37it/s]\n"
          ]
        },
        {
          "output_type": "stream",
          "name": "stdout",
          "text": [
            "Accuracy Score: 0.21910112359550563\n",
            "Confusion Matrix: \n",
            "[[18  2 39]\n",
            " [32 20 19]\n",
            " [36 11  1]]\n",
            "Classification Report: \n",
            "              precision    recall  f1-score   support\n",
            "\n",
            "         1.0       0.21      0.31      0.25        59\n",
            "         2.0       0.61      0.28      0.38        71\n",
            "         3.0       0.02      0.02      0.02        48\n",
            "\n",
            "    accuracy                           0.22       178\n",
            "   macro avg       0.28      0.20      0.22       178\n",
            "weighted avg       0.32      0.22      0.24       178\n",
            "\n",
            "hidden_layer_size: 27,regularize_activation: 0.5,regularize_entropy: 0.1,regularize_ridge: 0.5\n",
            "KAN RESULTS\n"
          ]
        },
        {
          "output_type": "stream",
          "name": "stderr",
          "text": [
            "100%|██████████| 100/100 [00:01<00:00, 77.51it/s]\n"
          ]
        },
        {
          "output_type": "stream",
          "name": "stdout",
          "text": [
            "Accuracy Score: 0.7808988764044944\n",
            "Confusion Matrix: \n",
            "[[55  0  4]\n",
            " [ 8 40 23]\n",
            " [ 2  2 44]]\n",
            "Classification Report: \n",
            "              precision    recall  f1-score   support\n",
            "\n",
            "         1.0       0.85      0.93      0.89        59\n",
            "         2.0       0.95      0.56      0.71        71\n",
            "         3.0       0.62      0.92      0.74        48\n",
            "\n",
            "    accuracy                           0.78       178\n",
            "   macro avg       0.81      0.80      0.78       178\n",
            "weighted avg       0.83      0.78      0.78       178\n",
            "\n",
            "hidden_layer_size: 27,regularize_activation: 0.5,regularize_entropy: 0.1,regularize_ridge: 0.7\n",
            "KAN RESULTS\n"
          ]
        },
        {
          "output_type": "stream",
          "name": "stderr",
          "text": [
            "100%|██████████| 100/100 [00:01<00:00, 74.22it/s]\n"
          ]
        },
        {
          "output_type": "stream",
          "name": "stdout",
          "text": [
            "Accuracy Score: 0.5786516853932584\n",
            "Confusion Matrix: \n",
            "[[35  9 15]\n",
            " [ 5 37 29]\n",
            " [14  3 31]]\n",
            "Classification Report: \n",
            "              precision    recall  f1-score   support\n",
            "\n",
            "         1.0       0.65      0.59      0.62        59\n",
            "         2.0       0.76      0.52      0.62        71\n",
            "         3.0       0.41      0.65      0.50        48\n",
            "\n",
            "    accuracy                           0.58       178\n",
            "   macro avg       0.61      0.59      0.58       178\n",
            "weighted avg       0.63      0.58      0.59       178\n",
            "\n",
            "hidden_layer_size: 27,regularize_activation: 0.5,regularize_entropy: 0.3,regularize_ridge: 0.1\n",
            "KAN RESULTS\n"
          ]
        },
        {
          "output_type": "stream",
          "name": "stderr",
          "text": [
            " 64%|██████▍   | 64/100 [00:00<00:00, 76.00it/s]\n"
          ]
        },
        {
          "output_type": "stream",
          "name": "stdout",
          "text": [
            "\tEarly stopping\n",
            "Accuracy Score: 0.601123595505618\n",
            "Confusion Matrix: \n",
            "[[26 12 21]\n",
            " [14 46 11]\n",
            " [ 1 12 35]]\n",
            "Classification Report: \n",
            "              precision    recall  f1-score   support\n",
            "\n",
            "         1.0       0.63      0.44      0.52        59\n",
            "         2.0       0.66      0.65      0.65        71\n",
            "         3.0       0.52      0.73      0.61        48\n",
            "\n",
            "    accuracy                           0.60       178\n",
            "   macro avg       0.60      0.61      0.59       178\n",
            "weighted avg       0.61      0.60      0.60       178\n",
            "\n",
            "hidden_layer_size: 27,regularize_activation: 0.5,regularize_entropy: 0.3,regularize_ridge: 0.3\n",
            "KAN RESULTS\n"
          ]
        },
        {
          "output_type": "stream",
          "name": "stderr",
          "text": [
            " 55%|█████▌    | 55/100 [00:00<00:00, 73.20it/s]\n"
          ]
        },
        {
          "output_type": "stream",
          "name": "stdout",
          "text": [
            "\tEarly stopping\n",
            "Accuracy Score: 0.16292134831460675\n",
            "Confusion Matrix: \n",
            "[[ 1 32 26]\n",
            " [22  7 42]\n",
            " [ 1 26 21]]\n",
            "Classification Report: \n",
            "              precision    recall  f1-score   support\n",
            "\n",
            "         1.0       0.04      0.02      0.02        59\n",
            "         2.0       0.11      0.10      0.10        71\n",
            "         3.0       0.24      0.44      0.31        48\n",
            "\n",
            "    accuracy                           0.16       178\n",
            "   macro avg       0.13      0.18      0.14       178\n",
            "weighted avg       0.12      0.16      0.13       178\n",
            "\n",
            "hidden_layer_size: 27,regularize_activation: 0.5,regularize_entropy: 0.3,regularize_ridge: 0.5\n",
            "KAN RESULTS\n"
          ]
        },
        {
          "output_type": "stream",
          "name": "stderr",
          "text": [
            "100%|██████████| 100/100 [00:01<00:00, 77.81it/s]\n"
          ]
        },
        {
          "output_type": "stream",
          "name": "stdout",
          "text": [
            "Accuracy Score: 0.11797752808988764\n",
            "Confusion Matrix: \n",
            "[[15  0 44]\n",
            " [25  5 41]\n",
            " [35 12  1]]\n",
            "Classification Report: \n",
            "              precision    recall  f1-score   support\n",
            "\n",
            "         1.0       0.20      0.25      0.22        59\n",
            "         2.0       0.29      0.07      0.11        71\n",
            "         3.0       0.01      0.02      0.01        48\n",
            "\n",
            "    accuracy                           0.12       178\n",
            "   macro avg       0.17      0.12      0.12       178\n",
            "weighted avg       0.19      0.12      0.12       178\n",
            "\n",
            "hidden_layer_size: 27,regularize_activation: 0.5,regularize_entropy: 0.3,regularize_ridge: 0.7\n",
            "KAN RESULTS\n"
          ]
        },
        {
          "output_type": "stream",
          "name": "stderr",
          "text": [
            " 53%|█████▎    | 53/100 [00:00<00:00, 79.10it/s]\n"
          ]
        },
        {
          "output_type": "stream",
          "name": "stdout",
          "text": [
            "\tEarly stopping\n",
            "Accuracy Score: 0.34269662921348315\n",
            "Confusion Matrix: \n",
            "[[27 17 15]\n",
            " [43 21  7]\n",
            " [ 0 35 13]]\n",
            "Classification Report: \n",
            "              precision    recall  f1-score   support\n",
            "\n",
            "         1.0       0.39      0.46      0.42        59\n",
            "         2.0       0.29      0.30      0.29        71\n",
            "         3.0       0.37      0.27      0.31        48\n",
            "\n",
            "    accuracy                           0.34       178\n",
            "   macro avg       0.35      0.34      0.34       178\n",
            "weighted avg       0.34      0.34      0.34       178\n",
            "\n",
            "hidden_layer_size: 27,regularize_activation: 0.5,regularize_entropy: 0.5,regularize_ridge: 0.1\n",
            "KAN RESULTS\n"
          ]
        },
        {
          "output_type": "stream",
          "name": "stderr",
          "text": [
            "100%|██████████| 100/100 [00:01<00:00, 75.39it/s]\n"
          ]
        },
        {
          "output_type": "stream",
          "name": "stdout",
          "text": [
            "Accuracy Score: 0.6853932584269663\n",
            "Confusion Matrix: \n",
            "[[55  1  3]\n",
            " [27 24 20]\n",
            " [ 5  0 43]]\n",
            "Classification Report: \n",
            "              precision    recall  f1-score   support\n",
            "\n",
            "         1.0       0.63      0.93      0.75        59\n",
            "         2.0       0.96      0.34      0.50        71\n",
            "         3.0       0.65      0.90      0.75        48\n",
            "\n",
            "    accuracy                           0.69       178\n",
            "   macro avg       0.75      0.72      0.67       178\n",
            "weighted avg       0.77      0.69      0.65       178\n",
            "\n",
            "hidden_layer_size: 27,regularize_activation: 0.5,regularize_entropy: 0.5,regularize_ridge: 0.3\n",
            "KAN RESULTS\n"
          ]
        },
        {
          "output_type": "stream",
          "name": "stderr",
          "text": [
            " 57%|█████▋    | 57/100 [00:00<00:00, 61.12it/s]\n"
          ]
        },
        {
          "output_type": "stream",
          "name": "stdout",
          "text": [
            "\tEarly stopping\n",
            "Accuracy Score: 0.12359550561797752\n",
            "Confusion Matrix: \n",
            "[[ 0 49 10]\n",
            " [14 19 38]\n",
            " [36  9  3]]\n",
            "Classification Report: \n",
            "              precision    recall  f1-score   support\n",
            "\n",
            "         1.0       0.00      0.00      0.00        59\n",
            "         2.0       0.25      0.27      0.26        71\n",
            "         3.0       0.06      0.06      0.06        48\n",
            "\n",
            "    accuracy                           0.12       178\n",
            "   macro avg       0.10      0.11      0.11       178\n",
            "weighted avg       0.11      0.12      0.12       178\n",
            "\n",
            "hidden_layer_size: 27,regularize_activation: 0.5,regularize_entropy: 0.5,regularize_ridge: 0.5\n",
            "KAN RESULTS\n"
          ]
        },
        {
          "output_type": "stream",
          "name": "stderr",
          "text": [
            "100%|██████████| 100/100 [00:01<00:00, 51.18it/s]\n"
          ]
        },
        {
          "output_type": "stream",
          "name": "stdout",
          "text": [
            "Accuracy Score: 0.7191011235955056\n",
            "Confusion Matrix: \n",
            "[[53  1  5]\n",
            " [23 38 10]\n",
            " [ 6  5 37]]\n",
            "Classification Report: \n",
            "              precision    recall  f1-score   support\n",
            "\n",
            "         1.0       0.65      0.90      0.75        59\n",
            "         2.0       0.86      0.54      0.66        71\n",
            "         3.0       0.71      0.77      0.74        48\n",
            "\n",
            "    accuracy                           0.72       178\n",
            "   macro avg       0.74      0.73      0.72       178\n",
            "weighted avg       0.75      0.72      0.71       178\n",
            "\n",
            "hidden_layer_size: 27,regularize_activation: 0.5,regularize_entropy: 0.5,regularize_ridge: 0.7\n",
            "KAN RESULTS\n"
          ]
        },
        {
          "output_type": "stream",
          "name": "stderr",
          "text": [
            " 67%|██████▋   | 67/100 [00:02<00:01, 28.64it/s]\n"
          ]
        },
        {
          "output_type": "stream",
          "name": "stdout",
          "text": [
            "\tEarly stopping\n",
            "Accuracy Score: 0.42134831460674155\n",
            "Confusion Matrix: \n",
            "[[23 36  0]\n",
            " [35 31  5]\n",
            " [26  1 21]]\n",
            "Classification Report: \n",
            "              precision    recall  f1-score   support\n",
            "\n",
            "         1.0       0.27      0.39      0.32        59\n",
            "         2.0       0.46      0.44      0.45        71\n",
            "         3.0       0.81      0.44      0.57        48\n",
            "\n",
            "    accuracy                           0.42       178\n",
            "   macro avg       0.51      0.42      0.45       178\n",
            "weighted avg       0.49      0.42      0.44       178\n",
            "\n",
            "hidden_layer_size: 128,regularize_activation: 0.1,regularize_entropy: 0.1,regularize_ridge: 0.1\n",
            "KAN RESULTS\n"
          ]
        },
        {
          "output_type": "stream",
          "name": "stderr",
          "text": [
            "100%|██████████| 100/100 [00:02<00:00, 41.57it/s]\n"
          ]
        },
        {
          "output_type": "stream",
          "name": "stdout",
          "text": [
            "Accuracy Score: 0.7303370786516854\n",
            "Confusion Matrix: \n",
            "[[33 25  1]\n",
            " [ 3 53 15]\n",
            " [ 0  4 44]]\n",
            "Classification Report: \n",
            "              precision    recall  f1-score   support\n",
            "\n",
            "         1.0       0.92      0.56      0.69        59\n",
            "         2.0       0.65      0.75      0.69        71\n",
            "         3.0       0.73      0.92      0.81        48\n",
            "\n",
            "    accuracy                           0.73       178\n",
            "   macro avg       0.77      0.74      0.73       178\n",
            "weighted avg       0.76      0.73      0.73       178\n",
            "\n",
            "hidden_layer_size: 128,regularize_activation: 0.1,regularize_entropy: 0.1,regularize_ridge: 0.3\n",
            "KAN RESULTS\n"
          ]
        },
        {
          "output_type": "stream",
          "name": "stderr",
          "text": [
            "100%|██████████| 100/100 [00:02<00:00, 40.97it/s]\n"
          ]
        },
        {
          "output_type": "stream",
          "name": "stdout",
          "text": [
            "Accuracy Score: 0.5786516853932584\n",
            "Confusion Matrix: \n",
            "[[56  3  0]\n",
            " [21 31 19]\n",
            " [27  5 16]]\n",
            "Classification Report: \n",
            "              precision    recall  f1-score   support\n",
            "\n",
            "         1.0       0.54      0.95      0.69        59\n",
            "         2.0       0.79      0.44      0.56        71\n",
            "         3.0       0.46      0.33      0.39        48\n",
            "\n",
            "    accuracy                           0.58       178\n",
            "   macro avg       0.60      0.57      0.55       178\n",
            "weighted avg       0.62      0.58      0.56       178\n",
            "\n",
            "hidden_layer_size: 128,regularize_activation: 0.1,regularize_entropy: 0.1,regularize_ridge: 0.5\n",
            "KAN RESULTS\n"
          ]
        },
        {
          "output_type": "stream",
          "name": "stderr",
          "text": [
            " 57%|█████▋    | 57/100 [00:01<00:01, 39.92it/s]\n"
          ]
        },
        {
          "output_type": "stream",
          "name": "stdout",
          "text": [
            "\tEarly stopping\n",
            "Accuracy Score: 0.6348314606741573\n",
            "Confusion Matrix: \n",
            "[[50  1  8]\n",
            " [ 7 23 41]\n",
            " [ 0  8 40]]\n",
            "Classification Report: \n",
            "              precision    recall  f1-score   support\n",
            "\n",
            "         1.0       0.88      0.85      0.86        59\n",
            "         2.0       0.72      0.32      0.45        71\n",
            "         3.0       0.45      0.83      0.58        48\n",
            "\n",
            "    accuracy                           0.63       178\n",
            "   macro avg       0.68      0.67      0.63       178\n",
            "weighted avg       0.70      0.63      0.62       178\n",
            "\n",
            "hidden_layer_size: 128,regularize_activation: 0.1,regularize_entropy: 0.1,regularize_ridge: 0.7\n",
            "KAN RESULTS\n"
          ]
        },
        {
          "output_type": "stream",
          "name": "stderr",
          "text": [
            "100%|██████████| 100/100 [00:02<00:00, 40.49it/s]\n"
          ]
        },
        {
          "output_type": "stream",
          "name": "stdout",
          "text": [
            "Accuracy Score: 0.6966292134831461\n",
            "Confusion Matrix: \n",
            "[[58  0  1]\n",
            " [13 24 34]\n",
            " [ 4  2 42]]\n",
            "Classification Report: \n",
            "              precision    recall  f1-score   support\n",
            "\n",
            "         1.0       0.77      0.98      0.87        59\n",
            "         2.0       0.92      0.34      0.49        71\n",
            "         3.0       0.55      0.88      0.67        48\n",
            "\n",
            "    accuracy                           0.70       178\n",
            "   macro avg       0.75      0.73      0.68       178\n",
            "weighted avg       0.77      0.70      0.67       178\n",
            "\n",
            "hidden_layer_size: 128,regularize_activation: 0.1,regularize_entropy: 0.3,regularize_ridge: 0.1\n",
            "KAN RESULTS\n"
          ]
        },
        {
          "output_type": "stream",
          "name": "stderr",
          "text": [
            "100%|██████████| 100/100 [00:03<00:00, 29.65it/s]\n"
          ]
        },
        {
          "output_type": "stream",
          "name": "stdout",
          "text": [
            "Accuracy Score: 0.6910112359550562\n",
            "Confusion Matrix: \n",
            "[[54  0  5]\n",
            " [18 40 13]\n",
            " [ 8 11 29]]\n",
            "Classification Report: \n",
            "              precision    recall  f1-score   support\n",
            "\n",
            "         1.0       0.68      0.92      0.78        59\n",
            "         2.0       0.78      0.56      0.66        71\n",
            "         3.0       0.62      0.60      0.61        48\n",
            "\n",
            "    accuracy                           0.69       178\n",
            "   macro avg       0.69      0.69      0.68       178\n",
            "weighted avg       0.70      0.69      0.68       178\n",
            "\n",
            "hidden_layer_size: 128,regularize_activation: 0.1,regularize_entropy: 0.3,regularize_ridge: 0.3\n",
            "KAN RESULTS\n"
          ]
        },
        {
          "output_type": "stream",
          "name": "stderr",
          "text": [
            " 63%|██████▎   | 63/100 [00:02<00:01, 30.05it/s]\n"
          ]
        },
        {
          "output_type": "stream",
          "name": "stdout",
          "text": [
            "\tEarly stopping\n",
            "Accuracy Score: 0.5168539325842697\n",
            "Confusion Matrix: \n",
            "[[34 24  1]\n",
            " [35 25 11]\n",
            " [ 0 15 33]]\n",
            "Classification Report: \n",
            "              precision    recall  f1-score   support\n",
            "\n",
            "         1.0       0.49      0.58      0.53        59\n",
            "         2.0       0.39      0.35      0.37        71\n",
            "         3.0       0.73      0.69      0.71        48\n",
            "\n",
            "    accuracy                           0.52       178\n",
            "   macro avg       0.54      0.54      0.54       178\n",
            "weighted avg       0.52      0.52      0.52       178\n",
            "\n",
            "hidden_layer_size: 128,regularize_activation: 0.1,regularize_entropy: 0.3,regularize_ridge: 0.5\n",
            "KAN RESULTS\n"
          ]
        },
        {
          "output_type": "stream",
          "name": "stderr",
          "text": [
            "100%|██████████| 100/100 [00:02<00:00, 41.92it/s]\n"
          ]
        },
        {
          "output_type": "stream",
          "name": "stdout",
          "text": [
            "Accuracy Score: 0.8314606741573034\n",
            "Confusion Matrix: \n",
            "[[56  1  2]\n",
            " [13 47 11]\n",
            " [ 2  1 45]]\n",
            "Classification Report: \n",
            "              precision    recall  f1-score   support\n",
            "\n",
            "         1.0       0.79      0.95      0.86        59\n",
            "         2.0       0.96      0.66      0.78        71\n",
            "         3.0       0.78      0.94      0.85        48\n",
            "\n",
            "    accuracy                           0.83       178\n",
            "   macro avg       0.84      0.85      0.83       178\n",
            "weighted avg       0.85      0.83      0.83       178\n",
            "\n",
            "hidden_layer_size: 128,regularize_activation: 0.1,regularize_entropy: 0.3,regularize_ridge: 0.7\n",
            "KAN RESULTS\n"
          ]
        },
        {
          "output_type": "stream",
          "name": "stderr",
          "text": [
            "100%|██████████| 100/100 [00:02<00:00, 39.02it/s]\n"
          ]
        },
        {
          "output_type": "stream",
          "name": "stdout",
          "text": [
            "Accuracy Score: 0.6629213483146067\n",
            "Confusion Matrix: \n",
            "[[28 13 18]\n",
            " [13 48 10]\n",
            " [ 4  2 42]]\n",
            "Classification Report: \n",
            "              precision    recall  f1-score   support\n",
            "\n",
            "         1.0       0.62      0.47      0.54        59\n",
            "         2.0       0.76      0.68      0.72        71\n",
            "         3.0       0.60      0.88      0.71        48\n",
            "\n",
            "    accuracy                           0.66       178\n",
            "   macro avg       0.66      0.68      0.66       178\n",
            "weighted avg       0.67      0.66      0.66       178\n",
            "\n",
            "hidden_layer_size: 128,regularize_activation: 0.1,regularize_entropy: 0.5,regularize_ridge: 0.1\n",
            "KAN RESULTS\n"
          ]
        },
        {
          "output_type": "stream",
          "name": "stderr",
          "text": [
            "100%|██████████| 100/100 [00:03<00:00, 26.64it/s]\n"
          ]
        },
        {
          "output_type": "stream",
          "name": "stdout",
          "text": [
            "Accuracy Score: 0.702247191011236\n",
            "Confusion Matrix: \n",
            "[[53  1  5]\n",
            " [27 28 16]\n",
            " [ 2  2 44]]\n",
            "Classification Report: \n",
            "              precision    recall  f1-score   support\n",
            "\n",
            "         1.0       0.65      0.90      0.75        59\n",
            "         2.0       0.90      0.39      0.55        71\n",
            "         3.0       0.68      0.92      0.78        48\n",
            "\n",
            "    accuracy                           0.70       178\n",
            "   macro avg       0.74      0.74      0.69       178\n",
            "weighted avg       0.76      0.70      0.68       178\n",
            "\n",
            "hidden_layer_size: 128,regularize_activation: 0.1,regularize_entropy: 0.5,regularize_ridge: 0.3\n",
            "KAN RESULTS\n"
          ]
        },
        {
          "output_type": "stream",
          "name": "stderr",
          "text": [
            "100%|██████████| 100/100 [00:03<00:00, 29.85it/s]\n"
          ]
        },
        {
          "output_type": "stream",
          "name": "stdout",
          "text": [
            "Accuracy Score: 0.7471910112359551\n",
            "Confusion Matrix: \n",
            "[[51  8  0]\n",
            " [ 7 56  8]\n",
            " [ 9 13 26]]\n",
            "Classification Report: \n",
            "              precision    recall  f1-score   support\n",
            "\n",
            "         1.0       0.76      0.86      0.81        59\n",
            "         2.0       0.73      0.79      0.76        71\n",
            "         3.0       0.76      0.54      0.63        48\n",
            "\n",
            "    accuracy                           0.75       178\n",
            "   macro avg       0.75      0.73      0.73       178\n",
            "weighted avg       0.75      0.75      0.74       178\n",
            "\n",
            "hidden_layer_size: 128,regularize_activation: 0.1,regularize_entropy: 0.5,regularize_ridge: 0.5\n",
            "KAN RESULTS\n"
          ]
        },
        {
          "output_type": "stream",
          "name": "stderr",
          "text": [
            "100%|██████████| 100/100 [00:02<00:00, 35.01it/s]\n"
          ]
        },
        {
          "output_type": "stream",
          "name": "stdout",
          "text": [
            "Accuracy Score: 0.7471910112359551\n",
            "Confusion Matrix: \n",
            "[[59  0  0]\n",
            " [29 34  8]\n",
            " [ 3  5 40]]\n",
            "Classification Report: \n",
            "              precision    recall  f1-score   support\n",
            "\n",
            "         1.0       0.65      1.00      0.79        59\n",
            "         2.0       0.87      0.48      0.62        71\n",
            "         3.0       0.83      0.83      0.83        48\n",
            "\n",
            "    accuracy                           0.75       178\n",
            "   macro avg       0.78      0.77      0.75       178\n",
            "weighted avg       0.79      0.75      0.73       178\n",
            "\n",
            "hidden_layer_size: 128,regularize_activation: 0.1,regularize_entropy: 0.5,regularize_ridge: 0.7\n",
            "KAN RESULTS\n"
          ]
        },
        {
          "output_type": "stream",
          "name": "stderr",
          "text": [
            "100%|██████████| 100/100 [00:02<00:00, 41.25it/s]\n"
          ]
        },
        {
          "output_type": "stream",
          "name": "stdout",
          "text": [
            "Accuracy Score: 0.5449438202247191\n",
            "Confusion Matrix: \n",
            "[[47  4  8]\n",
            " [15 34 22]\n",
            " [ 4 28 16]]\n",
            "Classification Report: \n",
            "              precision    recall  f1-score   support\n",
            "\n",
            "         1.0       0.71      0.80      0.75        59\n",
            "         2.0       0.52      0.48      0.50        71\n",
            "         3.0       0.35      0.33      0.34        48\n",
            "\n",
            "    accuracy                           0.54       178\n",
            "   macro avg       0.53      0.54      0.53       178\n",
            "weighted avg       0.54      0.54      0.54       178\n",
            "\n",
            "hidden_layer_size: 128,regularize_activation: 0.3,regularize_entropy: 0.1,regularize_ridge: 0.1\n",
            "KAN RESULTS\n"
          ]
        },
        {
          "output_type": "stream",
          "name": "stderr",
          "text": [
            "100%|██████████| 100/100 [00:02<00:00, 40.73it/s]\n"
          ]
        },
        {
          "output_type": "stream",
          "name": "stdout",
          "text": [
            "Accuracy Score: 0.6460674157303371\n",
            "Confusion Matrix: \n",
            "[[18 40  1]\n",
            " [ 7 50 14]\n",
            " [ 1  0 47]]\n",
            "Classification Report: \n",
            "              precision    recall  f1-score   support\n",
            "\n",
            "         1.0       0.69      0.31      0.42        59\n",
            "         2.0       0.56      0.70      0.62        71\n",
            "         3.0       0.76      0.98      0.85        48\n",
            "\n",
            "    accuracy                           0.65       178\n",
            "   macro avg       0.67      0.66      0.63       178\n",
            "weighted avg       0.66      0.65      0.62       178\n",
            "\n",
            "hidden_layer_size: 128,regularize_activation: 0.3,regularize_entropy: 0.1,regularize_ridge: 0.3\n",
            "KAN RESULTS\n"
          ]
        },
        {
          "output_type": "stream",
          "name": "stderr",
          "text": [
            "100%|██████████| 100/100 [00:02<00:00, 41.84it/s]\n"
          ]
        },
        {
          "output_type": "stream",
          "name": "stdout",
          "text": [
            "Accuracy Score: 0.6966292134831461\n",
            "Confusion Matrix: \n",
            "[[50  4  5]\n",
            " [16 48  7]\n",
            " [19  3 26]]\n",
            "Classification Report: \n",
            "              precision    recall  f1-score   support\n",
            "\n",
            "         1.0       0.59      0.85      0.69        59\n",
            "         2.0       0.87      0.68      0.76        71\n",
            "         3.0       0.68      0.54      0.60        48\n",
            "\n",
            "    accuracy                           0.70       178\n",
            "   macro avg       0.72      0.69      0.69       178\n",
            "weighted avg       0.73      0.70      0.70       178\n",
            "\n",
            "hidden_layer_size: 128,regularize_activation: 0.3,regularize_entropy: 0.1,regularize_ridge: 0.5\n",
            "KAN RESULTS\n"
          ]
        },
        {
          "output_type": "stream",
          "name": "stderr",
          "text": [
            "100%|██████████| 100/100 [00:03<00:00, 30.40it/s]\n"
          ]
        },
        {
          "output_type": "stream",
          "name": "stdout",
          "text": [
            "Accuracy Score: 0.7247191011235955\n",
            "Confusion Matrix: \n",
            "[[40 16  3]\n",
            " [11 52  8]\n",
            " [ 1 10 37]]\n",
            "Classification Report: \n",
            "              precision    recall  f1-score   support\n",
            "\n",
            "         1.0       0.77      0.68      0.72        59\n",
            "         2.0       0.67      0.73      0.70        71\n",
            "         3.0       0.77      0.77      0.77        48\n",
            "\n",
            "    accuracy                           0.72       178\n",
            "   macro avg       0.74      0.73      0.73       178\n",
            "weighted avg       0.73      0.72      0.73       178\n",
            "\n",
            "hidden_layer_size: 128,regularize_activation: 0.3,regularize_entropy: 0.1,regularize_ridge: 0.7\n",
            "KAN RESULTS\n"
          ]
        },
        {
          "output_type": "stream",
          "name": "stderr",
          "text": [
            "100%|██████████| 100/100 [00:02<00:00, 33.79it/s]\n"
          ]
        },
        {
          "output_type": "stream",
          "name": "stdout",
          "text": [
            "Accuracy Score: 0.6797752808988764\n",
            "Confusion Matrix: \n",
            "[[55  1  3]\n",
            " [21 19 31]\n",
            " [ 0  1 47]]\n",
            "Classification Report: \n",
            "              precision    recall  f1-score   support\n",
            "\n",
            "         1.0       0.72      0.93      0.81        59\n",
            "         2.0       0.90      0.27      0.41        71\n",
            "         3.0       0.58      0.98      0.73        48\n",
            "\n",
            "    accuracy                           0.68       178\n",
            "   macro avg       0.74      0.73      0.65       178\n",
            "weighted avg       0.76      0.68      0.63       178\n",
            "\n",
            "hidden_layer_size: 128,regularize_activation: 0.3,regularize_entropy: 0.3,regularize_ridge: 0.1\n",
            "KAN RESULTS\n"
          ]
        },
        {
          "output_type": "stream",
          "name": "stderr",
          "text": [
            "100%|██████████| 100/100 [00:02<00:00, 42.05it/s]\n"
          ]
        },
        {
          "output_type": "stream",
          "name": "stdout",
          "text": [
            "Accuracy Score: 0.6123595505617978\n",
            "Confusion Matrix: \n",
            "[[10 39 10]\n",
            " [ 2 52 17]\n",
            " [ 1  0 47]]\n",
            "Classification Report: \n",
            "              precision    recall  f1-score   support\n",
            "\n",
            "         1.0       0.77      0.17      0.28        59\n",
            "         2.0       0.57      0.73      0.64        71\n",
            "         3.0       0.64      0.98      0.77        48\n",
            "\n",
            "    accuracy                           0.61       178\n",
            "   macro avg       0.66      0.63      0.56       178\n",
            "weighted avg       0.65      0.61      0.56       178\n",
            "\n",
            "hidden_layer_size: 128,regularize_activation: 0.3,regularize_entropy: 0.3,regularize_ridge: 0.3\n",
            "KAN RESULTS\n"
          ]
        },
        {
          "output_type": "stream",
          "name": "stderr",
          "text": [
            "100%|██████████| 100/100 [00:02<00:00, 41.59it/s]\n"
          ]
        },
        {
          "output_type": "stream",
          "name": "stdout",
          "text": [
            "Accuracy Score: 0.601123595505618\n",
            "Confusion Matrix: \n",
            "[[44  7  8]\n",
            " [18 22 31]\n",
            " [ 2  5 41]]\n",
            "Classification Report: \n",
            "              precision    recall  f1-score   support\n",
            "\n",
            "         1.0       0.69      0.75      0.72        59\n",
            "         2.0       0.65      0.31      0.42        71\n",
            "         3.0       0.51      0.85      0.64        48\n",
            "\n",
            "    accuracy                           0.60       178\n",
            "   macro avg       0.62      0.64      0.59       178\n",
            "weighted avg       0.62      0.60      0.58       178\n",
            "\n",
            "hidden_layer_size: 128,regularize_activation: 0.3,regularize_entropy: 0.3,regularize_ridge: 0.5\n",
            "KAN RESULTS\n"
          ]
        },
        {
          "output_type": "stream",
          "name": "stderr",
          "text": [
            "100%|██████████| 100/100 [00:02<00:00, 40.75it/s]\n"
          ]
        },
        {
          "output_type": "stream",
          "name": "stdout",
          "text": [
            "Accuracy Score: 0.7415730337078652\n",
            "Confusion Matrix: \n",
            "[[47  1 11]\n",
            " [12 40 19]\n",
            " [ 1  2 45]]\n",
            "Classification Report: \n",
            "              precision    recall  f1-score   support\n",
            "\n",
            "         1.0       0.78      0.80      0.79        59\n",
            "         2.0       0.93      0.56      0.70        71\n",
            "         3.0       0.60      0.94      0.73        48\n",
            "\n",
            "    accuracy                           0.74       178\n",
            "   macro avg       0.77      0.77      0.74       178\n",
            "weighted avg       0.79      0.74      0.74       178\n",
            "\n",
            "hidden_layer_size: 128,regularize_activation: 0.3,regularize_entropy: 0.3,regularize_ridge: 0.7\n",
            "KAN RESULTS\n"
          ]
        },
        {
          "output_type": "stream",
          "name": "stderr",
          "text": [
            "100%|██████████| 100/100 [00:03<00:00, 33.00it/s]\n"
          ]
        },
        {
          "output_type": "stream",
          "name": "stdout",
          "text": [
            "Accuracy Score: 0.6797752808988764\n",
            "Confusion Matrix: \n",
            "[[26 20 13]\n",
            " [ 6 48 17]\n",
            " [ 0  1 47]]\n",
            "Classification Report: \n",
            "              precision    recall  f1-score   support\n",
            "\n",
            "         1.0       0.81      0.44      0.57        59\n",
            "         2.0       0.70      0.68      0.69        71\n",
            "         3.0       0.61      0.98      0.75        48\n",
            "\n",
            "    accuracy                           0.68       178\n",
            "   macro avg       0.71      0.70      0.67       178\n",
            "weighted avg       0.71      0.68      0.67       178\n",
            "\n",
            "hidden_layer_size: 128,regularize_activation: 0.3,regularize_entropy: 0.5,regularize_ridge: 0.1\n",
            "KAN RESULTS\n"
          ]
        },
        {
          "output_type": "stream",
          "name": "stderr",
          "text": [
            "100%|██████████| 100/100 [00:03<00:00, 29.98it/s]\n"
          ]
        },
        {
          "output_type": "stream",
          "name": "stdout",
          "text": [
            "Accuracy Score: 0.6685393258426966\n",
            "Confusion Matrix: \n",
            "[[41 18  0]\n",
            " [19 31 21]\n",
            " [ 0  1 47]]\n",
            "Classification Report: \n",
            "              precision    recall  f1-score   support\n",
            "\n",
            "         1.0       0.68      0.69      0.69        59\n",
            "         2.0       0.62      0.44      0.51        71\n",
            "         3.0       0.69      0.98      0.81        48\n",
            "\n",
            "    accuracy                           0.67       178\n",
            "   macro avg       0.66      0.70      0.67       178\n",
            "weighted avg       0.66      0.67      0.65       178\n",
            "\n",
            "hidden_layer_size: 128,regularize_activation: 0.3,regularize_entropy: 0.5,regularize_ridge: 0.3\n",
            "KAN RESULTS\n"
          ]
        },
        {
          "output_type": "stream",
          "name": "stderr",
          "text": [
            "100%|██████████| 100/100 [00:02<00:00, 40.56it/s]\n"
          ]
        },
        {
          "output_type": "stream",
          "name": "stdout",
          "text": [
            "Accuracy Score: 0.4550561797752809\n",
            "Confusion Matrix: \n",
            "[[30 28  1]\n",
            " [ 1 36 34]\n",
            " [32  1 15]]\n",
            "Classification Report: \n",
            "              precision    recall  f1-score   support\n",
            "\n",
            "         1.0       0.48      0.51      0.49        59\n",
            "         2.0       0.55      0.51      0.53        71\n",
            "         3.0       0.30      0.31      0.31        48\n",
            "\n",
            "    accuracy                           0.46       178\n",
            "   macro avg       0.44      0.44      0.44       178\n",
            "weighted avg       0.46      0.46      0.46       178\n",
            "\n",
            "hidden_layer_size: 128,regularize_activation: 0.3,regularize_entropy: 0.5,regularize_ridge: 0.5\n",
            "KAN RESULTS\n"
          ]
        },
        {
          "output_type": "stream",
          "name": "stderr",
          "text": [
            "100%|██████████| 100/100 [00:02<00:00, 41.37it/s]\n"
          ]
        },
        {
          "output_type": "stream",
          "name": "stdout",
          "text": [
            "Accuracy Score: 0.6348314606741573\n",
            "Confusion Matrix: \n",
            "[[49 10  0]\n",
            " [15 28 28]\n",
            " [ 3  9 36]]\n",
            "Classification Report: \n",
            "              precision    recall  f1-score   support\n",
            "\n",
            "         1.0       0.73      0.83      0.78        59\n",
            "         2.0       0.60      0.39      0.47        71\n",
            "         3.0       0.56      0.75      0.64        48\n",
            "\n",
            "    accuracy                           0.63       178\n",
            "   macro avg       0.63      0.66      0.63       178\n",
            "weighted avg       0.63      0.63      0.62       178\n",
            "\n",
            "hidden_layer_size: 128,regularize_activation: 0.3,regularize_entropy: 0.5,regularize_ridge: 0.7\n",
            "KAN RESULTS\n"
          ]
        },
        {
          "output_type": "stream",
          "name": "stderr",
          "text": [
            "100%|██████████| 100/100 [00:02<00:00, 41.22it/s]\n"
          ]
        },
        {
          "output_type": "stream",
          "name": "stdout",
          "text": [
            "Accuracy Score: 0.7134831460674157\n",
            "Confusion Matrix: \n",
            "[[48  8  3]\n",
            " [18 32 21]\n",
            " [ 1  0 47]]\n",
            "Classification Report: \n",
            "              precision    recall  f1-score   support\n",
            "\n",
            "         1.0       0.72      0.81      0.76        59\n",
            "         2.0       0.80      0.45      0.58        71\n",
            "         3.0       0.66      0.98      0.79        48\n",
            "\n",
            "    accuracy                           0.71       178\n",
            "   macro avg       0.73      0.75      0.71       178\n",
            "weighted avg       0.74      0.71      0.70       178\n",
            "\n",
            "hidden_layer_size: 128,regularize_activation: 0.5,regularize_entropy: 0.1,regularize_ridge: 0.1\n",
            "KAN RESULTS\n"
          ]
        },
        {
          "output_type": "stream",
          "name": "stderr",
          "text": [
            "100%|██████████| 100/100 [00:02<00:00, 36.49it/s]\n"
          ]
        },
        {
          "output_type": "stream",
          "name": "stdout",
          "text": [
            "Accuracy Score: 0.651685393258427\n",
            "Confusion Matrix: \n",
            "[[56  3  0]\n",
            " [18 38 15]\n",
            " [ 8 18 22]]\n",
            "Classification Report: \n",
            "              precision    recall  f1-score   support\n",
            "\n",
            "         1.0       0.68      0.95      0.79        59\n",
            "         2.0       0.64      0.54      0.58        71\n",
            "         3.0       0.59      0.46      0.52        48\n",
            "\n",
            "    accuracy                           0.65       178\n",
            "   macro avg       0.64      0.65      0.63       178\n",
            "weighted avg       0.64      0.65      0.64       178\n",
            "\n",
            "hidden_layer_size: 128,regularize_activation: 0.5,regularize_entropy: 0.1,regularize_ridge: 0.3\n",
            "KAN RESULTS\n"
          ]
        },
        {
          "output_type": "stream",
          "name": "stderr",
          "text": [
            " 59%|█████▉    | 59/100 [00:02<00:01, 26.58it/s]\n"
          ]
        },
        {
          "output_type": "stream",
          "name": "stdout",
          "text": [
            "\tEarly stopping\n",
            "Accuracy Score: 0.8595505617977528\n",
            "Confusion Matrix: \n",
            "[[50  1  8]\n",
            " [ 1 63  7]\n",
            " [ 2  6 40]]\n",
            "Classification Report: \n",
            "              precision    recall  f1-score   support\n",
            "\n",
            "         1.0       0.94      0.85      0.89        59\n",
            "         2.0       0.90      0.89      0.89        71\n",
            "         3.0       0.73      0.83      0.78        48\n",
            "\n",
            "    accuracy                           0.86       178\n",
            "   macro avg       0.86      0.86      0.85       178\n",
            "weighted avg       0.87      0.86      0.86       178\n",
            "\n",
            "hidden_layer_size: 128,regularize_activation: 0.5,regularize_entropy: 0.1,regularize_ridge: 0.5\n",
            "KAN RESULTS\n"
          ]
        },
        {
          "output_type": "stream",
          "name": "stderr",
          "text": [
            "100%|██████████| 100/100 [00:02<00:00, 34.78it/s]\n"
          ]
        },
        {
          "output_type": "stream",
          "name": "stdout",
          "text": [
            "Accuracy Score: 0.651685393258427\n",
            "Confusion Matrix: \n",
            "[[25  2 32]\n",
            " [12 54  5]\n",
            " [ 1 10 37]]\n",
            "Classification Report: \n",
            "              precision    recall  f1-score   support\n",
            "\n",
            "         1.0       0.66      0.42      0.52        59\n",
            "         2.0       0.82      0.76      0.79        71\n",
            "         3.0       0.50      0.77      0.61        48\n",
            "\n",
            "    accuracy                           0.65       178\n",
            "   macro avg       0.66      0.65      0.64       178\n",
            "weighted avg       0.68      0.65      0.65       178\n",
            "\n",
            "hidden_layer_size: 128,regularize_activation: 0.5,regularize_entropy: 0.1,regularize_ridge: 0.7\n",
            "KAN RESULTS\n"
          ]
        },
        {
          "output_type": "stream",
          "name": "stderr",
          "text": [
            " 58%|█████▊    | 58/100 [00:01<00:01, 40.07it/s]\n"
          ]
        },
        {
          "output_type": "stream",
          "name": "stdout",
          "text": [
            "\tEarly stopping\n",
            "Accuracy Score: 0.8258426966292135\n",
            "Confusion Matrix: \n",
            "[[54  4  1]\n",
            " [ 6 49 16]\n",
            " [ 2  2 44]]\n",
            "Classification Report: \n",
            "              precision    recall  f1-score   support\n",
            "\n",
            "         1.0       0.87      0.92      0.89        59\n",
            "         2.0       0.89      0.69      0.78        71\n",
            "         3.0       0.72      0.92      0.81        48\n",
            "\n",
            "    accuracy                           0.83       178\n",
            "   macro avg       0.83      0.84      0.83       178\n",
            "weighted avg       0.84      0.83      0.82       178\n",
            "\n",
            "hidden_layer_size: 128,regularize_activation: 0.5,regularize_entropy: 0.3,regularize_ridge: 0.1\n",
            "KAN RESULTS\n"
          ]
        },
        {
          "output_type": "stream",
          "name": "stderr",
          "text": [
            "100%|██████████| 100/100 [00:02<00:00, 39.46it/s]\n"
          ]
        },
        {
          "output_type": "stream",
          "name": "stdout",
          "text": [
            "Accuracy Score: 0.7528089887640449\n",
            "Confusion Matrix: \n",
            "[[48  9  2]\n",
            " [ 7 56  8]\n",
            " [ 1 17 30]]\n",
            "Classification Report: \n",
            "              precision    recall  f1-score   support\n",
            "\n",
            "         1.0       0.86      0.81      0.83        59\n",
            "         2.0       0.68      0.79      0.73        71\n",
            "         3.0       0.75      0.62      0.68        48\n",
            "\n",
            "    accuracy                           0.75       178\n",
            "   macro avg       0.76      0.74      0.75       178\n",
            "weighted avg       0.76      0.75      0.75       178\n",
            "\n",
            "hidden_layer_size: 128,regularize_activation: 0.5,regularize_entropy: 0.3,regularize_ridge: 0.3\n",
            "KAN RESULTS\n"
          ]
        },
        {
          "output_type": "stream",
          "name": "stderr",
          "text": [
            "100%|██████████| 100/100 [00:02<00:00, 39.65it/s]\n"
          ]
        },
        {
          "output_type": "stream",
          "name": "stdout",
          "text": [
            "Accuracy Score: 0.5449438202247191\n",
            "Confusion Matrix: \n",
            "[[20 35  4]\n",
            " [23 31 17]\n",
            " [ 2  0 46]]\n",
            "Classification Report: \n",
            "              precision    recall  f1-score   support\n",
            "\n",
            "         1.0       0.44      0.34      0.38        59\n",
            "         2.0       0.47      0.44      0.45        71\n",
            "         3.0       0.69      0.96      0.80        48\n",
            "\n",
            "    accuracy                           0.54       178\n",
            "   macro avg       0.53      0.58      0.55       178\n",
            "weighted avg       0.52      0.54      0.52       178\n",
            "\n",
            "hidden_layer_size: 128,regularize_activation: 0.5,regularize_entropy: 0.3,regularize_ridge: 0.5\n",
            "KAN RESULTS\n"
          ]
        },
        {
          "output_type": "stream",
          "name": "stderr",
          "text": [
            " 63%|██████▎   | 63/100 [00:01<00:00, 38.16it/s]\n"
          ]
        },
        {
          "output_type": "stream",
          "name": "stdout",
          "text": [
            "\tEarly stopping\n",
            "Accuracy Score: 0.702247191011236\n",
            "Confusion Matrix: \n",
            "[[58  0  1]\n",
            " [37 19 15]\n",
            " [ 0  0 48]]\n",
            "Classification Report: \n",
            "              precision    recall  f1-score   support\n",
            "\n",
            "         1.0       0.61      0.98      0.75        59\n",
            "         2.0       1.00      0.27      0.42        71\n",
            "         3.0       0.75      1.00      0.86        48\n",
            "\n",
            "    accuracy                           0.70       178\n",
            "   macro avg       0.79      0.75      0.68       178\n",
            "weighted avg       0.80      0.70      0.65       178\n",
            "\n",
            "hidden_layer_size: 128,regularize_activation: 0.5,regularize_entropy: 0.3,regularize_ridge: 0.7\n",
            "KAN RESULTS\n"
          ]
        },
        {
          "output_type": "stream",
          "name": "stderr",
          "text": [
            "100%|██████████| 100/100 [00:03<00:00, 26.96it/s]\n"
          ]
        },
        {
          "output_type": "stream",
          "name": "stdout",
          "text": [
            "Accuracy Score: 0.7584269662921348\n",
            "Confusion Matrix: \n",
            "[[57  0  2]\n",
            " [12 51  8]\n",
            " [20  1 27]]\n",
            "Classification Report: \n",
            "              precision    recall  f1-score   support\n",
            "\n",
            "         1.0       0.64      0.97      0.77        59\n",
            "         2.0       0.98      0.72      0.83        71\n",
            "         3.0       0.73      0.56      0.64        48\n",
            "\n",
            "    accuracy                           0.76       178\n",
            "   macro avg       0.78      0.75      0.74       178\n",
            "weighted avg       0.80      0.76      0.76       178\n",
            "\n",
            "hidden_layer_size: 128,regularize_activation: 0.5,regularize_entropy: 0.5,regularize_ridge: 0.1\n",
            "KAN RESULTS\n"
          ]
        },
        {
          "output_type": "stream",
          "name": "stderr",
          "text": [
            "100%|██████████| 100/100 [00:02<00:00, 37.29it/s]\n"
          ]
        },
        {
          "output_type": "stream",
          "name": "stdout",
          "text": [
            "Accuracy Score: 0.6910112359550562\n",
            "Confusion Matrix: \n",
            "[[42  8  9]\n",
            " [ 7 45 19]\n",
            " [ 3  9 36]]\n",
            "Classification Report: \n",
            "              precision    recall  f1-score   support\n",
            "\n",
            "         1.0       0.81      0.71      0.76        59\n",
            "         2.0       0.73      0.63      0.68        71\n",
            "         3.0       0.56      0.75      0.64        48\n",
            "\n",
            "    accuracy                           0.69       178\n",
            "   macro avg       0.70      0.70      0.69       178\n",
            "weighted avg       0.71      0.69      0.69       178\n",
            "\n",
            "hidden_layer_size: 128,regularize_activation: 0.5,regularize_entropy: 0.5,regularize_ridge: 0.3\n",
            "KAN RESULTS\n"
          ]
        },
        {
          "output_type": "stream",
          "name": "stderr",
          "text": [
            "100%|██████████| 100/100 [00:02<00:00, 40.28it/s]\n"
          ]
        },
        {
          "output_type": "stream",
          "name": "stdout",
          "text": [
            "Accuracy Score: 0.6460674157303371\n",
            "Confusion Matrix: \n",
            "[[58  1  0]\n",
            " [20 29 22]\n",
            " [ 4 16 28]]\n",
            "Classification Report: \n",
            "              precision    recall  f1-score   support\n",
            "\n",
            "         1.0       0.71      0.98      0.82        59\n",
            "         2.0       0.63      0.41      0.50        71\n",
            "         3.0       0.56      0.58      0.57        48\n",
            "\n",
            "    accuracy                           0.65       178\n",
            "   macro avg       0.63      0.66      0.63       178\n",
            "weighted avg       0.64      0.65      0.62       178\n",
            "\n",
            "hidden_layer_size: 128,regularize_activation: 0.5,regularize_entropy: 0.5,regularize_ridge: 0.5\n",
            "KAN RESULTS\n"
          ]
        },
        {
          "output_type": "stream",
          "name": "stderr",
          "text": [
            " 60%|██████    | 60/100 [00:01<00:01, 39.93it/s]"
          ]
        },
        {
          "output_type": "stream",
          "name": "stdout",
          "text": [
            "\tEarly stopping\n",
            "Accuracy Score: 0.39325842696629215\n",
            "Confusion Matrix: \n",
            "[[41 14  4]\n",
            " [56 11  4]\n",
            " [25  5 18]]\n",
            "Classification Report: \n",
            "              precision    recall  f1-score   support\n",
            "\n",
            "         1.0       0.34      0.69      0.45        59\n",
            "         2.0       0.37      0.15      0.22        71\n",
            "         3.0       0.69      0.38      0.49        48\n",
            "\n",
            "    accuracy                           0.39       178\n",
            "   macro avg       0.47      0.41      0.39       178\n",
            "weighted avg       0.44      0.39      0.37       178\n",
            "\n",
            "hidden_layer_size: 128,regularize_activation: 0.5,regularize_entropy: 0.5,regularize_ridge: 0.7\n",
            "Kan Accuracy = [0.7247191011235955, 0.42696629213483145, 0.6404494382022472, 0.5842696629213483, 0.7359550561797753, 0.4550561797752809, 0.6235955056179775, 0.5674157303370787, 0.6292134831460674, 0.5449438202247191, 0.47191011235955055, 0.38764044943820225, 0.33146067415730335, 0.5112359550561798, 0.550561797752809, 0.37640449438202245, 0.5224719101123596, 0.48314606741573035, 0.21348314606741572, 0.5842696629213483, 0.48314606741573035, 0.7528089887640449, 0.7808988764044944, 0.550561797752809, 0.5, 0.5786516853932584, 0.6460674157303371, 0.4943820224719101, 0.4606741573033708, 0.5674157303370787, 0.550561797752809, 0.48314606741573035, 0.6910112359550562, 0.6348314606741573, 0.6685393258426966, 0.5056179775280899, 0.48314606741573035, 0.4887640449438202, 0.2752808988764045, 0.6292134831460674, 0.7471910112359551, 0.4157303370786517, 0.5955056179775281, 0.48314606741573035, 0.20786516853932585, 0.3258426966292135, 0.29775280898876405, 0.23595505617977527, 0.6573033707865169, 0.5224719101123596, 0.3707865168539326, 0.34269662921348315, 0.43258426966292135, 0.6235955056179775, 0.4044943820224719, 0.5168539325842697, 0.37640449438202245, 0.6123595505617978, 0.43258426966292135, 0.6629213483146067, 0.30337078651685395, 0.449438202247191, 0.14606741573033707, 0.2808988764044944, 0.4606741573033708, 0.2640449438202247, 0.24719101123595505, 0.7415730337078652, 0.25280898876404495, 0.7640449438202247, 0.3146067415730337, 0.5617977528089888, 0.5449438202247191, 0.47191011235955055, 0.550561797752809, 0.6629213483146067, 0.24157303370786518, 0.5561797752808989, 0.5730337078651685, 0.3202247191011236, 0.5955056179775281, 0.33146067415730335, 0.5898876404494382, 0.07865168539325842, 0.33707865168539325, 0.3258426966292135, 0.3707865168539326, 0.3707865168539326, 0.24719101123595505, 0.33707865168539325, 0.43258426966292135, 0.34269662921348315, 0.5280898876404494, 0.2247191011235955, 0.6123595505617978, 0.3202247191011236, 0.3202247191011236, 0.3202247191011236, 0.21910112359550563, 0.7808988764044944, 0.5786516853932584, 0.601123595505618, 0.16292134831460675, 0.11797752808988764, 0.34269662921348315, 0.6853932584269663, 0.12359550561797752, 0.7191011235955056, 0.42134831460674155, 0.7303370786516854, 0.5786516853932584, 0.6348314606741573, 0.6966292134831461, 0.6910112359550562, 0.5168539325842697, 0.8314606741573034, 0.6629213483146067, 0.702247191011236, 0.7471910112359551, 0.7471910112359551, 0.5449438202247191, 0.6460674157303371, 0.6966292134831461, 0.7247191011235955, 0.6797752808988764, 0.6123595505617978, 0.601123595505618, 0.7415730337078652, 0.6797752808988764, 0.6685393258426966, 0.4550561797752809, 0.6348314606741573, 0.7134831460674157, 0.651685393258427, 0.8595505617977528, 0.651685393258427, 0.8258426966292135, 0.7528089887640449, 0.5449438202247191, 0.702247191011236, 0.7584269662921348, 0.6910112359550562, 0.6460674157303371, 0.39325842696629215]\n",
            "Hyperparameters = [(64, 0.1, 0.1, 0.1, 4), (64, 0.1, 0.1, 0.3, 4), (64, 0.1, 0.1, 0.5, 4), (64, 0.1, 0.1, 0.7, 4), (64, 0.1, 0.3, 0.1, 4), (64, 0.1, 0.3, 0.3, 4), (64, 0.1, 0.3, 0.5, 4), (64, 0.1, 0.3, 0.7, 4), (64, 0.1, 0.5, 0.1, 4), (64, 0.1, 0.5, 0.3, 4), (64, 0.1, 0.5, 0.5, 4), (64, 0.1, 0.5, 0.7, 4), (64, 0.3, 0.1, 0.1, 4), (64, 0.3, 0.1, 0.3, 4), (64, 0.3, 0.1, 0.5, 4), (64, 0.3, 0.1, 0.7, 4), (64, 0.3, 0.3, 0.1, 4), (64, 0.3, 0.3, 0.3, 4), (64, 0.3, 0.3, 0.5, 4), (64, 0.3, 0.3, 0.7, 4), (64, 0.3, 0.5, 0.1, 4), (64, 0.3, 0.5, 0.3, 4), (64, 0.3, 0.5, 0.5, 4), (64, 0.3, 0.5, 0.7, 4), (64, 0.5, 0.1, 0.1, 4), (64, 0.5, 0.1, 0.3, 4), (64, 0.5, 0.1, 0.5, 4), (64, 0.5, 0.1, 0.7, 4), (64, 0.5, 0.3, 0.1, 4), (64, 0.5, 0.3, 0.3, 4), (64, 0.5, 0.3, 0.5, 4), (64, 0.5, 0.3, 0.7, 4), (64, 0.5, 0.5, 0.1, 4), (64, 0.5, 0.5, 0.3, 4), (64, 0.5, 0.5, 0.5, 4), (64, 0.5, 0.5, 0.7, 4), (32, 0.1, 0.1, 0.1, 4), (32, 0.1, 0.1, 0.3, 4), (32, 0.1, 0.1, 0.5, 4), (32, 0.1, 0.1, 0.7, 4), (32, 0.1, 0.3, 0.1, 4), (32, 0.1, 0.3, 0.3, 4), (32, 0.1, 0.3, 0.5, 4), (32, 0.1, 0.3, 0.7, 4), (32, 0.1, 0.5, 0.1, 4), (32, 0.1, 0.5, 0.3, 4), (32, 0.1, 0.5, 0.5, 4), (32, 0.1, 0.5, 0.7, 4), (32, 0.3, 0.1, 0.1, 4), (32, 0.3, 0.1, 0.3, 4), (32, 0.3, 0.1, 0.5, 4), (32, 0.3, 0.1, 0.7, 4), (32, 0.3, 0.3, 0.1, 4), (32, 0.3, 0.3, 0.3, 4), (32, 0.3, 0.3, 0.5, 4), (32, 0.3, 0.3, 0.7, 4), (32, 0.3, 0.5, 0.1, 4), (32, 0.3, 0.5, 0.3, 4), (32, 0.3, 0.5, 0.5, 4), (32, 0.3, 0.5, 0.7, 4), (32, 0.5, 0.1, 0.1, 4), (32, 0.5, 0.1, 0.3, 4), (32, 0.5, 0.1, 0.5, 4), (32, 0.5, 0.1, 0.7, 4), (32, 0.5, 0.3, 0.1, 4), (32, 0.5, 0.3, 0.3, 4), (32, 0.5, 0.3, 0.5, 4), (32, 0.5, 0.3, 0.7, 4), (32, 0.5, 0.5, 0.1, 4), (32, 0.5, 0.5, 0.3, 4), (32, 0.5, 0.5, 0.5, 4), (32, 0.5, 0.5, 0.7, 4), (27, 0.1, 0.1, 0.1, 4), (27, 0.1, 0.1, 0.3, 4), (27, 0.1, 0.1, 0.5, 4), (27, 0.1, 0.1, 0.7, 4), (27, 0.1, 0.3, 0.1, 4), (27, 0.1, 0.3, 0.3, 4), (27, 0.1, 0.3, 0.5, 4), (27, 0.1, 0.3, 0.7, 4), (27, 0.1, 0.5, 0.1, 4), (27, 0.1, 0.5, 0.3, 4), (27, 0.1, 0.5, 0.5, 4), (27, 0.1, 0.5, 0.7, 4), (27, 0.3, 0.1, 0.1, 4), (27, 0.3, 0.1, 0.3, 4), (27, 0.3, 0.1, 0.5, 4), (27, 0.3, 0.1, 0.7, 4), (27, 0.3, 0.3, 0.1, 4), (27, 0.3, 0.3, 0.3, 4), (27, 0.3, 0.3, 0.5, 4), (27, 0.3, 0.3, 0.7, 4), (27, 0.3, 0.5, 0.1, 4), (27, 0.3, 0.5, 0.3, 4), (27, 0.3, 0.5, 0.5, 4), (27, 0.3, 0.5, 0.7, 4), (27, 0.5, 0.1, 0.1, 4), (27, 0.5, 0.1, 0.3, 4), (27, 0.5, 0.1, 0.5, 4), (27, 0.5, 0.1, 0.7, 4), (27, 0.5, 0.3, 0.1, 4), (27, 0.5, 0.3, 0.3, 4), (27, 0.5, 0.3, 0.5, 4), (27, 0.5, 0.3, 0.7, 4), (27, 0.5, 0.5, 0.1, 4), (27, 0.5, 0.5, 0.3, 4), (27, 0.5, 0.5, 0.5, 4), (27, 0.5, 0.5, 0.7, 4), (128, 0.1, 0.1, 0.1, 4), (128, 0.1, 0.1, 0.3, 4), (128, 0.1, 0.1, 0.5, 4), (128, 0.1, 0.1, 0.7, 4), (128, 0.1, 0.3, 0.1, 4), (128, 0.1, 0.3, 0.3, 4), (128, 0.1, 0.3, 0.5, 4), (128, 0.1, 0.3, 0.7, 4), (128, 0.1, 0.5, 0.1, 4), (128, 0.1, 0.5, 0.3, 4), (128, 0.1, 0.5, 0.5, 4), (128, 0.1, 0.5, 0.7, 4), (128, 0.3, 0.1, 0.1, 4), (128, 0.3, 0.1, 0.3, 4), (128, 0.3, 0.1, 0.5, 4), (128, 0.3, 0.1, 0.7, 4), (128, 0.3, 0.3, 0.1, 4), (128, 0.3, 0.3, 0.3, 4), (128, 0.3, 0.3, 0.5, 4), (128, 0.3, 0.3, 0.7, 4), (128, 0.3, 0.5, 0.1, 4), (128, 0.3, 0.5, 0.3, 4), (128, 0.3, 0.5, 0.5, 4), (128, 0.3, 0.5, 0.7, 4), (128, 0.5, 0.1, 0.1, 4), (128, 0.5, 0.1, 0.3, 4), (128, 0.5, 0.1, 0.5, 4), (128, 0.5, 0.1, 0.7, 4), (128, 0.5, 0.3, 0.1, 4), (128, 0.5, 0.3, 0.3, 4), (128, 0.5, 0.3, 0.5, 4), (128, 0.5, 0.3, 0.7, 4), (128, 0.5, 0.5, 0.1, 4), (128, 0.5, 0.5, 0.3, 4), (128, 0.5, 0.5, 0.5, 4), (128, 0.5, 0.5, 0.7, 4)]\n",
            "0.8595505617977528\n",
            "Best Hyperparameters = (128, 0.5, 0.1, 0.5, 4)\n"
          ]
        },
        {
          "output_type": "stream",
          "name": "stderr",
          "text": [
            "\n"
          ]
        }
      ]
    }
  ]
}